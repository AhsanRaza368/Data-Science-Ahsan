{
 "cells": [
  {
   "cell_type": "code",
   "execution_count": null,
   "id": "e5276109-e38c-4b56-b0ef-8a71fce7f9ee",
   "metadata": {},
   "outputs": [],
   "source": [
    "# !pip install tensorflow\n",
    "!pip install tensorflow --upgrade\n"
   ]
  },
  {
   "cell_type": "code",
   "execution_count": 6,
   "id": "765058e3-7811-4ee4-a15b-ade04f595901",
   "metadata": {},
   "outputs": [
    {
     "ename": "ModuleNotFoundError",
     "evalue": "No module named 'tensorflow'",
     "output_type": "error",
     "traceback": [
      "\u001b[1;31m---------------------------------------------------------------------------\u001b[0m",
      "\u001b[1;31mModuleNotFoundError\u001b[0m                       Traceback (most recent call last)",
      "Cell \u001b[1;32mIn[6], line 3\u001b[0m\n\u001b[0;32m      1\u001b[0m \u001b[38;5;28;01mimport\u001b[39;00m \u001b[38;5;21;01mnumpy\u001b[39;00m \u001b[38;5;28;01mas\u001b[39;00m \u001b[38;5;21;01mnp\u001b[39;00m\n\u001b[0;32m      2\u001b[0m \u001b[38;5;28;01mimport\u001b[39;00m \u001b[38;5;21;01mmatplotlib\u001b[39;00m\u001b[38;5;21;01m.\u001b[39;00m\u001b[38;5;21;01mpyplot\u001b[39;00m \u001b[38;5;28;01mas\u001b[39;00m \u001b[38;5;21;01mplt\u001b[39;00m\n\u001b[1;32m----> 3\u001b[0m \u001b[38;5;28;01mimport\u001b[39;00m \u001b[38;5;21;01mtensorflow\u001b[39;00m \u001b[38;5;28;01mas\u001b[39;00m \u001b[38;5;21;01mtf\u001b[39;00m\n\u001b[0;32m      4\u001b[0m \u001b[38;5;28;01mfrom\u001b[39;00m \u001b[38;5;21;01mtensorflow\u001b[39;00m \u001b[38;5;28;01mimport\u001b[39;00m keras\n\u001b[0;32m      5\u001b[0m \u001b[38;5;28;01mfrom\u001b[39;00m \u001b[38;5;21;01mtensorflow\u001b[39;00m\u001b[38;5;21;01m.\u001b[39;00m\u001b[38;5;21;01mkeras\u001b[39;00m \u001b[38;5;28;01mimport\u001b[39;00m layers\n",
      "\u001b[1;31mModuleNotFoundError\u001b[0m: No module named 'tensorflow'"
     ]
    }
   ],
   "source": [
    "import numpy as np\n",
    "import matplotlib.pyplot as plt\n",
    "import tensorflow as tf\n",
    "from tensorflow import keras\n",
    "from tensorflow.keras import layers\n"
   ]
  },
  {
   "cell_type": "markdown",
   "id": "3071861a-e451-4e21-999b-5db5b0497ac3",
   "metadata": {},
   "source": [
    "# Generate input data\n",
    "X = np.linspace(0, 1, 100).reshape(-1, 1)\n",
    "\n",
    "# Generate target output\n",
    "y = 3 * X.squeeze() + np.random.randn(100) * 0.1\n"
   ]
  },
  {
   "cell_type": "markdown",
   "id": "a74dbc99-07ba-4e62-94b0-84948034f0da",
   "metadata": {},
   "source": [
    "<h1> Build the ANN Model</h1>"
   ]
  },
  {
   "cell_type": "code",
   "execution_count": null,
   "id": "1fdf7bb5-b1a7-4b71-8211-d4c29662ad4e",
   "metadata": {},
   "outputs": [],
   "source": [
    "# Build the ANN model\n",
    "model = keras.Sequential([\n",
    "    layers.Dense(16, activation='relu', input_shape=(1,)),  # 1st hidden layer\n",
    "    layers.Dense(8, activation='relu'),                     # 2nd hidden layer\n",
    "    layers.Dense(1)                                          # Output layer (no activation for regression)\n",
    "])\n"
   ]
  },
  {
   "cell_type": "markdown",
   "id": "6303fc33-e2e8-4576-ab17-f7ef7dac072b",
   "metadata": {},
   "source": [
    "<h1>Compile the Model</h1>"
   ]
  },
  {
   "cell_type": "code",
   "execution_count": null,
   "id": "6875b944-b1d5-4170-8ef1-30cb64d6f6c2",
   "metadata": {},
   "outputs": [],
   "source": [
    "model.compile(optimizer='adam', loss='mean_squared_error')\n"
   ]
  },
  {
   "cell_type": "markdown",
   "id": "3c5ea286-c21a-4b07-a801-cde57e9ecb35",
   "metadata": {},
   "source": [
    "<h1>Train (Fit) the Model</h1>"
   ]
  },
  {
   "cell_type": "code",
   "execution_count": null,
   "id": "0fecc6a8-1a87-42f0-9717-996368476176",
   "metadata": {},
   "outputs": [],
   "source": [
    "history = model.fit(X, y, epochs=300, verbose=1)\n"
   ]
  },
  {
   "cell_type": "markdown",
   "id": "463e2d1f-7eba-42f8-8e2a-1f06b24d2b0d",
   "metadata": {},
   "source": [
    "<h1>Plot Training Loss</h1>"
   ]
  },
  {
   "cell_type": "code",
   "execution_count": null,
   "id": "70add28d-ddd0-412e-8b87-8f53bdd4f4f2",
   "metadata": {},
   "outputs": [],
   "source": [
    "# Plot training loss over epochs\n",
    "plt.plot(history.history['loss'])\n",
    "plt.title('Model Loss During Training')\n",
    "plt.xlabel('Epoch')\n",
    "plt.ylabel('Mean Squared Error')\n",
    "plt.show()\n"
   ]
  },
  {
   "cell_type": "markdown",
   "id": "d13fd2de-b19b-4f9e-892c-d5a4d521322d",
   "metadata": {},
   "source": [
    "<h1>Predict and Plot Results</h1>"
   ]
  },
  {
   "cell_type": "code",
   "execution_count": null,
   "id": "941e41c8-b137-4d57-9fee-2580cbb85514",
   "metadata": {},
   "outputs": [],
   "source": [
    "# Predict using the trained model\n",
    "y_pred = model.predict(X)\n",
    "\n",
    "# Plot true vs predicted values\n",
    "plt.scatter(X, y, label='True Data', color='blue')\n",
    "plt.plot(X, y_pred, label='Predicted Line', color='red')\n",
    "plt.title('Regression with ANN (TensorFlow)')\n",
    "plt.xlabel('Input Feature')\n",
    "plt.ylabel('Target Output')\n",
    "plt.legend()\n",
    "plt.show()\n"
   ]
  }
 ],
 "metadata": {
  "kernelspec": {
   "display_name": "Python [conda env:base] *",
   "language": "python",
   "name": "conda-base-py"
  },
  "language_info": {
   "codemirror_mode": {
    "name": "ipython",
    "version": 3
   },
   "file_extension": ".py",
   "mimetype": "text/x-python",
   "name": "python",
   "nbconvert_exporter": "python",
   "pygments_lexer": "ipython3",
   "version": "3.12.7"
  }
 },
 "nbformat": 4,
 "nbformat_minor": 5
}
