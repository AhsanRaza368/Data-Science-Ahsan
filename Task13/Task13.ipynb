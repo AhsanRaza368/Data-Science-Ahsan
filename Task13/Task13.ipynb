{
 "cells": [
  {
   "cell_type": "markdown",
   "id": "ded5c5d9-4125-459e-82da-573f1ea0b659",
   "metadata": {},
   "source": [
    "<h1> 1.\tLoad a DataFrame from a CSV file. Display the first and last five rows of the DataFrame. </h1>"
   ]
  },
  {
   "cell_type": "code",
   "execution_count": 368,
   "id": "e405bdc2-748b-4ac7-a226-983a9d7eb5a5",
   "metadata": {},
   "outputs": [
    {
     "name": "stdout",
     "output_type": "stream",
     "text": [
      "             Date       Open       High        Low      Close  Adj Close  \\\n",
      "0      1972-08-25   0.021159   0.021566   0.021159   0.021484   0.011639   \n",
      "1      1972-08-28   0.021484   0.021647   0.021403   0.021403   0.011595   \n",
      "2      1972-08-29   0.021322   0.021322   0.021159   0.021159   0.011463   \n",
      "3      1972-08-30   0.021159   0.021159   0.020996   0.021159   0.011463   \n",
      "4      1972-08-31   0.020996   0.020996   0.020833   0.020833   0.011286   \n",
      "...           ...        ...        ...        ...        ...        ...   \n",
      "13213  2025-01-24  93.540001  95.010002  93.459999  94.760002  94.760002   \n",
      "13214  2025-01-27  95.900002  97.459999  94.820000  97.400002  97.400002   \n",
      "13215  2025-01-28  97.230003  97.839996  96.730003  97.290001  97.290001   \n",
      "13216  2025-01-29  97.430000  98.169998  97.220001  97.500000  97.500000   \n",
      "13217  2025-01-30  97.690002  98.930000  97.419998  98.650002  98.650002   \n",
      "\n",
      "         Volume  \n",
      "0       7526400  \n",
      "1       2918400  \n",
      "2       5836800  \n",
      "3       1228800  \n",
      "4       2611200  \n",
      "...         ...  \n",
      "13213  14973800  \n",
      "13214  18880600  \n",
      "13215  14641600  \n",
      "13216  11261400  \n",
      "13217  11000100  \n",
      "\n",
      "[13218 rows x 7 columns]\n"
     ]
    }
   ],
   "source": [
    "import pandas as pd\n",
    "\n",
    "df = pd.read_csv(\"files.csv\")\n",
    "d_f = pd.DataFrame(df)\n",
    "print(d_f)"
   ]
  },
  {
   "cell_type": "code",
   "execution_count": 369,
   "id": "694caa05-e536-4d91-aaed-d3bee0b142f1",
   "metadata": {},
   "outputs": [
    {
     "data": {
      "text/html": [
       "<div>\n",
       "<style scoped>\n",
       "    .dataframe tbody tr th:only-of-type {\n",
       "        vertical-align: middle;\n",
       "    }\n",
       "\n",
       "    .dataframe tbody tr th {\n",
       "        vertical-align: top;\n",
       "    }\n",
       "\n",
       "    .dataframe thead th {\n",
       "        text-align: right;\n",
       "    }\n",
       "</style>\n",
       "<table border=\"1\" class=\"dataframe\">\n",
       "  <thead>\n",
       "    <tr style=\"text-align: right;\">\n",
       "      <th></th>\n",
       "      <th>Date</th>\n",
       "      <th>Open</th>\n",
       "      <th>High</th>\n",
       "      <th>Low</th>\n",
       "      <th>Close</th>\n",
       "      <th>Adj Close</th>\n",
       "      <th>Volume</th>\n",
       "    </tr>\n",
       "  </thead>\n",
       "  <tbody>\n",
       "    <tr>\n",
       "      <th>0</th>\n",
       "      <td>1972-08-25</td>\n",
       "      <td>0.021159</td>\n",
       "      <td>0.021566</td>\n",
       "      <td>0.021159</td>\n",
       "      <td>0.021484</td>\n",
       "      <td>0.011639</td>\n",
       "      <td>7526400</td>\n",
       "    </tr>\n",
       "    <tr>\n",
       "      <th>1</th>\n",
       "      <td>1972-08-28</td>\n",
       "      <td>0.021484</td>\n",
       "      <td>0.021647</td>\n",
       "      <td>0.021403</td>\n",
       "      <td>0.021403</td>\n",
       "      <td>0.011595</td>\n",
       "      <td>2918400</td>\n",
       "    </tr>\n",
       "    <tr>\n",
       "      <th>2</th>\n",
       "      <td>1972-08-29</td>\n",
       "      <td>0.021322</td>\n",
       "      <td>0.021322</td>\n",
       "      <td>0.021159</td>\n",
       "      <td>0.021159</td>\n",
       "      <td>0.011463</td>\n",
       "      <td>5836800</td>\n",
       "    </tr>\n",
       "    <tr>\n",
       "      <th>3</th>\n",
       "      <td>1972-08-30</td>\n",
       "      <td>0.021159</td>\n",
       "      <td>0.021159</td>\n",
       "      <td>0.020996</td>\n",
       "      <td>0.021159</td>\n",
       "      <td>0.011463</td>\n",
       "      <td>1228800</td>\n",
       "    </tr>\n",
       "    <tr>\n",
       "      <th>4</th>\n",
       "      <td>1972-08-31</td>\n",
       "      <td>0.020996</td>\n",
       "      <td>0.020996</td>\n",
       "      <td>0.020833</td>\n",
       "      <td>0.020833</td>\n",
       "      <td>0.011286</td>\n",
       "      <td>2611200</td>\n",
       "    </tr>\n",
       "  </tbody>\n",
       "</table>\n",
       "</div>"
      ],
      "text/plain": [
       "         Date      Open      High       Low     Close  Adj Close   Volume\n",
       "0  1972-08-25  0.021159  0.021566  0.021159  0.021484   0.011639  7526400\n",
       "1  1972-08-28  0.021484  0.021647  0.021403  0.021403   0.011595  2918400\n",
       "2  1972-08-29  0.021322  0.021322  0.021159  0.021159   0.011463  5836800\n",
       "3  1972-08-30  0.021159  0.021159  0.020996  0.021159   0.011463  1228800\n",
       "4  1972-08-31  0.020996  0.020996  0.020833  0.020833   0.011286  2611200"
      ]
     },
     "execution_count": 369,
     "metadata": {},
     "output_type": "execute_result"
    }
   ],
   "source": [
    "d_f.head()"
   ]
  },
  {
   "cell_type": "code",
   "execution_count": 370,
   "id": "d01a9167-88de-4af3-ab8e-f5b0ccb1e830",
   "metadata": {},
   "outputs": [
    {
     "data": {
      "text/html": [
       "<div>\n",
       "<style scoped>\n",
       "    .dataframe tbody tr th:only-of-type {\n",
       "        vertical-align: middle;\n",
       "    }\n",
       "\n",
       "    .dataframe tbody tr th {\n",
       "        vertical-align: top;\n",
       "    }\n",
       "\n",
       "    .dataframe thead th {\n",
       "        text-align: right;\n",
       "    }\n",
       "</style>\n",
       "<table border=\"1\" class=\"dataframe\">\n",
       "  <thead>\n",
       "    <tr style=\"text-align: right;\">\n",
       "      <th></th>\n",
       "      <th>Date</th>\n",
       "      <th>Open</th>\n",
       "      <th>High</th>\n",
       "      <th>Low</th>\n",
       "      <th>Close</th>\n",
       "      <th>Adj Close</th>\n",
       "      <th>Volume</th>\n",
       "    </tr>\n",
       "  </thead>\n",
       "  <tbody>\n",
       "    <tr>\n",
       "      <th>13213</th>\n",
       "      <td>2025-01-24</td>\n",
       "      <td>93.540001</td>\n",
       "      <td>95.010002</td>\n",
       "      <td>93.459999</td>\n",
       "      <td>94.760002</td>\n",
       "      <td>94.760002</td>\n",
       "      <td>14973800</td>\n",
       "    </tr>\n",
       "    <tr>\n",
       "      <th>13214</th>\n",
       "      <td>2025-01-27</td>\n",
       "      <td>95.900002</td>\n",
       "      <td>97.459999</td>\n",
       "      <td>94.820000</td>\n",
       "      <td>97.400002</td>\n",
       "      <td>97.400002</td>\n",
       "      <td>18880600</td>\n",
       "    </tr>\n",
       "    <tr>\n",
       "      <th>13215</th>\n",
       "      <td>2025-01-28</td>\n",
       "      <td>97.230003</td>\n",
       "      <td>97.839996</td>\n",
       "      <td>96.730003</td>\n",
       "      <td>97.290001</td>\n",
       "      <td>97.290001</td>\n",
       "      <td>14641600</td>\n",
       "    </tr>\n",
       "    <tr>\n",
       "      <th>13216</th>\n",
       "      <td>2025-01-29</td>\n",
       "      <td>97.430000</td>\n",
       "      <td>98.169998</td>\n",
       "      <td>97.220001</td>\n",
       "      <td>97.500000</td>\n",
       "      <td>97.500000</td>\n",
       "      <td>11261400</td>\n",
       "    </tr>\n",
       "    <tr>\n",
       "      <th>13217</th>\n",
       "      <td>2025-01-30</td>\n",
       "      <td>97.690002</td>\n",
       "      <td>98.930000</td>\n",
       "      <td>97.419998</td>\n",
       "      <td>98.650002</td>\n",
       "      <td>98.650002</td>\n",
       "      <td>11000100</td>\n",
       "    </tr>\n",
       "  </tbody>\n",
       "</table>\n",
       "</div>"
      ],
      "text/plain": [
       "             Date       Open       High        Low      Close  Adj Close  \\\n",
       "13213  2025-01-24  93.540001  95.010002  93.459999  94.760002  94.760002   \n",
       "13214  2025-01-27  95.900002  97.459999  94.820000  97.400002  97.400002   \n",
       "13215  2025-01-28  97.230003  97.839996  96.730003  97.290001  97.290001   \n",
       "13216  2025-01-29  97.430000  98.169998  97.220001  97.500000  97.500000   \n",
       "13217  2025-01-30  97.690002  98.930000  97.419998  98.650002  98.650002   \n",
       "\n",
       "         Volume  \n",
       "13213  14973800  \n",
       "13214  18880600  \n",
       "13215  14641600  \n",
       "13216  11261400  \n",
       "13217  11000100  "
      ]
     },
     "execution_count": 370,
     "metadata": {},
     "output_type": "execute_result"
    }
   ],
   "source": [
    "d_f.tail()"
   ]
  },
  {
   "cell_type": "markdown",
   "id": "c771c73a-af9d-4654-8cf2-d2a2d0af0547",
   "metadata": {},
   "source": [
    "<h1>2.\tSet a specific column as the index of the DataFrame.</h1>"
   ]
  },
  {
   "cell_type": "code",
   "execution_count": 372,
   "id": "f7cd63dd-30b9-4b2c-8fa8-18b1bcc75524",
   "metadata": {},
   "outputs": [
    {
     "name": "stdout",
     "output_type": "stream",
     "text": [
      "                 Date       Open        Low      Close  Adj Close    Volume\n",
      "High                                                                       \n",
      "0.021566   1972-08-25   0.021159   0.021159   0.021484   0.011639   7526400\n",
      "0.021647   1972-08-28   0.021484   0.021403   0.021403   0.011595   2918400\n",
      "0.021322   1972-08-29   0.021322   0.021159   0.021159   0.011463   5836800\n",
      "0.021159   1972-08-30   0.021159   0.020996   0.021159   0.011463   1228800\n",
      "0.020996   1972-08-31   0.020996   0.020833   0.020833   0.011286   2611200\n",
      "...               ...        ...        ...        ...        ...       ...\n",
      "95.010002  2025-01-24  93.540001  93.459999  94.760002  94.760002  14973800\n",
      "97.459999  2025-01-27  95.900002  94.820000  97.400002  97.400002  18880600\n",
      "97.839996  2025-01-28  97.230003  96.730003  97.290001  97.290001  14641600\n",
      "98.169998  2025-01-29  97.430000  97.220001  97.500000  97.500000  11261400\n",
      "98.930000  2025-01-30  97.690002  97.419998  98.650002  98.650002  11000100\n",
      "\n",
      "[13218 rows x 6 columns]\n"
     ]
    }
   ],
   "source": [
    "df.set_index('High', inplace=True)\n",
    "\n",
    "print(df)\n",
    "# df.reset_index(inplace=True)"
   ]
  },
  {
   "cell_type": "markdown",
   "id": "a9bc9922-97b9-455c-be9e-18a37847ceb3",
   "metadata": {},
   "source": [
    "<h1>3.\tSelect a specific column and display its values.</h1>"
   ]
  },
  {
   "cell_type": "code",
   "execution_count": 378,
   "id": "4d4dacbe-b150-47c8-88bf-3c11d9b204cc",
   "metadata": {},
   "outputs": [
    {
     "data": {
      "text/html": [
       "<div>\n",
       "<style scoped>\n",
       "    .dataframe tbody tr th:only-of-type {\n",
       "        vertical-align: middle;\n",
       "    }\n",
       "\n",
       "    .dataframe tbody tr th {\n",
       "        vertical-align: top;\n",
       "    }\n",
       "\n",
       "    .dataframe thead th {\n",
       "        text-align: right;\n",
       "    }\n",
       "</style>\n",
       "<table border=\"1\" class=\"dataframe\">\n",
       "  <thead>\n",
       "    <tr style=\"text-align: right;\">\n",
       "      <th></th>\n",
       "      <th>Low</th>\n",
       "    </tr>\n",
       "    <tr>\n",
       "      <th>High</th>\n",
       "      <th></th>\n",
       "    </tr>\n",
       "  </thead>\n",
       "  <tbody>\n",
       "    <tr>\n",
       "      <th>0.021566</th>\n",
       "      <td>0.021159</td>\n",
       "    </tr>\n",
       "    <tr>\n",
       "      <th>0.021647</th>\n",
       "      <td>0.021403</td>\n",
       "    </tr>\n",
       "    <tr>\n",
       "      <th>0.021322</th>\n",
       "      <td>0.021159</td>\n",
       "    </tr>\n",
       "    <tr>\n",
       "      <th>0.021159</th>\n",
       "      <td>0.020996</td>\n",
       "    </tr>\n",
       "    <tr>\n",
       "      <th>0.020996</th>\n",
       "      <td>0.020833</td>\n",
       "    </tr>\n",
       "    <tr>\n",
       "      <th>...</th>\n",
       "      <td>...</td>\n",
       "    </tr>\n",
       "    <tr>\n",
       "      <th>95.010002</th>\n",
       "      <td>93.459999</td>\n",
       "    </tr>\n",
       "    <tr>\n",
       "      <th>97.459999</th>\n",
       "      <td>94.820000</td>\n",
       "    </tr>\n",
       "    <tr>\n",
       "      <th>97.839996</th>\n",
       "      <td>96.730003</td>\n",
       "    </tr>\n",
       "    <tr>\n",
       "      <th>98.169998</th>\n",
       "      <td>97.220001</td>\n",
       "    </tr>\n",
       "    <tr>\n",
       "      <th>98.930000</th>\n",
       "      <td>97.419998</td>\n",
       "    </tr>\n",
       "  </tbody>\n",
       "</table>\n",
       "<p>13218 rows × 1 columns</p>\n",
       "</div>"
      ],
      "text/plain": [
       "                 Low\n",
       "High                \n",
       "0.021566    0.021159\n",
       "0.021647    0.021403\n",
       "0.021322    0.021159\n",
       "0.021159    0.020996\n",
       "0.020996    0.020833\n",
       "...              ...\n",
       "95.010002  93.459999\n",
       "97.459999  94.820000\n",
       "97.839996  96.730003\n",
       "98.169998  97.220001\n",
       "98.930000  97.419998\n",
       "\n",
       "[13218 rows x 1 columns]"
      ]
     },
     "execution_count": 378,
     "metadata": {},
     "output_type": "execute_result"
    }
   ],
   "source": [
    "df[[\"Low\"]]"
   ]
  },
  {
   "cell_type": "markdown",
   "id": "5532dba8-e263-49e3-b9f9-d0ea3b20059d",
   "metadata": {},
   "source": [
    "<h1>4.\tSelect multiple columns and display the resulting DataFrame.</h1>"
   ]
  },
  {
   "cell_type": "code",
   "execution_count": 380,
   "id": "80f00a20-f88d-4f61-8dd0-9277a241ac33",
   "metadata": {},
   "outputs": [
    {
     "data": {
      "text/html": [
       "<div>\n",
       "<style scoped>\n",
       "    .dataframe tbody tr th:only-of-type {\n",
       "        vertical-align: middle;\n",
       "    }\n",
       "\n",
       "    .dataframe tbody tr th {\n",
       "        vertical-align: top;\n",
       "    }\n",
       "\n",
       "    .dataframe thead th {\n",
       "        text-align: right;\n",
       "    }\n",
       "</style>\n",
       "<table border=\"1\" class=\"dataframe\">\n",
       "  <thead>\n",
       "    <tr style=\"text-align: right;\">\n",
       "      <th></th>\n",
       "      <th>Date</th>\n",
       "      <th>Open</th>\n",
       "      <th>Low</th>\n",
       "    </tr>\n",
       "    <tr>\n",
       "      <th>High</th>\n",
       "      <th></th>\n",
       "      <th></th>\n",
       "      <th></th>\n",
       "    </tr>\n",
       "  </thead>\n",
       "  <tbody>\n",
       "    <tr>\n",
       "      <th>0.021566</th>\n",
       "      <td>1972-08-25</td>\n",
       "      <td>0.021159</td>\n",
       "      <td>0.021159</td>\n",
       "    </tr>\n",
       "    <tr>\n",
       "      <th>0.021647</th>\n",
       "      <td>1972-08-28</td>\n",
       "      <td>0.021484</td>\n",
       "      <td>0.021403</td>\n",
       "    </tr>\n",
       "    <tr>\n",
       "      <th>0.021322</th>\n",
       "      <td>1972-08-29</td>\n",
       "      <td>0.021322</td>\n",
       "      <td>0.021159</td>\n",
       "    </tr>\n",
       "    <tr>\n",
       "      <th>0.021159</th>\n",
       "      <td>1972-08-30</td>\n",
       "      <td>0.021159</td>\n",
       "      <td>0.020996</td>\n",
       "    </tr>\n",
       "    <tr>\n",
       "      <th>0.020996</th>\n",
       "      <td>1972-08-31</td>\n",
       "      <td>0.020996</td>\n",
       "      <td>0.020833</td>\n",
       "    </tr>\n",
       "    <tr>\n",
       "      <th>...</th>\n",
       "      <td>...</td>\n",
       "      <td>...</td>\n",
       "      <td>...</td>\n",
       "    </tr>\n",
       "    <tr>\n",
       "      <th>95.010002</th>\n",
       "      <td>2025-01-24</td>\n",
       "      <td>93.540001</td>\n",
       "      <td>93.459999</td>\n",
       "    </tr>\n",
       "    <tr>\n",
       "      <th>97.459999</th>\n",
       "      <td>2025-01-27</td>\n",
       "      <td>95.900002</td>\n",
       "      <td>94.820000</td>\n",
       "    </tr>\n",
       "    <tr>\n",
       "      <th>97.839996</th>\n",
       "      <td>2025-01-28</td>\n",
       "      <td>97.230003</td>\n",
       "      <td>96.730003</td>\n",
       "    </tr>\n",
       "    <tr>\n",
       "      <th>98.169998</th>\n",
       "      <td>2025-01-29</td>\n",
       "      <td>97.430000</td>\n",
       "      <td>97.220001</td>\n",
       "    </tr>\n",
       "    <tr>\n",
       "      <th>98.930000</th>\n",
       "      <td>2025-01-30</td>\n",
       "      <td>97.690002</td>\n",
       "      <td>97.419998</td>\n",
       "    </tr>\n",
       "  </tbody>\n",
       "</table>\n",
       "<p>13218 rows × 3 columns</p>\n",
       "</div>"
      ],
      "text/plain": [
       "                 Date       Open        Low\n",
       "High                                       \n",
       "0.021566   1972-08-25   0.021159   0.021159\n",
       "0.021647   1972-08-28   0.021484   0.021403\n",
       "0.021322   1972-08-29   0.021322   0.021159\n",
       "0.021159   1972-08-30   0.021159   0.020996\n",
       "0.020996   1972-08-31   0.020996   0.020833\n",
       "...               ...        ...        ...\n",
       "95.010002  2025-01-24  93.540001  93.459999\n",
       "97.459999  2025-01-27  95.900002  94.820000\n",
       "97.839996  2025-01-28  97.230003  96.730003\n",
       "98.169998  2025-01-29  97.430000  97.220001\n",
       "98.930000  2025-01-30  97.690002  97.419998\n",
       "\n",
       "[13218 rows x 3 columns]"
      ]
     },
     "execution_count": 380,
     "metadata": {},
     "output_type": "execute_result"
    }
   ],
   "source": [
    "df[[\"Date\",\"Open\",\"Low\"]]"
   ]
  },
  {
   "cell_type": "markdown",
   "id": "3da17a92-5319-41ba-8f00-05dfa0b827b7",
   "metadata": {},
   "source": [
    "<h1>5.\tSelect a subset of rows using the .loc method.</h1>"
   ]
  },
  {
   "cell_type": "code",
   "execution_count": 382,
   "id": "304656a4-b8bc-4392-96ec-1cdf70d57ccb",
   "metadata": {},
   "outputs": [
    {
     "ename": "KeyError",
     "evalue": "\"None of ['High'] are in the columns\"",
     "output_type": "error",
     "traceback": [
      "\u001b[1;31m---------------------------------------------------------------------------\u001b[0m",
      "\u001b[1;31mKeyError\u001b[0m                                  Traceback (most recent call last)",
      "\u001b[1;32m~\\AppData\\Local\\Temp\\ipykernel_14860\\1647974666.py\u001b[0m in \u001b[0;36m?\u001b[1;34m()\u001b[0m\n\u001b[1;32m----> 1\u001b[1;33m \u001b[0mdf\u001b[0m\u001b[1;33m.\u001b[0m\u001b[0mset_index\u001b[0m\u001b[1;33m(\u001b[0m\u001b[1;34m'High'\u001b[0m\u001b[1;33m,\u001b[0m\u001b[0minplace\u001b[0m\u001b[1;33m=\u001b[0m\u001b[1;32mTrue\u001b[0m\u001b[1;33m)\u001b[0m\u001b[1;33m\u001b[0m\u001b[1;33m\u001b[0m\u001b[0m\n\u001b[0m\u001b[0;32m      2\u001b[0m \u001b[0mdf\u001b[0m\u001b[1;33m.\u001b[0m\u001b[0mloc\u001b[0m\u001b[1;33m[\u001b[0m\u001b[1;36m98.930000\u001b[0m\u001b[1;33m]\u001b[0m\u001b[1;33m\u001b[0m\u001b[1;33m\u001b[0m\u001b[0m\n",
      "\u001b[1;32m~\\anaconda3\\Lib\\site-packages\\pandas\\core\\frame.py\u001b[0m in \u001b[0;36m?\u001b[1;34m(self, keys, drop, append, inplace, verify_integrity)\u001b[0m\n\u001b[0;32m   6118\u001b[0m                     \u001b[1;32mif\u001b[0m \u001b[1;32mnot\u001b[0m \u001b[0mfound\u001b[0m\u001b[1;33m:\u001b[0m\u001b[1;33m\u001b[0m\u001b[1;33m\u001b[0m\u001b[0m\n\u001b[0;32m   6119\u001b[0m                         \u001b[0mmissing\u001b[0m\u001b[1;33m.\u001b[0m\u001b[0mappend\u001b[0m\u001b[1;33m(\u001b[0m\u001b[0mcol\u001b[0m\u001b[1;33m)\u001b[0m\u001b[1;33m\u001b[0m\u001b[1;33m\u001b[0m\u001b[0m\n\u001b[0;32m   6120\u001b[0m \u001b[1;33m\u001b[0m\u001b[0m\n\u001b[0;32m   6121\u001b[0m         \u001b[1;32mif\u001b[0m \u001b[0mmissing\u001b[0m\u001b[1;33m:\u001b[0m\u001b[1;33m\u001b[0m\u001b[1;33m\u001b[0m\u001b[0m\n\u001b[1;32m-> 6122\u001b[1;33m             \u001b[1;32mraise\u001b[0m \u001b[0mKeyError\u001b[0m\u001b[1;33m(\u001b[0m\u001b[1;33mf\"\u001b[0m\u001b[1;33mNone of \u001b[0m\u001b[1;33m{\u001b[0m\u001b[0mmissing\u001b[0m\u001b[1;33m}\u001b[0m\u001b[1;33m are in the columns\u001b[0m\u001b[1;33m\"\u001b[0m\u001b[1;33m)\u001b[0m\u001b[1;33m\u001b[0m\u001b[1;33m\u001b[0m\u001b[0m\n\u001b[0m\u001b[0;32m   6123\u001b[0m \u001b[1;33m\u001b[0m\u001b[0m\n\u001b[0;32m   6124\u001b[0m         \u001b[1;32mif\u001b[0m \u001b[0minplace\u001b[0m\u001b[1;33m:\u001b[0m\u001b[1;33m\u001b[0m\u001b[1;33m\u001b[0m\u001b[0m\n\u001b[0;32m   6125\u001b[0m             \u001b[0mframe\u001b[0m \u001b[1;33m=\u001b[0m \u001b[0mself\u001b[0m\u001b[1;33m\u001b[0m\u001b[1;33m\u001b[0m\u001b[0m\n",
      "\u001b[1;31mKeyError\u001b[0m: \"None of ['High'] are in the columns\""
     ]
    }
   ],
   "source": [
    "\n",
    "df.set_index('High',inplace=True)\n",
    "df.loc[98.930000]"
   ]
  },
  {
   "cell_type": "markdown",
   "id": "1d734a13-671c-424d-9b53-8d217da3598b",
   "metadata": {},
   "source": [
    "<h1>6.\tSelect a subset of rows and columns using the .iloc method.</h1>"
   ]
  },
  {
   "cell_type": "code",
   "execution_count": 384,
   "id": "c6b735ad-2890-42c7-af6f-caef3064eda5",
   "metadata": {},
   "outputs": [
    {
     "data": {
      "text/html": [
       "<div>\n",
       "<style scoped>\n",
       "    .dataframe tbody tr th:only-of-type {\n",
       "        vertical-align: middle;\n",
       "    }\n",
       "\n",
       "    .dataframe tbody tr th {\n",
       "        vertical-align: top;\n",
       "    }\n",
       "\n",
       "    .dataframe thead th {\n",
       "        text-align: right;\n",
       "    }\n",
       "</style>\n",
       "<table border=\"1\" class=\"dataframe\">\n",
       "  <thead>\n",
       "    <tr style=\"text-align: right;\">\n",
       "      <th></th>\n",
       "      <th>Date</th>\n",
       "      <th>Open</th>\n",
       "    </tr>\n",
       "    <tr>\n",
       "      <th>High</th>\n",
       "      <th></th>\n",
       "      <th></th>\n",
       "    </tr>\n",
       "  </thead>\n",
       "  <tbody>\n",
       "    <tr>\n",
       "      <th>98.169998</th>\n",
       "      <td>2025-01-29</td>\n",
       "      <td>97.430000</td>\n",
       "    </tr>\n",
       "    <tr>\n",
       "      <th>98.930000</th>\n",
       "      <td>2025-01-30</td>\n",
       "      <td>97.690002</td>\n",
       "    </tr>\n",
       "  </tbody>\n",
       "</table>\n",
       "</div>"
      ],
      "text/plain": [
       "                 Date       Open\n",
       "High                            \n",
       "98.169998  2025-01-29  97.430000\n",
       "98.930000  2025-01-30  97.690002"
      ]
     },
     "execution_count": 384,
     "metadata": {},
     "output_type": "execute_result"
    }
   ],
   "source": [
    "df.iloc[-2:, :2]"
   ]
  },
  {
   "cell_type": "markdown",
   "id": "1b9e6497-fdfd-4a0d-a77a-d5c8b3970ac3",
   "metadata": {},
   "source": [
    "<h1>7.\tFilter rows based on a condition.</h1>"
   ]
  },
  {
   "cell_type": "code",
   "execution_count": 387,
   "id": "b6e4aadb-22ea-434f-b730-1a694e221f9e",
   "metadata": {},
   "outputs": [
    {
     "name": "stdout",
     "output_type": "stream",
     "text": [
      "<class 'pandas.core.frame.DataFrame'>\n",
      "Index: 13218 entries, 0.0215659998357296 to 98.93000030517578\n",
      "Data columns (total 6 columns):\n",
      " #   Column     Non-Null Count  Dtype  \n",
      "---  ------     --------------  -----  \n",
      " 0   Date       13218 non-null  object \n",
      " 1   Open       13218 non-null  float64\n",
      " 2   Low        13218 non-null  float64\n",
      " 3   Close      13218 non-null  float64\n",
      " 4   Adj Close  13218 non-null  float64\n",
      " 5   Volume     13218 non-null  int64  \n",
      "dtypes: float64(4), int64(1), object(1)\n",
      "memory usage: 722.9+ KB\n"
     ]
    }
   ],
   "source": [
    "df.info()"
   ]
  },
  {
   "cell_type": "code",
   "execution_count": 389,
   "id": "3c0f158d-3154-4d2a-b8f8-b2165ffb793b",
   "metadata": {},
   "outputs": [
    {
     "data": {
      "text/html": [
       "<div>\n",
       "<style scoped>\n",
       "    .dataframe tbody tr th:only-of-type {\n",
       "        vertical-align: middle;\n",
       "    }\n",
       "\n",
       "    .dataframe tbody tr th {\n",
       "        vertical-align: top;\n",
       "    }\n",
       "\n",
       "    .dataframe thead th {\n",
       "        text-align: right;\n",
       "    }\n",
       "</style>\n",
       "<table border=\"1\" class=\"dataframe\">\n",
       "  <thead>\n",
       "    <tr style=\"text-align: right;\">\n",
       "      <th></th>\n",
       "      <th>Date</th>\n",
       "      <th>Open</th>\n",
       "      <th>Low</th>\n",
       "      <th>Close</th>\n",
       "      <th>Adj Close</th>\n",
       "      <th>Volume</th>\n",
       "    </tr>\n",
       "    <tr>\n",
       "      <th>High</th>\n",
       "      <th></th>\n",
       "      <th></th>\n",
       "      <th></th>\n",
       "      <th></th>\n",
       "      <th></th>\n",
       "      <th></th>\n",
       "    </tr>\n",
       "  </thead>\n",
       "  <tbody>\n",
       "    <tr>\n",
       "      <th>0.020996</th>\n",
       "      <td>1972-08-31</td>\n",
       "      <td>0.020996</td>\n",
       "      <td>0.020833</td>\n",
       "      <td>0.020833</td>\n",
       "      <td>0.011286</td>\n",
       "      <td>2611200</td>\n",
       "    </tr>\n",
       "    <tr>\n",
       "      <th>0.020996</th>\n",
       "      <td>1972-09-01</td>\n",
       "      <td>0.020915</td>\n",
       "      <td>0.020915</td>\n",
       "      <td>0.020996</td>\n",
       "      <td>0.011374</td>\n",
       "      <td>768000</td>\n",
       "    </tr>\n",
       "    <tr>\n",
       "      <th>0.020996</th>\n",
       "      <td>1972-09-05</td>\n",
       "      <td>0.020996</td>\n",
       "      <td>0.020833</td>\n",
       "      <td>0.020833</td>\n",
       "      <td>0.011286</td>\n",
       "      <td>1689600</td>\n",
       "    </tr>\n",
       "    <tr>\n",
       "      <th>0.020996</th>\n",
       "      <td>1972-09-07</td>\n",
       "      <td>0.020996</td>\n",
       "      <td>0.020915</td>\n",
       "      <td>0.020915</td>\n",
       "      <td>0.011330</td>\n",
       "      <td>3532800</td>\n",
       "    </tr>\n",
       "    <tr>\n",
       "      <th>0.020833</th>\n",
       "      <td>1972-09-08</td>\n",
       "      <td>0.020833</td>\n",
       "      <td>0.020752</td>\n",
       "      <td>0.020752</td>\n",
       "      <td>0.011242</td>\n",
       "      <td>1996800</td>\n",
       "    </tr>\n",
       "    <tr>\n",
       "      <th>...</th>\n",
       "      <td>...</td>\n",
       "      <td>...</td>\n",
       "      <td>...</td>\n",
       "      <td>...</td>\n",
       "      <td>...</td>\n",
       "      <td>...</td>\n",
       "    </tr>\n",
       "    <tr>\n",
       "      <th>0.020833</th>\n",
       "      <td>1977-09-20</td>\n",
       "      <td>0.020833</td>\n",
       "      <td>0.020671</td>\n",
       "      <td>0.020833</td>\n",
       "      <td>0.011572</td>\n",
       "      <td>6067200</td>\n",
       "    </tr>\n",
       "    <tr>\n",
       "      <th>0.020833</th>\n",
       "      <td>1977-09-21</td>\n",
       "      <td>0.020833</td>\n",
       "      <td>0.020508</td>\n",
       "      <td>0.020671</td>\n",
       "      <td>0.011482</td>\n",
       "      <td>2073600</td>\n",
       "    </tr>\n",
       "    <tr>\n",
       "      <th>0.020671</th>\n",
       "      <td>1977-09-22</td>\n",
       "      <td>0.020671</td>\n",
       "      <td>0.020345</td>\n",
       "      <td>0.020345</td>\n",
       "      <td>0.011301</td>\n",
       "      <td>11059200</td>\n",
       "    </tr>\n",
       "    <tr>\n",
       "      <th>0.020671</th>\n",
       "      <td>1977-09-23</td>\n",
       "      <td>0.020345</td>\n",
       "      <td>0.020345</td>\n",
       "      <td>0.020508</td>\n",
       "      <td>0.011392</td>\n",
       "      <td>768000</td>\n",
       "    </tr>\n",
       "    <tr>\n",
       "      <th>0.021322</th>\n",
       "      <td>1977-09-26</td>\n",
       "      <td>0.020508</td>\n",
       "      <td>0.020508</td>\n",
       "      <td>0.021322</td>\n",
       "      <td>0.011844</td>\n",
       "      <td>47385600</td>\n",
       "    </tr>\n",
       "  </tbody>\n",
       "</table>\n",
       "<p>1210 rows × 6 columns</p>\n",
       "</div>"
      ],
      "text/plain": [
       "                Date      Open       Low     Close  Adj Close    Volume\n",
       "High                                                                   \n",
       "0.020996  1972-08-31  0.020996  0.020833  0.020833   0.011286   2611200\n",
       "0.020996  1972-09-01  0.020915  0.020915  0.020996   0.011374    768000\n",
       "0.020996  1972-09-05  0.020996  0.020833  0.020833   0.011286   1689600\n",
       "0.020996  1972-09-07  0.020996  0.020915  0.020915   0.011330   3532800\n",
       "0.020833  1972-09-08  0.020833  0.020752  0.020752   0.011242   1996800\n",
       "...              ...       ...       ...       ...        ...       ...\n",
       "0.020833  1977-09-20  0.020833  0.020671  0.020833   0.011572   6067200\n",
       "0.020833  1977-09-21  0.020833  0.020508  0.020671   0.011482   2073600\n",
       "0.020671  1977-09-22  0.020671  0.020345  0.020345   0.011301  11059200\n",
       "0.020671  1977-09-23  0.020345  0.020345  0.020508   0.011392    768000\n",
       "0.021322  1977-09-26  0.020508  0.020508  0.021322   0.011844  47385600\n",
       "\n",
       "[1210 rows x 6 columns]"
      ]
     },
     "execution_count": 389,
     "metadata": {},
     "output_type": "execute_result"
    }
   ],
   "source": [
    "df[df['Low']<0.020996]"
   ]
  },
  {
   "cell_type": "markdown",
   "id": "7e0a1b05-15bb-46ba-b2c9-e112a5f869d1",
   "metadata": {},
   "source": [
    "<h1>8.\tGroup the DataFrame by a specific column and calculate the mean of each group.</h1>"
   ]
  },
  {
   "cell_type": "code",
   "execution_count": 392,
   "id": "1bea973d-7125-4940-b7d3-899dfad54c83",
   "metadata": {},
   "outputs": [
    {
     "ename": "TypeError",
     "evalue": "'<=' not supported between instances of 'int' and 'numpy.str_'",
     "output_type": "error",
     "traceback": [
      "\u001b[1;31m---------------------------------------------------------------------------\u001b[0m",
      "\u001b[1;31mTypeError\u001b[0m                                 Traceback (most recent call last)",
      "Cell \u001b[1;32mIn[392], line 2\u001b[0m\n\u001b[0;32m      1\u001b[0m gd \u001b[38;5;241m=\u001b[39m df[[\u001b[38;5;124m'\u001b[39m\u001b[38;5;124mLow\u001b[39m\u001b[38;5;124m'\u001b[39m]]\n\u001b[1;32m----> 2\u001b[0m f1 \u001b[38;5;241m=\u001b[39m gd\u001b[38;5;241m.\u001b[39mdescribe(gd)\n",
      "File \u001b[1;32m~\\anaconda3\\Lib\\site-packages\\pandas\\core\\generic.py:11976\u001b[0m, in \u001b[0;36mNDFrame.describe\u001b[1;34m(self, percentiles, include, exclude)\u001b[0m\n\u001b[0;32m  11734\u001b[0m \u001b[38;5;129m@final\u001b[39m\n\u001b[0;32m  11735\u001b[0m \u001b[38;5;28;01mdef\u001b[39;00m \u001b[38;5;21mdescribe\u001b[39m(\n\u001b[0;32m  11736\u001b[0m     \u001b[38;5;28mself\u001b[39m,\n\u001b[1;32m   (...)\u001b[0m\n\u001b[0;32m  11739\u001b[0m     exclude\u001b[38;5;241m=\u001b[39m\u001b[38;5;28;01mNone\u001b[39;00m,\n\u001b[0;32m  11740\u001b[0m ) \u001b[38;5;241m-\u001b[39m\u001b[38;5;241m>\u001b[39m Self:\n\u001b[0;32m  11741\u001b[0m \u001b[38;5;250m    \u001b[39m\u001b[38;5;124;03m\"\"\"\u001b[39;00m\n\u001b[0;32m  11742\u001b[0m \u001b[38;5;124;03m    Generate descriptive statistics.\u001b[39;00m\n\u001b[0;32m  11743\u001b[0m \n\u001b[1;32m   (...)\u001b[0m\n\u001b[0;32m  11974\u001b[0m \u001b[38;5;124;03m    max            NaN      3.0\u001b[39;00m\n\u001b[0;32m  11975\u001b[0m \u001b[38;5;124;03m    \"\"\"\u001b[39;00m\n\u001b[1;32m> 11976\u001b[0m     \u001b[38;5;28;01mreturn\u001b[39;00m describe_ndframe(\n\u001b[0;32m  11977\u001b[0m         obj\u001b[38;5;241m=\u001b[39m\u001b[38;5;28mself\u001b[39m,\n\u001b[0;32m  11978\u001b[0m         include\u001b[38;5;241m=\u001b[39minclude,\n\u001b[0;32m  11979\u001b[0m         exclude\u001b[38;5;241m=\u001b[39mexclude,\n\u001b[0;32m  11980\u001b[0m         percentiles\u001b[38;5;241m=\u001b[39mpercentiles,\n\u001b[0;32m  11981\u001b[0m     )\u001b[38;5;241m.\u001b[39m__finalize__(\u001b[38;5;28mself\u001b[39m, method\u001b[38;5;241m=\u001b[39m\u001b[38;5;124m\"\u001b[39m\u001b[38;5;124mdescribe\u001b[39m\u001b[38;5;124m\"\u001b[39m)\n",
      "File \u001b[1;32m~\\anaconda3\\Lib\\site-packages\\pandas\\core\\methods\\describe.py:83\u001b[0m, in \u001b[0;36mdescribe_ndframe\u001b[1;34m(obj, include, exclude, percentiles)\u001b[0m\n\u001b[0;32m     55\u001b[0m \u001b[38;5;28;01mdef\u001b[39;00m \u001b[38;5;21mdescribe_ndframe\u001b[39m(\n\u001b[0;32m     56\u001b[0m     \u001b[38;5;241m*\u001b[39m,\n\u001b[0;32m     57\u001b[0m     obj: NDFrameT,\n\u001b[1;32m   (...)\u001b[0m\n\u001b[0;32m     60\u001b[0m     percentiles: Sequence[\u001b[38;5;28mfloat\u001b[39m] \u001b[38;5;241m|\u001b[39m np\u001b[38;5;241m.\u001b[39mndarray \u001b[38;5;241m|\u001b[39m \u001b[38;5;28;01mNone\u001b[39;00m,\n\u001b[0;32m     61\u001b[0m ) \u001b[38;5;241m-\u001b[39m\u001b[38;5;241m>\u001b[39m NDFrameT:\n\u001b[0;32m     62\u001b[0m \u001b[38;5;250m    \u001b[39m\u001b[38;5;124;03m\"\"\"Describe series or dataframe.\u001b[39;00m\n\u001b[0;32m     63\u001b[0m \n\u001b[0;32m     64\u001b[0m \u001b[38;5;124;03m    Called from pandas.core.generic.NDFrame.describe()\u001b[39;00m\n\u001b[1;32m   (...)\u001b[0m\n\u001b[0;32m     81\u001b[0m \u001b[38;5;124;03m    Dataframe or series description.\u001b[39;00m\n\u001b[0;32m     82\u001b[0m \u001b[38;5;124;03m    \"\"\"\u001b[39;00m\n\u001b[1;32m---> 83\u001b[0m     percentiles \u001b[38;5;241m=\u001b[39m _refine_percentiles(percentiles)\n\u001b[0;32m     85\u001b[0m     describer: NDFrameDescriberAbstract\n\u001b[0;32m     86\u001b[0m     \u001b[38;5;28;01mif\u001b[39;00m obj\u001b[38;5;241m.\u001b[39mndim \u001b[38;5;241m==\u001b[39m \u001b[38;5;241m1\u001b[39m:\n",
      "File \u001b[1;32m~\\anaconda3\\Lib\\site-packages\\pandas\\core\\methods\\describe.py:402\u001b[0m, in \u001b[0;36m_refine_percentiles\u001b[1;34m(percentiles)\u001b[0m\n\u001b[0;32m    399\u001b[0m percentiles \u001b[38;5;241m=\u001b[39m \u001b[38;5;28mlist\u001b[39m(percentiles)\n\u001b[0;32m    401\u001b[0m \u001b[38;5;66;03m# get them all to be in [0, 1]\u001b[39;00m\n\u001b[1;32m--> 402\u001b[0m validate_percentile(percentiles)\n\u001b[0;32m    404\u001b[0m \u001b[38;5;66;03m# median should always be included\u001b[39;00m\n\u001b[0;32m    405\u001b[0m \u001b[38;5;28;01mif\u001b[39;00m \u001b[38;5;241m0.5\u001b[39m \u001b[38;5;129;01mnot\u001b[39;00m \u001b[38;5;129;01min\u001b[39;00m percentiles:\n",
      "File \u001b[1;32m~\\anaconda3\\Lib\\site-packages\\pandas\\util\\_validators.py:339\u001b[0m, in \u001b[0;36mvalidate_percentile\u001b[1;34m(q)\u001b[0m\n\u001b[0;32m    337\u001b[0m         \u001b[38;5;28;01mraise\u001b[39;00m \u001b[38;5;167;01mValueError\u001b[39;00m(msg)\n\u001b[0;32m    338\u001b[0m \u001b[38;5;28;01melse\u001b[39;00m:\n\u001b[1;32m--> 339\u001b[0m     \u001b[38;5;28;01mif\u001b[39;00m \u001b[38;5;129;01mnot\u001b[39;00m \u001b[38;5;28mall\u001b[39m(\u001b[38;5;241m0\u001b[39m \u001b[38;5;241m<\u001b[39m\u001b[38;5;241m=\u001b[39m qs \u001b[38;5;241m<\u001b[39m\u001b[38;5;241m=\u001b[39m \u001b[38;5;241m1\u001b[39m \u001b[38;5;28;01mfor\u001b[39;00m qs \u001b[38;5;129;01min\u001b[39;00m q_arr):\n\u001b[0;32m    340\u001b[0m         \u001b[38;5;28;01mraise\u001b[39;00m \u001b[38;5;167;01mValueError\u001b[39;00m(msg)\n\u001b[0;32m    341\u001b[0m \u001b[38;5;28;01mreturn\u001b[39;00m q_arr\n",
      "File \u001b[1;32m~\\anaconda3\\Lib\\site-packages\\pandas\\util\\_validators.py:339\u001b[0m, in \u001b[0;36m<genexpr>\u001b[1;34m(.0)\u001b[0m\n\u001b[0;32m    337\u001b[0m         \u001b[38;5;28;01mraise\u001b[39;00m \u001b[38;5;167;01mValueError\u001b[39;00m(msg)\n\u001b[0;32m    338\u001b[0m \u001b[38;5;28;01melse\u001b[39;00m:\n\u001b[1;32m--> 339\u001b[0m     \u001b[38;5;28;01mif\u001b[39;00m \u001b[38;5;129;01mnot\u001b[39;00m \u001b[38;5;28mall\u001b[39m(\u001b[38;5;241m0\u001b[39m \u001b[38;5;241m<\u001b[39m\u001b[38;5;241m=\u001b[39m qs \u001b[38;5;241m<\u001b[39m\u001b[38;5;241m=\u001b[39m \u001b[38;5;241m1\u001b[39m \u001b[38;5;28;01mfor\u001b[39;00m qs \u001b[38;5;129;01min\u001b[39;00m q_arr):\n\u001b[0;32m    340\u001b[0m         \u001b[38;5;28;01mraise\u001b[39;00m \u001b[38;5;167;01mValueError\u001b[39;00m(msg)\n\u001b[0;32m    341\u001b[0m \u001b[38;5;28;01mreturn\u001b[39;00m q_arr\n",
      "\u001b[1;31mTypeError\u001b[0m: '<=' not supported between instances of 'int' and 'numpy.str_'"
     ]
    }
   ],
   "source": [
    "gd = df[['Low']]\n",
    "f1 = gd.describe(gd)"
   ]
  },
  {
   "cell_type": "markdown",
   "id": "d8fde36a-b535-4a70-8f10-d0a326b0e841",
   "metadata": {},
   "source": [
    "<h1>9.\tGroup the DataFrame by multiple columns and calculate the sum of each group.</h1>"
   ]
  },
  {
   "cell_type": "code",
   "execution_count": 395,
   "id": "97514f9f-24c8-4750-be20-6dac26455668",
   "metadata": {},
   "outputs": [
    {
     "name": "stdout",
     "output_type": "stream",
     "text": [
      "                Low          Open\n",
      "count  13218.000000  13218.000000\n",
      "mean      14.203136     14.329886\n",
      "std       16.124392     16.245274\n",
      "min        0.004801      0.005208\n",
      "25%        0.552083      0.556315\n",
      "50%       11.093750     11.343750\n",
      "75%       19.850000     20.012499\n",
      "max       97.419998     97.690002\n"
     ]
    }
   ],
   "source": [
    "gd1 = df[['Low','Date','Open']]\n",
    "f = gd1.describe()\n",
    "print(f)\n",
    "\n"
   ]
  },
  {
   "cell_type": "markdown",
   "id": "93cf8ca6-f8a1-43eb-afef-958541f7c650",
   "metadata": {},
   "source": [
    "<h1>10.\tUse the agg method to apply multiple aggregation functions to grouped data.</h1>\n"
   ]
  },
  {
   "cell_type": "code",
   "execution_count": 398,
   "id": "32aa78b6-7d15-4403-9daa-a8a06b6852ed",
   "metadata": {},
   "outputs": [
    {
     "name": "stdout",
     "output_type": "stream",
     "text": [
      "            Low       Open\n",
      "mean  14.203136  14.329886\n",
      "min    0.004801   0.005208\n",
      "max   97.419998  97.690002\n",
      "            Low                             Open                      \n",
      "           mean        min        max       mean        min        max\n",
      "Date                                                                  \n",
      "1972   0.020958   0.018229   0.022461   0.021093   0.018473   0.022624\n",
      "1973   0.014450   0.008138   0.022542   0.014625   0.008382   0.022542\n",
      "1974   0.009940   0.004801   0.013021   0.010024   0.005208   0.013184\n",
      "1975   0.014268   0.006185   0.020182   0.014407   0.006185   0.020508\n",
      "1976   0.018705   0.014974   0.021484   0.018912   0.015462   0.021810\n",
      "1977   0.019678   0.015137   0.026367   0.019849   0.015625   0.026693\n",
      "1978   0.029296   0.022135   0.037435   0.029611   0.022461   0.037923\n",
      "1979   0.035844   0.029297   0.046875   0.036075   0.029460   0.047689\n",
      "1980   0.053800   0.036133   0.077148   0.054177   0.037109   0.078125\n",
      "1981   0.095285   0.070313   0.112956   0.096192   0.073568   0.114258\n",
      "1982   0.153894   0.100260   0.277344   0.155904   0.100586   0.278646\n",
      "1983   0.363292   0.227865   0.464844   0.368176   0.230469   0.472005\n",
      "1984   0.397496   0.315104   0.468750   0.402205   0.320313   0.480469\n",
      "1985   0.520063   0.394531   0.687500   0.525039   0.395833   0.692708\n",
      "1986   0.871037   0.606771   1.106771   0.883626   0.619792   1.117188\n",
      "1987   1.249032   0.833333   1.750000   1.271801   0.838542   1.776042\n",
      "1988   1.222332   1.010417   1.369792   1.238245   1.046875   1.390625\n",
      "1989   1.579716   1.250000   1.843750   1.594969   1.265625   1.864583\n",
      "1990   2.216588   1.682292   2.958333   2.247900   1.682292   3.041667\n",
      "1991   3.579072   2.375000   4.812500   3.620059   2.395833   4.937500\n",
      "1992   4.676345   4.177083   5.437500   4.720431   4.239583   5.458333\n",
      "1993   4.595109   3.833333   5.604167   4.657979   3.916667   5.666667\n",
      "1994   4.076141   3.500000   4.770833   4.132110   3.541667   4.854167\n",
      "1995   4.017816   3.416667   4.541667   4.063905   3.479167   4.583333\n",
      "1996   4.019254   3.182292   4.604167   4.071235   3.208333   4.666667\n",
      "1997   5.346838   3.666667   6.760417   5.417367   3.750000   6.947917\n",
      "1998   9.568700   6.260417  13.427083   9.731605   6.260417  13.666667\n",
      "1999  15.904142  12.895833  22.854168  16.192502  13.000000  23.187500\n",
      "2000  17.516452  13.812500  21.875000  17.908730  14.000000  22.791668\n",
      "2001  17.067517  14.000000  19.379999  17.327090  14.666667  19.450001\n",
      "2002  18.201177  14.573333  21.013332  18.469696  14.766667  21.306667\n",
      "2003  17.933981  15.416667  19.913334  18.103823  15.600000  20.016666\n",
      "2004  18.158743  17.026667  20.066668  18.298426  17.066668  20.270000\n",
      "2005  16.144907  14.103333  17.916668  16.266349  14.150000  18.096666\n",
      "2006  15.423705  14.103333  17.016666  15.541872  14.253333  17.193333\n",
      "2007  15.514701  14.030000  16.786667  15.645910  14.130000  16.969999\n",
      "2008  18.068985  14.370000  20.526667  18.332095  15.266667  21.073334\n",
      "2009  16.694537  15.416667  18.593332  16.859074  15.523333  18.986668\n",
      "2010  17.554577  15.923333  18.553333  17.666376  16.033333  18.683332\n",
      "2011  17.989272  16.103333  19.896667  18.103638  16.283333  19.983334\n",
      "2012  22.262173  19.059999  25.563334  22.386227  19.196667  25.866667\n",
      "2013  24.947685  22.573334  26.940001  25.088016  22.730000  27.070000\n",
      "2014  25.621468  24.090000  28.826668  25.758175  24.090000  29.026667\n",
      "2015  24.011601  18.766666  29.750000  24.189802  18.796667  30.266666\n",
      "2016  23.007831  20.066668  24.543333  23.160450  20.166668  24.833332\n",
      "2017  26.153745  21.760000  33.040001  26.296799  21.876667  33.303333\n",
      "2018  30.526799  27.260000  35.996666  30.793997  27.320000  36.380001\n",
      "2019  35.889735  30.546667  40.233334  36.132275  30.546667  41.533333\n",
      "2020  42.715323  34.000000  50.553333  43.172820  35.066666  51.200001\n",
      "2021  46.909987  42.093334  50.136665  47.218876  42.276669  50.666668\n",
      "2022  45.634954  39.090000  53.023335  46.046614  39.433334  53.416668\n",
      "2023  50.673960  45.363335  55.836666  51.017427  45.560001  56.126667\n",
      "2024  69.735953  51.866669  95.330002  70.243968  52.233334  95.680000\n",
      "2025  92.328947  89.519997  97.419998  92.941053  89.980003  97.690002\n"
     ]
    }
   ],
   "source": [
    "# Use describe-style aggregation with agg\n",
    "result = df.agg({\n",
    "    'Low': ['mean', 'min', 'max'],\n",
    "    'Open': ['mean', 'min', 'max']\n",
    "})\n",
    "\n",
    "print(result)\n",
    "\n",
    "\n",
    "\n",
    "# First make sure Date is in datetime format (if needed)\n",
    "df['Date'] = pd.to_datetime(df['Date'])\n",
    "\n",
    "# Group by year or month, then aggregate\n",
    "result = df.groupby(df['Date'].dt.year).agg({\n",
    "    'Low': ['mean', 'min', 'max'],\n",
    "    'Open': ['mean', 'min', 'max']\n",
    "})\n",
    "\n",
    "print(result)\n"
   ]
  },
  {
   "cell_type": "markdown",
   "id": "57d82368-c533-4a4f-82cc-a9cca7cef442",
   "metadata": {},
   "source": [
    "<h1>11.\tCalculate the size of each group.</h1>"
   ]
  },
  {
   "cell_type": "code",
   "execution_count": 401,
   "id": "e91858b1-57fc-4d77-95b5-718e2ccfd876",
   "metadata": {},
   "outputs": [
    {
     "data": {
      "text/plain": [
       "High\n",
       "0.005208     1\n",
       "0.005534     1\n",
       "0.005697     4\n",
       "0.005859     1\n",
       "0.005941     1\n",
       "            ..\n",
       "96.180000    1\n",
       "97.459999    1\n",
       "97.839996    1\n",
       "98.169998    1\n",
       "98.930000    1\n",
       "Length: 5937, dtype: int64"
      ]
     },
     "execution_count": 401,
     "metadata": {},
     "output_type": "execute_result"
    }
   ],
   "source": [
    "df.groupby('High').size()\n"
   ]
  },
  {
   "cell_type": "code",
   "execution_count": 403,
   "id": "7e7bf598-856d-4b0b-8ad6-bf889c0f3a6a",
   "metadata": {},
   "outputs": [
    {
     "data": {
      "text/plain": [
       "Low\n",
       "0.004801     1\n",
       "0.004964     1\n",
       "0.005208     1\n",
       "0.005371     2\n",
       "0.005452     2\n",
       "            ..\n",
       "94.820000    1\n",
       "95.330002    1\n",
       "96.730003    1\n",
       "97.220001    1\n",
       "97.419998    1\n",
       "Length: 5878, dtype: int64"
      ]
     },
     "execution_count": 403,
     "metadata": {},
     "output_type": "execute_result"
    }
   ],
   "source": [
    "df.groupby('Low').size()"
   ]
  },
  {
   "cell_type": "code",
   "execution_count": 405,
   "id": "a6476728-d268-4f8f-9465-cc2a5ec546f4",
   "metadata": {},
   "outputs": [
    {
     "data": {
      "text/plain": [
       "Date\n",
       "1972-08-25    1\n",
       "1972-08-28    1\n",
       "1972-08-29    1\n",
       "1972-08-30    1\n",
       "1972-08-31    1\n",
       "             ..\n",
       "2025-01-24    1\n",
       "2025-01-27    1\n",
       "2025-01-28    1\n",
       "2025-01-29    1\n",
       "2025-01-30    1\n",
       "Length: 13218, dtype: int64"
      ]
     },
     "execution_count": 405,
     "metadata": {},
     "output_type": "execute_result"
    }
   ],
   "source": [
    "df.groupby('Date').size()"
   ]
  },
  {
   "cell_type": "markdown",
   "id": "ce86f510-0b12-42fd-a463-1d40e07d8e50",
   "metadata": {},
   "source": [
    "<h1>12.\tSelect rows based on multiple conditions</h1>"
   ]
  },
  {
   "cell_type": "code",
   "execution_count": 420,
   "id": "61ff2a3e-55be-4ca0-9523-96187901b0ab",
   "metadata": {},
   "outputs": [
    {
     "ename": "SyntaxError",
     "evalue": "leading zeros in decimal integer literals are not permitted; use an 0o prefix for octal integers (1931213844.py, line 1)",
     "output_type": "error",
     "traceback": [
      "\u001b[1;36m  Cell \u001b[1;32mIn[420], line 1\u001b[1;36m\u001b[0m\n\u001b[1;33m    f_df = df[(df['Date'] > 2025-01-27) & (df['Low'] > 1)]\u001b[0m\n\u001b[1;37m                                 ^\u001b[0m\n\u001b[1;31mSyntaxError\u001b[0m\u001b[1;31m:\u001b[0m leading zeros in decimal integer literals are not permitted; use an 0o prefix for octal integers\n"
     ]
    }
   ],
   "source": [
    "f_df = df[(df['Date'] > 2025-01-27) & (df['Low'] > 1)]\n",
    "print(f_df)"
   ]
  },
  {
   "cell_type": "markdown",
   "id": "7abcfcb9-43bd-45a2-8667-541496cb2a62",
   "metadata": {},
   "source": [
    "<h1>13.\tUse the query method to filter rows.</h1>"
   ]
  },
  {
   "cell_type": "code",
   "execution_count": 429,
   "id": "7a9944e8-66b5-4696-84cc-527f2875f62e",
   "metadata": {},
   "outputs": [
    {
     "data": {
      "text/html": [
       "<div>\n",
       "<style scoped>\n",
       "    .dataframe tbody tr th:only-of-type {\n",
       "        vertical-align: middle;\n",
       "    }\n",
       "\n",
       "    .dataframe tbody tr th {\n",
       "        vertical-align: top;\n",
       "    }\n",
       "\n",
       "    .dataframe thead th {\n",
       "        text-align: right;\n",
       "    }\n",
       "</style>\n",
       "<table border=\"1\" class=\"dataframe\">\n",
       "  <thead>\n",
       "    <tr style=\"text-align: right;\">\n",
       "      <th></th>\n",
       "      <th>Date</th>\n",
       "      <th>Open</th>\n",
       "      <th>Low</th>\n",
       "      <th>Close</th>\n",
       "      <th>Adj Close</th>\n",
       "      <th>Volume</th>\n",
       "    </tr>\n",
       "    <tr>\n",
       "      <th>High</th>\n",
       "      <th></th>\n",
       "      <th></th>\n",
       "      <th></th>\n",
       "      <th></th>\n",
       "      <th></th>\n",
       "      <th></th>\n",
       "    </tr>\n",
       "  </thead>\n",
       "  <tbody>\n",
       "    <tr>\n",
       "      <th>0.021566</th>\n",
       "      <td>1972-08-25</td>\n",
       "      <td>0.021159</td>\n",
       "      <td>0.021159</td>\n",
       "      <td>0.021484</td>\n",
       "      <td>0.011639</td>\n",
       "      <td>7526400</td>\n",
       "    </tr>\n",
       "    <tr>\n",
       "      <th>0.021647</th>\n",
       "      <td>1972-08-28</td>\n",
       "      <td>0.021484</td>\n",
       "      <td>0.021403</td>\n",
       "      <td>0.021403</td>\n",
       "      <td>0.011595</td>\n",
       "      <td>2918400</td>\n",
       "    </tr>\n",
       "    <tr>\n",
       "      <th>0.021322</th>\n",
       "      <td>1972-08-29</td>\n",
       "      <td>0.021322</td>\n",
       "      <td>0.021159</td>\n",
       "      <td>0.021159</td>\n",
       "      <td>0.011463</td>\n",
       "      <td>5836800</td>\n",
       "    </tr>\n",
       "    <tr>\n",
       "      <th>0.021159</th>\n",
       "      <td>1972-08-30</td>\n",
       "      <td>0.021159</td>\n",
       "      <td>0.020996</td>\n",
       "      <td>0.021159</td>\n",
       "      <td>0.011463</td>\n",
       "      <td>1228800</td>\n",
       "    </tr>\n",
       "    <tr>\n",
       "      <th>0.020996</th>\n",
       "      <td>1972-08-31</td>\n",
       "      <td>0.020996</td>\n",
       "      <td>0.020833</td>\n",
       "      <td>0.020833</td>\n",
       "      <td>0.011286</td>\n",
       "      <td>2611200</td>\n",
       "    </tr>\n",
       "    <tr>\n",
       "      <th>...</th>\n",
       "      <td>...</td>\n",
       "      <td>...</td>\n",
       "      <td>...</td>\n",
       "      <td>...</td>\n",
       "      <td>...</td>\n",
       "      <td>...</td>\n",
       "    </tr>\n",
       "    <tr>\n",
       "      <th>0.908854</th>\n",
       "      <td>1986-10-20</td>\n",
       "      <td>0.906250</td>\n",
       "      <td>0.893229</td>\n",
       "      <td>0.906250</td>\n",
       "      <td>0.542685</td>\n",
       "      <td>10156800</td>\n",
       "    </tr>\n",
       "    <tr>\n",
       "      <th>0.911458</th>\n",
       "      <td>1986-10-21</td>\n",
       "      <td>0.906250</td>\n",
       "      <td>0.890625</td>\n",
       "      <td>0.906250</td>\n",
       "      <td>0.542685</td>\n",
       "      <td>11625600</td>\n",
       "    </tr>\n",
       "    <tr>\n",
       "      <th>0.984375</th>\n",
       "      <td>1987-12-03</td>\n",
       "      <td>0.968750</td>\n",
       "      <td>0.864583</td>\n",
       "      <td>0.875000</td>\n",
       "      <td>0.525857</td>\n",
       "      <td>77997600</td>\n",
       "    </tr>\n",
       "    <tr>\n",
       "      <th>0.901042</th>\n",
       "      <td>1987-12-04</td>\n",
       "      <td>0.838542</td>\n",
       "      <td>0.833333</td>\n",
       "      <td>0.901042</td>\n",
       "      <td>0.541507</td>\n",
       "      <td>51422400</td>\n",
       "    </tr>\n",
       "    <tr>\n",
       "      <th>1.057292</th>\n",
       "      <td>1987-12-15</td>\n",
       "      <td>1.036458</td>\n",
       "      <td>0.885417</td>\n",
       "      <td>1.020833</td>\n",
       "      <td>0.614351</td>\n",
       "      <td>28080000</td>\n",
       "    </tr>\n",
       "  </tbody>\n",
       "</table>\n",
       "<p>3493 rows × 6 columns</p>\n",
       "</div>"
      ],
      "text/plain": [
       "               Date      Open       Low     Close  Adj Close    Volume\n",
       "High                                                                  \n",
       "0.021566 1972-08-25  0.021159  0.021159  0.021484   0.011639   7526400\n",
       "0.021647 1972-08-28  0.021484  0.021403  0.021403   0.011595   2918400\n",
       "0.021322 1972-08-29  0.021322  0.021159  0.021159   0.011463   5836800\n",
       "0.021159 1972-08-30  0.021159  0.020996  0.021159   0.011463   1228800\n",
       "0.020996 1972-08-31  0.020996  0.020833  0.020833   0.011286   2611200\n",
       "...             ...       ...       ...       ...        ...       ...\n",
       "0.908854 1986-10-20  0.906250  0.893229  0.906250   0.542685  10156800\n",
       "0.911458 1986-10-21  0.906250  0.890625  0.906250   0.542685  11625600\n",
       "0.984375 1987-12-03  0.968750  0.864583  0.875000   0.525857  77997600\n",
       "0.901042 1987-12-04  0.838542  0.833333  0.901042   0.541507  51422400\n",
       "1.057292 1987-12-15  1.036458  0.885417  1.020833   0.614351  28080000\n",
       "\n",
       "[3493 rows x 6 columns]"
      ]
     },
     "execution_count": 429,
     "metadata": {},
     "output_type": "execute_result"
    }
   ],
   "source": [
    "df.query(\"Low < 0.9\")"
   ]
  },
  {
   "cell_type": "markdown",
   "id": "2348b7bf-fc36-43b2-9031-8db9b740b1b0",
   "metadata": {},
   "source": [
    "<h1>14.\tUse isin to filter rows based on a list of values.</h1>"
   ]
  },
  {
   "cell_type": "code",
   "execution_count": 450,
   "id": "ee9a06d3-c6f7-40bf-8281-0129f8777462",
   "metadata": {},
   "outputs": [
    {
     "name": "stdout",
     "output_type": "stream",
     "text": [
      "               Date      Open       Low     Close  Adj Close    Volume\n",
      "High                                                                  \n",
      "0.021322 1972-08-29  0.021322  0.021159  0.021159   0.011463   5836800\n",
      "0.021973 1973-01-12  0.021729  0.021647  0.021647   0.011727   5836800\n",
      "0.009766 1973-07-12  0.009766  0.009603  0.009766   0.005291   5836800\n",
      "0.015869 1973-07-27  0.015869  0.014404  0.014567   0.007891   5836800\n",
      "0.011230 1974-05-24  0.010498  0.010498  0.011230   0.006102   5836800\n",
      "0.020671 1976-04-15  0.020671  0.020182  0.020182   0.011076   5836800\n",
      "0.020671 1977-08-22  0.020671  0.020182  0.020182   0.011179   5836800\n",
      "0.022135 1977-10-20  0.021973  0.021810  0.022135   0.012296   5836800\n",
      "0.025553 1978-03-01  0.025228  0.025228  0.025553   0.014228   5836800\n",
      "0.030924 1978-05-09  0.030599  0.030436  0.030762   0.017182   5836800\n",
      "0.064616 1980-09-10  0.063802  0.063314  0.064616   0.037015   5836800\n",
      "0.113932 1982-02-03  0.112956  0.111979  0.112305   0.065662   5836800\n",
      "0.984375 1987-12-03  0.968750  0.864583  0.875000   0.525857  77997600\n"
     ]
    }
   ],
   "source": [
    "gg =df[df['Volume'].isin([5836800, 77997600])]\n",
    "print(gg)"
   ]
  },
  {
   "cell_type": "markdown",
   "id": "5ce6356d-42af-4183-b80b-53f60f63598a",
   "metadata": {},
   "source": [
    "<h1>15.\tSelect specific columns and rename them.</h1>"
   ]
  },
  {
   "cell_type": "code",
   "execution_count": 457,
   "id": "e7f097bd-3e83-4f6a-adcd-458757d5bcfd",
   "metadata": {},
   "outputs": [
    {
     "ename": "SyntaxError",
     "evalue": "invalid syntax (2162042522.py, line 1)",
     "output_type": "error",
     "traceback": [
      "\u001b[1;36m  Cell \u001b[1;32mIn[457], line 1\u001b[1;36m\u001b[0m\n\u001b[1;33m    pps =df.rename(columns=['Close':'close'])\u001b[0m\n\u001b[1;37m                                   ^\u001b[0m\n\u001b[1;31mSyntaxError\u001b[0m\u001b[1;31m:\u001b[0m invalid syntax\n"
     ]
    }
   ],
   "source": [
    "pps =df.rename(columns=['Close' : 'close'])"
   ]
  },
  {
   "cell_type": "code",
   "execution_count": null,
   "id": "9ba4cd3f-857e-4f73-911d-2959185897b2",
   "metadata": {},
   "outputs": [],
   "source": []
  }
 ],
 "metadata": {
  "kernelspec": {
   "display_name": "Python [conda env:base] *",
   "language": "python",
   "name": "conda-base-py"
  },
  "language_info": {
   "codemirror_mode": {
    "name": "ipython",
    "version": 3
   },
   "file_extension": ".py",
   "mimetype": "text/x-python",
   "name": "python",
   "nbconvert_exporter": "python",
   "pygments_lexer": "ipython3",
   "version": "3.12.7"
  }
 },
 "nbformat": 4,
 "nbformat_minor": 5
}
