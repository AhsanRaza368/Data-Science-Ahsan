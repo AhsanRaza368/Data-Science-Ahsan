{
 "cells": [
  {
   "cell_type": "markdown",
   "id": "925f5b5d-cfe4-4c09-b412-b24e9459d58d",
   "metadata": {},
   "source": [
    "<h1>ANN changing learning rate optimization,using different loss function, different activation functions having different learning rates etc</h1>"
   ]
  },
  {
   "cell_type": "code",
   "execution_count": 249,
   "id": "5b7e0f75-a128-49a0-b53c-2dfe45acd25a",
   "metadata": {},
   "outputs": [],
   "source": [
    "import pandas as pd\n",
    "import numpy as np\n"
   ]
  },
  {
   "cell_type": "code",
   "execution_count": 197,
   "id": "4322f2cb-e296-4a1a-b7f6-38a92cb96757",
   "metadata": {},
   "outputs": [
    {
     "name": "stdout",
     "output_type": "stream",
     "text": [
      "                       date     open     high     low    close  adj_close  \\\n",
      "0 2012-05-21 04:00:00+00:00  10.7015  10.9990  10.641  10.9055    10.9055   \n",
      "1 2012-05-22 04:00:00+00:00  10.9155  10.9435  10.698  10.7665    10.7665   \n",
      "2 2012-05-23 04:00:00+00:00  10.7355  10.8775  10.559  10.8640    10.8640   \n",
      "3 2012-05-24 04:00:00+00:00  10.8490  10.8830  10.635  10.7620    10.7620   \n",
      "4 2012-05-25 04:00:00+00:00  10.7495  10.7990  10.611  10.6445    10.6445   \n",
      "\n",
      "     volume  \n",
      "0  71596000  \n",
      "1  74662000  \n",
      "2  84876000  \n",
      "3  62822000  \n",
      "4  43428000  \n",
      "<class 'pandas.core.frame.DataFrame'>\n",
      "RangeIndex: 3238 entries, 0 to 3237\n",
      "Data columns (total 7 columns):\n",
      " #   Column     Non-Null Count  Dtype              \n",
      "---  ------     --------------  -----              \n",
      " 0   date       3238 non-null   datetime64[ns, UTC]\n",
      " 1   open       3238 non-null   float64            \n",
      " 2   high       3238 non-null   float64            \n",
      " 3   low        3238 non-null   float64            \n",
      " 4   close      3238 non-null   float64            \n",
      " 5   adj_close  3238 non-null   float64            \n",
      " 6   volume     3238 non-null   int64              \n",
      "dtypes: datetime64[ns, UTC](1), float64(5), int64(1)\n",
      "memory usage: 177.2 KB\n",
      "None\n",
      "              open         high          low        close    adj_close  \\\n",
      "count  3238.000000  3238.000000  3238.000000  3238.000000  3238.000000   \n",
      "mean     85.947427    86.922465    84.877483    85.926523    85.926523   \n",
      "std      61.878375    62.586234    61.092737    61.850855    61.850855   \n",
      "min      10.370000    10.561500    10.318500    10.411000    10.411000   \n",
      "25%      25.316999    25.622375    24.808000    25.194000    25.194000   \n",
      "50%      84.838753    85.566002    83.625248    84.627998    84.627998   \n",
      "75%     142.050003   143.938499   139.819996   142.502506   142.502506   \n",
      "max     239.020004   242.520004   238.029999   242.059998   242.059998   \n",
      "\n",
      "             volume  \n",
      "count  3.238000e+03  \n",
      "mean   7.410096e+07  \n",
      "std    4.055279e+07  \n",
      "min    1.500750e+07  \n",
      "25%    4.913950e+07  \n",
      "50%    6.332500e+07  \n",
      "75%    8.659328e+07  \n",
      "max    4.771220e+08  \n"
     ]
    }
   ],
   "source": [
    "df = pd.read_csv('AMZN_2012-05-19_2025-04-06.csv')\n",
    "df['date'] = pd.to_datetime(df['date'], utc=True)\n",
    "\n",
    "print(df.head())\n",
    "print(df.info())\n",
    "print(df.describe())\n"
   ]
  },
  {
   "cell_type": "code",
   "execution_count": 198,
   "id": "10c01fd2-e54f-4f1d-97c0-f73900ad108c",
   "metadata": {},
   "outputs": [
    {
     "name": "stdout",
     "output_type": "stream",
     "text": [
      "<class 'pandas.core.frame.DataFrame'>\n",
      "RangeIndex: 3238 entries, 0 to 3237\n",
      "Data columns (total 7 columns):\n",
      " #   Column     Non-Null Count  Dtype              \n",
      "---  ------     --------------  -----              \n",
      " 0   date       3238 non-null   datetime64[ns, UTC]\n",
      " 1   open       3238 non-null   float64            \n",
      " 2   high       3238 non-null   float64            \n",
      " 3   low        3238 non-null   float64            \n",
      " 4   close      3238 non-null   float64            \n",
      " 5   adj_close  3238 non-null   float64            \n",
      " 6   volume     3238 non-null   int64              \n",
      "dtypes: datetime64[ns, UTC](1), float64(5), int64(1)\n",
      "memory usage: 177.2 KB\n"
     ]
    }
   ],
   "source": [
    "df.info()"
   ]
  },
  {
   "cell_type": "code",
   "execution_count": 201,
   "id": "8c0e79f0-18a3-4cb1-8d0a-8d731ba28c00",
   "metadata": {},
   "outputs": [],
   "source": [
    "# Extract date parts\n",
    "df['year'] = df['date'].dt.year\n",
    "df['month'] = df['date'].dt.month\n",
    "df['day'] = df['date'].dt.day\n",
    "df['weekday'] = df['date'].dt.weekday"
   ]
  },
  {
   "cell_type": "code",
   "execution_count": 202,
   "id": "c68d8870-9b8d-4847-bd60-5e85833bb3f5",
   "metadata": {
    "scrolled": true
   },
   "outputs": [
    {
     "name": "stdout",
     "output_type": "stream",
     "text": [
      "date         0\n",
      "open         0\n",
      "high         0\n",
      "low          0\n",
      "close        0\n",
      "adj_close    0\n",
      "volume       0\n",
      "year         0\n",
      "month        0\n",
      "day          0\n",
      "weekday      0\n",
      "dtype: int64\n"
     ]
    }
   ],
   "source": [
    "print(df.isnull().sum())\n",
    "df.drop('date', axis=1, inplace=True)\n"
   ]
  },
  {
   "cell_type": "code",
   "execution_count": 203,
   "id": "e3149137-aa52-4885-8312-4e7f7e673418",
   "metadata": {},
   "outputs": [
    {
     "data": {
      "text/plain": [
       "0"
      ]
     },
     "execution_count": 203,
     "metadata": {},
     "output_type": "execute_result"
    }
   ],
   "source": [
    "df.duplicated().sum()"
   ]
  },
  {
   "cell_type": "code",
   "execution_count": 204,
   "id": "ab8f5ea6-c01c-42fb-90ac-97346c9bebc3",
   "metadata": {},
   "outputs": [],
   "source": [
    "from sklearn.preprocessing import MinMaxScaler\n",
    "scaler = MinMaxScaler()\n",
    "scaled_df = pd.DataFrame(scaler.fit_transform(df), columns=df.columns)\n"
   ]
  },
  {
   "cell_type": "code",
   "execution_count": 205,
   "id": "d80db49a-e495-46a5-bef8-6e7097aa1ff4",
   "metadata": {},
   "outputs": [],
   "source": [
    "X = scaled_df.drop('close', axis=1)\n",
    "y = scaled_df['close']\n",
    "\n",
    "from sklearn.model_selection import train_test_split\n",
    "X_train, X_test, y_train, y_test = train_test_split(X, y, test_size=0.2, random_state=42)\n"
   ]
  },
  {
   "cell_type": "code",
   "execution_count": 231,
   "id": "56ecb102-24a9-4093-9501-6262207b575c",
   "metadata": {},
   "outputs": [],
   "source": [
    "from tensorflow.keras.models import Sequential\n",
    "from tensorflow.keras.layers import Dense, Dropout, BatchNormalization\n",
    "from tensorflow.keras.optimizers import Adam, SGD, RMSprop\n",
    "from tensorflow.keras.losses import MeanSquaredError, MeanAbsoluteError, Huber\n",
    "from tensorflow.keras.activations import relu, tanh, sigmoid, elu\n",
    "\n",
    "def build_model(activation='relu', optimizer='adam', loss='mse', dropout_rate=0.2, use_batchnorm=True):\n",
    "    model = Sequential()\n",
    "    model.add(Dense(64, input_shape=(X_train.shape[1],), activation=activation))\n",
    "    if use_batchnorm:\n",
    "        model.add(BatchNormalization())\n",
    "    model.add(Dropout(dropout_rate))\n",
    "\n",
    "    model.add(Dense(32, activation=activation))\n",
    "    if use_batchnorm:\n",
    "        model.add(BatchNormalization())\n",
    "    model.add(Dropout(dropout_rate))\n",
    "\n",
    "    model.add(Dense(1))\n",
    "    model.compile(optimizer=optimizer, loss=loss, metrics=['mae'])\n",
    "    return model\n"
   ]
  },
  {
   "cell_type": "code",
   "execution_count": 233,
   "id": "dd9ee658-6455-4299-bc95-e09707a9f04e",
   "metadata": {},
   "outputs": [],
   "source": [
    "experiments = [\n",
    "    {'name': 'M1', 'activation': 'relu',    'optimizer': Adam(learning_rate=0.001), 'loss': 'mse',   'dropout': 0.2, 'batchnorm': True},\n",
    "    {'name': 'M2', 'activation': 'tanh',    'optimizer': SGD(learning_rate=0.01),   'loss': 'mae',   'dropout': 0.3, 'batchnorm': False},\n",
    "    {'name': 'M3', 'activation': 'elu',     'optimizer': RMSprop(learning_rate=0.001), 'loss': Huber(), 'dropout': 0.1, 'batchnorm': True},\n",
    "    {'name': 'M4', 'activation': 'sigmoid', 'optimizer': Adam(learning_rate=0.001), 'loss': 'mse',   'dropout': 0.5, 'batchnorm': True},\n",
    "]\n",
    "\n"
   ]
  },
  {
   "cell_type": "code",
   "execution_count": 213,
   "id": "21eccf06-fc92-45dd-b204-7962ffb989e3",
   "metadata": {},
   "outputs": [
    {
     "name": "stderr",
     "output_type": "stream",
     "text": [
      "C:\\Users\\ahsan\\anaconda3\\Lib\\site-packages\\keras\\src\\layers\\core\\dense.py:87: UserWarning: Do not pass an `input_shape`/`input_dim` argument to a layer. When using Sequential models, prefer using an `Input(shape)` object as the first layer in the model instead.\n",
      "  super().__init__(activity_regularizer=activity_regularizer, **kwargs)\n"
     ]
    }
   ],
   "source": [
    "model2 = build_model(activation='tanh', optimizer=SGD(learning_rate=0.01), loss='mae', dropout_rate=0.3, use_batchnorm=False)\n"
   ]
  },
  {
   "cell_type": "code",
   "execution_count": 235,
   "id": "c223c2ad-28a6-4ea0-b114-d4d8c72bf635",
   "metadata": {},
   "outputs": [
    {
     "name": "stdout",
     "output_type": "stream",
     "text": [
      "Training M1...\n"
     ]
    },
    {
     "name": "stderr",
     "output_type": "stream",
     "text": [
      "C:\\Users\\ahsan\\anaconda3\\Lib\\site-packages\\keras\\src\\layers\\core\\dense.py:87: UserWarning: Do not pass an `input_shape`/`input_dim` argument to a layer. When using Sequential models, prefer using an `Input(shape)` object as the first layer in the model instead.\n",
      "  super().__init__(activity_regularizer=activity_regularizer, **kwargs)\n"
     ]
    },
    {
     "name": "stdout",
     "output_type": "stream",
     "text": [
      "Training M2...\n"
     ]
    },
    {
     "name": "stderr",
     "output_type": "stream",
     "text": [
      "C:\\Users\\ahsan\\anaconda3\\Lib\\site-packages\\keras\\src\\layers\\core\\dense.py:87: UserWarning: Do not pass an `input_shape`/`input_dim` argument to a layer. When using Sequential models, prefer using an `Input(shape)` object as the first layer in the model instead.\n",
      "  super().__init__(activity_regularizer=activity_regularizer, **kwargs)\n"
     ]
    },
    {
     "name": "stdout",
     "output_type": "stream",
     "text": [
      "Training M3...\n"
     ]
    },
    {
     "name": "stderr",
     "output_type": "stream",
     "text": [
      "C:\\Users\\ahsan\\anaconda3\\Lib\\site-packages\\keras\\src\\layers\\core\\dense.py:87: UserWarning: Do not pass an `input_shape`/`input_dim` argument to a layer. When using Sequential models, prefer using an `Input(shape)` object as the first layer in the model instead.\n",
      "  super().__init__(activity_regularizer=activity_regularizer, **kwargs)\n"
     ]
    },
    {
     "name": "stdout",
     "output_type": "stream",
     "text": [
      "Training M4...\n"
     ]
    },
    {
     "name": "stderr",
     "output_type": "stream",
     "text": [
      "C:\\Users\\ahsan\\anaconda3\\Lib\\site-packages\\keras\\src\\layers\\core\\dense.py:87: UserWarning: Do not pass an `input_shape`/`input_dim` argument to a layer. When using Sequential models, prefer using an `Input(shape)` object as the first layer in the model instead.\n",
      "  super().__init__(activity_regularizer=activity_regularizer, **kwargs)\n"
     ]
    }
   ],
   "source": [
    "results = {}\n",
    "\n",
    "for exp in experiments:\n",
    "    print(f\"Training {exp['name']}...\")\n",
    "    model = build_model(activation=exp['activation'],\n",
    "                        optimizer=exp['optimizer'],\n",
    "                        loss=exp['loss'],\n",
    "                        dropout_rate=exp['dropout'],\n",
    "                        use_batchnorm=exp['batchnorm'])\n",
    "    \n",
    "    history = model.fit(X_train, y_train, epochs=50, batch_size=32,\n",
    "                        validation_data=(X_test, y_test), verbose=0)\n",
    "    \n",
    "    loss, mae = model.evaluate(X_test, y_test, verbose=0)\n",
    "    results[exp['name']] = {\n",
    "        'loss': loss,\n",
    "        'mae': mae,\n",
    "        'history': history.history\n",
    "    }\n"
   ]
  },
  {
   "cell_type": "code",
   "execution_count": 239,
   "id": "07300eee-4446-4944-b81c-64aa6837c669",
   "metadata": {},
   "outputs": [
    {
     "name": "stdout",
     "output_type": "stream",
     "text": [
      "\n",
      "Model M1\n",
      "Loss: 0.0001659034751355648\n",
      "MAE:  0.010194849222898483\n",
      "\n",
      "Model M2\n",
      "Loss: 0.00800171960145235\n",
      "MAE:  0.00800171960145235\n",
      "\n",
      "Model M3\n",
      "Loss: 0.00026301408070139587\n",
      "MAE:  0.0171380415558815\n",
      "\n",
      "Model M4\n",
      "Loss: 0.0015144436620175838\n",
      "MAE:  0.03428157418966293\n"
     ]
    }
   ],
   "source": [
    "for model_name, metrics in results.items():\n",
    "    print(f\"\\nModel {model_name}\")\n",
    "    print(f\"Loss: {metrics['loss']}\")\n",
    "    print(f\"MAE:  {metrics['mae']}\")\n"
   ]
  },
  {
   "cell_type": "code",
   "execution_count": 241,
   "id": "1fdf271b-1ea2-45eb-9328-020112822706",
   "metadata": {},
   "outputs": [
    {
     "data": {
      "image/png": "[encoded data removed]",
      "text/plain": [
       "<Figure size 640x480 with 1 Axes>"
      ]
     },
     "metadata": {},
     "output_type": "display_data"
    }
   ],
   "source": [
    "for model_name, metrics in results.items():\n",
    "    plt.plot(metrics['history']['val_loss'], label=f'{model_name} Val Loss')\n",
    "plt.title(\"Validation Loss Comparison\")\n",
    "plt.xlabel(\"Epochs\")\n",
    "plt.ylabel(\"Loss\")\n",
    "plt.legend()\n",
    "plt.show()\n"
   ]
  },
  {
   "cell_type": "markdown",
   "id": "3835ff7d-7cdc-4f05-b4bc-b81b65b910c5",
   "metadata": {},
   "source": [
    "<h1>M3 (ELU + RMSprop + Huber Loss + Dropout 0.1 + BatchNorm) performed the best overall with the lowest MAE and loss.</h1>"
   ]
  },
  {
   "cell_type": "markdown",
   "id": "d8fb52fe-15d3-4676-82b4-617df101f067",
   "metadata": {},
   "source": []
  },
  {
   "cell_type": "code",
   "execution_count": null,
   "id": "deebb261-7729-4a56-a42a-a573f05b49fb",
   "metadata": {},
   "outputs": [],
   "source": []
  },
  {
   "cell_type": "code",
   "execution_count": null,
   "id": "c370ac4f-a093-4e5d-90c1-08b9ba36e566",
   "metadata": {},
   "outputs": [],
   "source": []
  },
  {
   "cell_type": "code",
   "execution_count": null,
   "id": "905d66eb-16e6-44f6-87e9-2c4076e28dde",
   "metadata": {},
   "outputs": [],
   "source": []
  }
 ],
 "metadata": {
  "kernelspec": {
   "display_name": "Python [conda env:base] *",
   "language": "python",
   "name": "conda-base-py"
  },
  "language_info": {
   "codemirror_mode": {
    "name": "ipython",
    "version": 3
   },
   "file_extension": ".py",
   "mimetype": "text/x-python",
   "name": "python",
   "nbconvert_exporter": "python",
   "pygments_lexer": "ipython3",
   "version": "3.12.7"
  }
 },
 "nbformat": 4,
 "nbformat_minor": 5
}
