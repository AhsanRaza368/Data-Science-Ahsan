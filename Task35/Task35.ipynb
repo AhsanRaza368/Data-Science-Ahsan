{
 "cells": [
  {
   "cell_type": "markdown",
   "id": "17ac3d8a-ec0d-460d-be55-82bd63ceb63e",
   "metadata": {},
   "source": [
    "<h1>Convolutional Neural Networks (CNNs) </h1>"
   ]
  },
  {
   "cell_type": "code",
   "execution_count": null,
   "id": "f3c1c292-7643-44ed-9eef-78dedbc5b1ab",
   "metadata": {},
   "outputs": [],
   "source": [
    "!pip install tensorflow"
   ]
  },
  {
   "cell_type": "markdown",
   "id": "328a1a01-2974-491e-9132-2dd94ba70e12",
   "metadata": {},
   "source": [
    "<h1>Import Libraries<h1>"
   ]
  },
  {
   "cell_type": "code",
   "execution_count": 2,
   "id": "ca93e7f4-efc1-49df-b734-4e353867559f",
   "metadata": {},
   "outputs": [
    {
     "ename": "ModuleNotFoundError",
     "evalue": "No module named 'tensorflow'",
     "output_type": "error",
     "traceback": [
      "\u001b[1;31m---------------------------------------------------------------------------\u001b[0m",
      "\u001b[1;31mModuleNotFoundError\u001b[0m                       Traceback (most recent call last)",
      "Cell \u001b[1;32mIn[2], line 1\u001b[0m\n\u001b[1;32m----> 1\u001b[0m \u001b[38;5;28;01mimport\u001b[39;00m \u001b[38;5;21;01mtensorflow\u001b[39;00m \u001b[38;5;28;01mas\u001b[39;00m \u001b[38;5;21;01mtf\u001b[39;00m\n\u001b[0;32m      2\u001b[0m \u001b[38;5;28;01mfrom\u001b[39;00m \u001b[38;5;21;01mtensorflow\u001b[39;00m\u001b[38;5;21;01m.\u001b[39;00m\u001b[38;5;21;01mkeras\u001b[39;00m \u001b[38;5;28;01mimport\u001b[39;00m datasets, layers, models\n\u001b[0;32m      3\u001b[0m \u001b[38;5;28;01mimport\u001b[39;00m \u001b[38;5;21;01mmatplotlib\u001b[39;00m\u001b[38;5;21;01m.\u001b[39;00m\u001b[38;5;21;01mpyplot\u001b[39;00m \u001b[38;5;28;01mas\u001b[39;00m \u001b[38;5;21;01mplt\u001b[39;00m\n",
      "\u001b[1;31mModuleNotFoundError\u001b[0m: No module named 'tensorflow'"
     ]
    }
   ],
   "source": [
    "import tensorflow as tf\n",
    "from tensorflow.keras import datasets, layers, models\n",
    "import matplotlib.pyplot as plt\n"
   ]
  },
  {
   "cell_type": "markdown",
   "id": "27dcaea8-a830-49f3-8402-c5daf5a7a3d1",
   "metadata": {},
   "source": [
    "<h1>Load and Preprocess Data<h1>"
   ]
  },
  {
   "cell_type": "code",
   "execution_count": 5,
   "id": "0fe9a6b9-309e-4f0f-9458-35d1589ea4dc",
   "metadata": {},
   "outputs": [
    {
     "ename": "NameError",
     "evalue": "name 'datasets' is not defined",
     "output_type": "error",
     "traceback": [
      "\u001b[1;31m---------------------------------------------------------------------------\u001b[0m",
      "\u001b[1;31mNameError\u001b[0m                                 Traceback (most recent call last)",
      "Cell \u001b[1;32mIn[5], line 2\u001b[0m\n\u001b[0;32m      1\u001b[0m \u001b[38;5;66;03m# Load CIFAR-10 dataset\u001b[39;00m\n\u001b[1;32m----> 2\u001b[0m (x_train, y_train), (x_test, y_test) \u001b[38;5;241m=\u001b[39m datasets\u001b[38;5;241m.\u001b[39mcifar10\u001b[38;5;241m.\u001b[39mload_data()\n\u001b[0;32m      4\u001b[0m \u001b[38;5;66;03m# Normalize pixel values between 0 and 1\u001b[39;00m\n\u001b[0;32m      5\u001b[0m x_train, x_test \u001b[38;5;241m=\u001b[39m x_train \u001b[38;5;241m/\u001b[39m \u001b[38;5;241m255.0\u001b[39m, x_test \u001b[38;5;241m/\u001b[39m \u001b[38;5;241m255.0\u001b[39m\n",
      "\u001b[1;31mNameError\u001b[0m: name 'datasets' is not defined"
     ]
    }
   ],
   "source": [
    "# Load CIFAR-10 dataset\n",
    "(x_train, y_train), (x_test, y_test) = datasets.cifar10.load_data()\n",
    "\n",
    "# Normalize pixel values between 0 and 1\n",
    "x_train, x_test = x_train / 255.0, x_test / 255.0\n",
    "\n",
    "# Check shape\n",
    "print(x_train.shape)  # (50000, 32, 32, 3)\n",
    "print(y_train.shape)  # (50000, 1)\n"
   ]
  },
  {
   "cell_type": "markdown",
   "id": "2ac79335-7ed3-4d79-867e-364fd7a2492e",
   "metadata": {},
   "source": [
    "<h1>Build the CNN Model</h1>"
   ]
  },
  {
   "cell_type": "code",
   "execution_count": null,
   "id": "7f9275a6-213f-4811-aebc-316582b86cc7",
   "metadata": {},
   "outputs": [],
   "source": [
    "model = models.Sequential([\n",
    "    layers.Conv2D(32, (3, 3), activation='relu', input_shape=(32, 32, 3)),\n",
    "    layers.MaxPooling2D((2, 2)),\n",
    "\n",
    "    layers.Conv2D(64, (3, 3), activation='relu'),\n",
    "    layers.MaxPooling2D((2, 2)),\n",
    "\n",
    "    layers.Conv2D(64, (3, 3), activation='relu'),\n",
    "\n",
    "    layers.Flatten(),\n",
    "    layers.Dense(64, activation='relu'),\n",
    "    layers.Dense(10)  # 10 output classes\n",
    "])\n"
   ]
  },
  {
   "cell_type": "markdown",
   "id": "8c2f4ef4-f242-4aa0-85b7-f1850af29022",
   "metadata": {},
   "source": [
    "<h1>Compile the Model</h1>"
   ]
  },
  {
   "cell_type": "code",
   "execution_count": null,
   "id": "534cafab-bf1c-4c89-af15-8b4b482fbd67",
   "metadata": {},
   "outputs": [],
   "source": [
    "model.compile(optimizer='adam',\n",
    "              loss=tf.keras.losses.SparseCategoricalCrossentropy(from_logits=True),\n",
    "              metrics=['accuracy'])\n"
   ]
  },
  {
   "cell_type": "markdown",
   "id": "6a7b368f-a4da-498a-bca0-61c27d59482e",
   "metadata": {},
   "source": [
    "<h1>Train the Model</h1>"
   ]
  },
  {
   "cell_type": "code",
   "execution_count": null,
   "id": "29fa0de1-9cc3-48b3-9f47-fb7e53072b59",
   "metadata": {},
   "outputs": [],
   "source": [
    "history = model.fit(x_train, y_train, epochs=10,\n",
    "                    validation_data=(x_test, y_test))\n"
   ]
  },
  {
   "cell_type": "markdown",
   "id": "aa50d8cd-36bf-43dc-a6d1-dac77b93d17c",
   "metadata": {},
   "source": [
    "<h1>Evaluate the Model</h1>"
   ]
  },
  {
   "cell_type": "code",
   "execution_count": null,
   "id": "44c6340b-f45c-46de-8dfd-43655029cc9b",
   "metadata": {},
   "outputs": [],
   "source": [
    "test_loss, test_acc = model.evaluate(x_test, y_test, verbose=2)\n",
    "print(f\"Test accuracy: {test_acc}\")\n"
   ]
  },
  {
   "cell_type": "markdown",
   "id": "fa315705-9dd4-468a-8b89-116f2a7a8a2f",
   "metadata": {},
   "source": [
    "<h1>Visualize Predictions (Optional)</h1>"
   ]
  },
  {
   "cell_type": "code",
   "execution_count": null,
   "id": "2885005c-ae86-4845-9923-dd878100c9a6",
   "metadata": {},
   "outputs": [],
   "source": [
    "import numpy as np\n",
    "class_names = ['airplane', 'automobile', 'bird', 'cat', 'deer',\n",
    "               'dog', 'frog', 'horse', 'ship', 'truck']\n",
    "\n",
    "# Predict on a sample image\n",
    "probability_model = tf.keras.Sequential([model, tf.keras.layers.Softmax()])\n",
    "predictions = probability_model.predict(x_test)\n",
    "\n",
    "# Show one image with predicted label\n",
    "plt.imshow(x_test[0])\n",
    "plt.title(f\"Predicted: {class_names[np.argmax(predictions[0])]}\")\n",
    "plt.show()\n"
   ]
  },
  {
   "cell_type": "code",
   "execution_count": null,
   "id": "f70c8f9f-25ee-451e-81b5-f4e98a3c735d",
   "metadata": {},
   "outputs": [],
   "source": []
  },
  {
   "cell_type": "code",
   "execution_count": null,
   "id": "070f9e5a-4d1c-4ced-a9c5-6f6e45d97966",
   "metadata": {},
   "outputs": [],
   "source": []
  },
  {
   "cell_type": "code",
   "execution_count": null,
   "id": "6b83fbe2-3e35-4ec0-8694-37ae2e8507d9",
   "metadata": {},
   "outputs": [],
   "source": []
  },
  {
   "cell_type": "code",
   "execution_count": null,
   "id": "f53fef56-f7bf-47a6-a8fd-cc393c96fd94",
   "metadata": {},
   "outputs": [],
   "source": []
  }
 ],
 "metadata": {
  "kernelspec": {
   "display_name": "Python [conda env:base] *",
   "language": "python",
   "name": "conda-base-py"
  },
  "language_info": {
   "codemirror_mode": {
    "name": "ipython",
    "version": 3
   },
   "file_extension": ".py",
   "mimetype": "text/x-python",
   "name": "python",
   "nbconvert_exporter": "python",
   "pygments_lexer": "ipython3",
   "version": "3.12.7"
  }
 },
 "nbformat": 4,
 "nbformat_minor": 5
}
