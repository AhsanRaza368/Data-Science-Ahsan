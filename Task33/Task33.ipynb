{
 "cells": [
  {
   "cell_type": "markdown",
   "id": "70ab6a78-08f5-4fef-b1f3-5c1ed16c7597",
   "metadata": {},
   "source": [
    "<h1>Neural Networks Basics (Perceptron, Activation Functions)</h1>"
   ]
  },
  {
   "cell_type": "code",
   "execution_count": 7,
   "id": "9528cef9-222c-43ef-ae3d-525b17f3a2f0",
   "metadata": {},
   "outputs": [],
   "source": [
    "import numpy as np\n",
    "import matplotlib.pyplot as plt\n"
   ]
  },
  {
   "cell_type": "markdown",
   "id": "5b9ce3f3-82a8-420b-9008-0d4a0687a939",
   "metadata": {},
   "source": [
    "<h1>Create a Simple Dataset</h1>"
   ]
  },
  {
   "cell_type": "code",
   "execution_count": 10,
   "id": "37373643-00b8-4c98-b546-1bc0db0b3e82",
   "metadata": {},
   "outputs": [],
   "source": [
    "# Generate input data (100 points between 0 and 1)\n",
    "X = np.linspace(0, 1, 100).reshape(-1, 1)\n",
    "\n",
    "# Generate target output: y = 3*x + some noise\n",
    "y = 3 * X.squeeze() + np.random.randn(100) * 0.1\n"
   ]
  },
  {
   "cell_type": "markdown",
   "id": "a04c6cdb-7ffc-4c04-850a-6be8e3caa318",
   "metadata": {},
   "source": [
    "<h1>Define Activation Functions</h1>"
   ]
  },
  {
   "cell_type": "code",
   "execution_count": 13,
   "id": "6a7c05d8-34f1-4c1c-a50b-36e806157a18",
   "metadata": {},
   "outputs": [],
   "source": [
    "# ReLU activation\n",
    "def relu(x):\n",
    "    return np.maximum(0, x)\n",
    "\n",
    "# Derivative of ReLU (needed for backward pass)\n",
    "def relu_derivative(x):\n",
    "    return (x > 0).astype(float)\n",
    "\n",
    "# Identity activation for output layer (no non-linearity in regression output)\n",
    "def identity(x):\n",
    "    return x\n"
   ]
  },
  {
   "cell_type": "markdown",
   "id": "2808dc2a-ba88-472e-b4e0-fe39e95f2cdf",
   "metadata": {},
   "source": [
    "<h1>Initialize Parameters (Weights and Biases)</h1>"
   ]
  },
  {
   "cell_type": "code",
   "execution_count": 16,
   "id": "143c7ef4-107d-4c47-8ef4-83084805e8c4",
   "metadata": {},
   "outputs": [],
   "source": [
    "# Network architecture: \n",
    "# 1 input neuron -> 10 hidden neurons -> 1 output neuron\n",
    "\n",
    "input_size = 1\n",
    "hidden_size = 10\n",
    "output_size = 1\n",
    "\n",
    "# Initialize weights randomly\n",
    "np.random.seed(42)  # for reproducibility\n",
    "\n",
    "W1 = np.random.randn(input_size, hidden_size)  # input → hidden layer\n",
    "b1 = np.zeros((1, hidden_size))                # bias for hidden layer\n",
    "\n",
    "W2 = np.random.randn(hidden_size, output_size) # hidden → output layer\n",
    "b2 = np.zeros((1, output_size))                 # bias for output layer\n"
   ]
  },
  {
   "cell_type": "markdown",
   "id": "38350d7e-0b17-4836-a89f-a821ca7a12ed",
   "metadata": {},
   "source": [
    "<h1>Define Loss Function (MSE)</h1>"
   ]
  },
  {
   "cell_type": "code",
   "execution_count": 29,
   "id": "ff601fe6-def8-4259-87d1-82ae52e514b0",
   "metadata": {},
   "outputs": [],
   "source": [
    "def mean_squared_error(y_true, y_pred):\n",
    "    return np.mean((y_true - y_pred) ** 2)\n",
    "    "
   ]
  },
  {
   "cell_type": "markdown",
   "id": "50a35bca-c942-4789-827a-6a443a51bc30",
   "metadata": {},
   "source": [
    "<h1>Training Loop (Forward Pass → Backward Pass → Update)</h1>"
   ]
  },
  {
   "cell_type": "code",
   "execution_count": 32,
   "id": "3eab1d4d-1ee1-4c37-96dc-4c09500e59f2",
   "metadata": {},
   "outputs": [
    {
     "name": "stdout",
     "output_type": "stream",
     "text": [
      "Epoch 100/1000, Loss: 1.013075\n",
      "Epoch 200/1000, Loss: 1.201122\n",
      "Epoch 300/1000, Loss: 1.361601\n",
      "Epoch 400/1000, Loss: 1.458541\n",
      "Epoch 500/1000, Loss: 1.512658\n",
      "Epoch 600/1000, Loss: 1.541929\n",
      "Epoch 700/1000, Loss: 1.558241\n",
      "Epoch 800/1000, Loss: 1.567269\n",
      "Epoch 900/1000, Loss: 1.572274\n",
      "Epoch 1000/1000, Loss: 1.575170\n"
     ]
    }
   ],
   "source": [
    "# Training settings\n",
    "learning_rate = 0.01\n",
    "epochs = 1000\n",
    "\n",
    "# Training loop\n",
    "for epoch in range(epochs):\n",
    "    \n",
    "    # ---- Forward Pass ----\n",
    "    Z1 = np.dot(X, W1) + b1    # Input to hidden layer\n",
    "    A1 = relu(Z1)              # Activation from hidden layer\n",
    "    \n",
    "    Z2 = np.dot(A1, W2) + b2   # Input to output layer\n",
    "    y_pred = identity(Z2)      # Output (regression: no activation)\n",
    "    \n",
    "    # ---- Loss Calculation ----\n",
    "    loss = mean_squared_error(y, y_pred)\n",
    "    \n",
    "    # ---- Backward Pass ----\n",
    "    dLoss_y_pred = 2 * (y_pred - y.reshape(-1, 1)) / y.shape[0]  # Derivative of MSE\n",
    "    \n",
    "    # Gradients for W2 and b2 (hidden → output layer)\n",
    "    dLoss_W2 = np.dot(A1.T, dLoss_y_pred)\n",
    "    dLoss_b2 = np.sum(dLoss_y_pred, axis=0, keepdims=True)\n",
    "    \n",
    "    # Gradients for hidden layer\n",
    "    dLoss_A1 = np.dot(dLoss_y_pred, W2.T)\n",
    "    dLoss_Z1 = dLoss_A1 * relu_derivative(Z1)\n",
    "    \n",
    "    # Gradients for W1 and b1 (input → hidden layer)\n",
    "    dLoss_W1 = np.dot(X.T, dLoss_Z1)\n",
    "    dLoss_b1 = np.sum(dLoss_Z1, axis=0, keepdims=True)\n",
    "    \n",
    "    # ---- Update Parameters (Gradient Descent) ----\n",
    "    W2 -= learning_rate * dLoss_W2\n",
    "    b2 -= learning_rate * dLoss_b2\n",
    "    W1 -= learning_rate * dLoss_W1\n",
    "    b1 -= learning_rate * dLoss_b1\n",
    "    \n",
    "    # ---- Print Loss Every 100 Epochs ----\n",
    "    if (epoch + 1) % 100 == 0:\n",
    "        print(f\"Epoch {epoch+1}/{epochs}, Loss: {loss:.6f}\")\n"
   ]
  },
  {
   "cell_type": "markdown",
   "id": "3ca549fc-7b84-4f97-9b78-612ef5477809",
   "metadata": {},
   "source": [
    "<h1>Plot the Results</h1>"
   ]
  },
  {
   "cell_type": "code",
   "execution_count": 34,
   "id": "8823f02a-6b72-4ae4-ba92-9a8b3af07186",
   "metadata": {},
   "outputs": [
    {
     "data": {
      "image/png": "[encoded data removed]",
      "text/plain": [
       "<Figure size 640x480 with 1 Axes>"
      ]
     },
     "metadata": {},
     "output_type": "display_data"
    }
   ],
   "source": [
    "# Plotting true data vs predictions\n",
    "plt.scatter(X, y, color='blue', label='True Data')\n",
    "plt.plot(X, y_pred, color='red', label='Predictions')\n",
    "plt.title('Simple Neural Network for Regression')\n",
    "plt.xlabel('Input Feature')\n",
    "plt.ylabel('Target Output')\n",
    "plt.legend()\n",
    "plt.show()\n"
   ]
  },
  {
   "cell_type": "code",
   "execution_count": null,
   "id": "57b50add-cf57-485e-930b-fa417d8c179e",
   "metadata": {},
   "outputs": [],
   "source": []
  }
 ],
 "metadata": {
  "kernelspec": {
   "display_name": "Python [conda env:base] *",
   "language": "python",
   "name": "conda-base-py"
  },
  "language_info": {
   "codemirror_mode": {
    "name": "ipython",
    "version": 3
   },
   "file_extension": ".py",
   "mimetype": "text/x-python",
   "name": "python",
   "nbconvert_exporter": "python",
   "pygments_lexer": "ipython3",
   "version": "3.12.7"
  }
 },
 "nbformat": 4,
 "nbformat_minor": 5
}
