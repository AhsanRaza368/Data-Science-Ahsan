{
 "cells": [
  {
   "cell_type": "markdown",
   "id": "cb9cb113-1517-4826-b60b-fcd605c053f8",
   "metadata": {},
   "source": [
    "<h1>Logistic Regression from scratch</h1>"
   ]
  },
  {
   "cell_type": "code",
   "execution_count": null,
   "id": "399ec401-5fcb-4b5a-abcb-1e99e4d97abe",
   "metadata": {},
   "outputs": [],
   "source": [
    "import numpy as np\n",
    "from sklearn.datasets import load_iris\n",
    "from sklearn.model_selection import train_test_split\n",
    "from sklearn.preprocessing import StandardScaler\n",
    "\n",
    "# Load iris and filter only two classes\n",
    "iris = load_iris()\n",
    "X = iris.data\n",
    "y = iris.target\n",
    "\n",
    "# Convert it to binary (e.g., 0 if setosa, 1 otherwise)\n",
    "X = X[y != 2]\n",
    "y = y[y != 2]\n",
    "\n",
    "# Normalize\n",
    "scaler = StandardScaler()\n",
    "X = scaler.fit_transform(X)\n",
    "\n",
    "# Train/test split\n",
    "X_train, X_test, y_train, y_test = train_test_split(X, y, test_size=0.2, random_state=42)\n"
   ]
  },
  {
   "cell_type": "code",
   "execution_count": 33,
   "id": "040309a5-1518-46c3-85a3-7c950359e678",
   "metadata": {},
   "outputs": [],
   "source": [
    "def sigmoid(z):\n",
    "    return 1 / (1 + np.exp(-z))\n"
   ]
  },
  {
   "cell_type": "code",
   "execution_count": 35,
   "id": "a58a0f80-a58d-4201-951a-c279bc995a8e",
   "metadata": {},
   "outputs": [],
   "source": [
    "def compute_cost(X, y, weights):\n",
    "    m = len(y)\n",
    "    h = sigmoid(np.dot(X, weights))\n",
    "    epsilon = 1e-5  # To avoid log(0)\n",
    "    cost = -1/m * (np.dot(y, np.log(h + epsilon)) + np.dot((1 - y), np.log(1 - h + epsilon)))\n",
    "    return cost\n"
   ]
  },
  {
   "cell_type": "code",
   "execution_count": 37,
   "id": "7a25dc67-05c8-4322-8c2c-a177c3146826",
   "metadata": {},
   "outputs": [],
   "source": [
    "def gradient_descent(X, y, weights, lr, iterations):\n",
    "    m = len(y)\n",
    "    cost_history = []\n",
    "\n",
    "    for i in range(iterations):\n",
    "        h = sigmoid(np.dot(X, weights))\n",
    "        gradient = np.dot(X.T, (h - y)) / m\n",
    "        weights -= lr * gradient\n",
    "        cost = compute_cost(X, y, weights)\n",
    "        cost_history.append(cost)\n",
    "    \n",
    "    return weights, cost_history\n"
   ]
  },
  {
   "cell_type": "code",
   "execution_count": 39,
   "id": "392e4e7c-0faf-429c-a00f-b71140fc79cb",
   "metadata": {},
   "outputs": [],
   "source": [
    "# Add bias term to X\n",
    "X_train_bias = np.c_[np.ones((X_train.shape[0], 1)), X_train]\n",
    "X_test_bias = np.c_[np.ones((X_test.shape[0], 1)), X_test]\n",
    "\n",
    "# Initialize weights\n",
    "weights = np.zeros(X_train_bias.shape[1])\n",
    "\n",
    "# Train\n",
    "weights, cost_history = gradient_descent(X_train_bias, y_train, weights, lr=0.1, iterations=1000)\n"
   ]
  },
  {
   "cell_type": "code",
   "execution_count": 41,
   "id": "4ad325c2-f54e-4710-9f7d-16761a63d1e1",
   "metadata": {},
   "outputs": [
    {
     "name": "stdout",
     "output_type": "stream",
     "text": [
      "Accuracy: 1.0\n"
     ]
    }
   ],
   "source": [
    "def predict(X, weights):\n",
    "    probs = sigmoid(np.dot(X, weights))\n",
    "    return [1 if p >= 0.5 else 0 for p in probs]\n",
    "\n",
    "y_pred = predict(X_test_bias, weights)\n",
    "accuracy = np.mean(y_pred == y_test)\n",
    "print(\"Accuracy:\", accuracy)\n"
   ]
  },
  {
   "cell_type": "code",
   "execution_count": null,
   "id": "f2473f91-81eb-4028-9c74-44a58aab9848",
   "metadata": {},
   "outputs": [],
   "source": []
  },
  {
   "cell_type": "code",
   "execution_count": 11,
   "id": "993aee23-2495-4a3d-9984-8d4dfd9c982e",
   "metadata": {},
   "outputs": [],
   "source": []
  },
  {
   "cell_type": "code",
   "execution_count": null,
   "id": "fd3af91f-1738-4510-98ec-e1bc38f9d51b",
   "metadata": {},
   "outputs": [],
   "source": []
  }
 ],
 "metadata": {
  "kernelspec": {
   "display_name": "Python [conda env:base] *",
   "language": "python",
   "name": "conda-base-py"
  },
  "language_info": {
   "codemirror_mode": {
    "name": "ipython",
    "version": 3
   },
   "file_extension": ".py",
   "mimetype": "text/x-python",
   "name": "python",
   "nbconvert_exporter": "python",
   "pygments_lexer": "ipython3",
   "version": "3.12.7"
  }
 },
 "nbformat": 4,
 "nbformat_minor": 5
}
