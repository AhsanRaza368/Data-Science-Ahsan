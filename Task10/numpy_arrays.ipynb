{
 "cells": [
  {
   "cell_type": "code",
   "execution_count": 67,
   "id": "7a98bc21-3a99-405e-9fad-1ecaae6f2f9e",
   "metadata": {},
   "outputs": [
    {
     "name": "stdout",
     "output_type": "stream",
     "text": [
      "[0, 1, 2, 3, 4, 5, 6, 7]\n"
     ]
    }
   ],
   "source": [
    "import numpy as np\n",
    "# list = [0, 1, 2, 3, 4, 5, 6, 7] \n",
    "# print(list)"
   ]
  },
  {
   "cell_type": "code",
   "execution_count": 111,
   "id": "5148e600-901e-4b66-a0cb-b3734abdebae",
   "metadata": {},
   "outputs": [
    {
     "name": "stdout",
     "output_type": "stream",
     "text": [
      "[ 1  2  3  4  5  6  7  8  9 10 11 12 13 14 15 16 17 18]\n"
     ]
    }
   ],
   "source": [
    "# 1d\n",
    "l = np.arange(1,19)\n",
    "print(l)"
   ]
  },
  {
   "cell_type": "code",
   "execution_count": 117,
   "id": "106859e5-4bf5-4d05-bb76-e5d3bb06fe46",
   "metadata": {},
   "outputs": [
    {
     "data": {
      "text/plain": [
       "array([[ 1,  2,  3],\n",
       "       [ 4,  5,  6],\n",
       "       [ 7,  8,  9],\n",
       "       [10, 11, 12],\n",
       "       [13, 14, 15],\n",
       "       [16, 17, 18]])"
      ]
     },
     "execution_count": 117,
     "metadata": {},
     "output_type": "execute_result"
    }
   ],
   "source": [
    "# 2d\n",
    "l.reshape(6,3)"
   ]
  },
  {
   "cell_type": "code",
   "execution_count": 115,
   "id": "1e828841-4a59-4ba9-9987-915ae9d641b9",
   "metadata": {},
   "outputs": [
    {
     "data": {
      "text/plain": [
       "array([[[ 1,  2,  3],\n",
       "        [ 4,  5,  6]],\n",
       "\n",
       "       [[ 7,  8,  9],\n",
       "        [10, 11, 12]],\n",
       "\n",
       "       [[13, 14, 15],\n",
       "        [16, 17, 18]]])"
      ]
     },
     "execution_count": 115,
     "metadata": {},
     "output_type": "execute_result"
    }
   ],
   "source": [
    "# 3d\n",
    "l.reshape(3,2,3)"
   ]
  },
  {
   "cell_type": "code",
   "execution_count": 155,
   "id": "d1da781a-dbc5-498e-a9a7-3bb147625242",
   "metadata": {},
   "outputs": [
    {
     "name": "stdout",
     "output_type": "stream",
     "text": [
      "[[[0.98899967 0.44806967 0.99517    0.23673418]\n",
      "  [0.10112563 0.29251185 0.97116789 0.21417405]\n",
      "  [0.87390814 0.21763815 0.89965259 0.17937806]]\n",
      "\n",
      " [[0.58574511 0.79791383 0.96649121 0.43537136]\n",
      "  [0.39249882 0.1816739  0.22920615 0.93511769]\n",
      "  [0.42626742 0.76158151 0.80868216 0.85875691]]\n",
      "\n",
      " [[0.5648651  0.88166744 0.41331759 0.01512458]\n",
      "  [0.71491999 0.41279655 0.74025193 0.88228288]\n",
      "  [0.41984072 0.74937462 0.53539806 0.41636017]]]\n"
     ]
    }
   ],
   "source": [
    "# 3d\n",
    "j = np.random.rand(3,3,4)\n",
    "print(j)"
   ]
  },
  {
   "cell_type": "code",
   "execution_count": 153,
   "id": "9337c9ff-cf31-49e9-8c96-58af149ace64",
   "metadata": {},
   "outputs": [
    {
     "data": {
      "text/plain": [
       "3"
      ]
     },
     "execution_count": 153,
     "metadata": {},
     "output_type": "execute_result"
    }
   ],
   "source": [
    "j.ndim"
   ]
  },
  {
   "cell_type": "code",
   "execution_count": 141,
   "id": "f52f940b-4f5f-47c5-93e1-29d9a5ea8b8e",
   "metadata": {},
   "outputs": [
    {
     "data": {
      "text/plain": [
       "(3, 2, 2)"
      ]
     },
     "execution_count": 141,
     "metadata": {},
     "output_type": "execute_result"
    }
   ],
   "source": [
    "j.shape"
   ]
  },
  {
   "cell_type": "code",
   "execution_count": 159,
   "id": "56a139df-0fb9-46e2-8dab-01b53b80c300",
   "metadata": {},
   "outputs": [
    {
     "name": "stdout",
     "output_type": "stream",
     "text": [
      "[4 6 8]\n"
     ]
    }
   ],
   "source": [
    "# Adding 1D two arrays\n",
    "d1 = np.array([ 1, 2, 3])\n",
    "d2 = np.array([ 3, 4, 5])\n",
    "\n",
    "print(d1+d2)"
   ]
  },
  {
   "cell_type": "code",
   "execution_count": 161,
   "id": "a11b5e55-f8cd-4a59-891f-979486ad6dfa",
   "metadata": {},
   "outputs": [
    {
     "name": "stdout",
     "output_type": "stream",
     "text": [
      "[[ 6 16 12 35]\n",
      " [ 2  3 15 14]]\n"
     ]
    }
   ],
   "source": [
    "# multiplying 2d two arrays\n",
    "d3 = np.array([[2, 4, 6, 7],[1, 3, 5, 7]])\n",
    "d4 = np.array([[3, 4, 2, 5],[2, 1, 3, 2]])\n",
    "print(d3*d4)\n"
   ]
  },
  {
   "cell_type": "code",
   "execution_count": 180,
   "id": "5d325e29-cb05-42b4-ad63-f1784605ccfa",
   "metadata": {},
   "outputs": [
    {
     "name": "stdout",
     "output_type": "stream",
     "text": [
      "[[20 30 46]\n",
      " [14 22 36]\n",
      " [26 28 36]]\n"
     ]
    }
   ],
   "source": [
    "# Calculate the dot product of two matrices.\n",
    "d3 = np.array([[2, 4, 6],\n",
    "               [1, 3, 5],\n",
    "              [4, 6, 2]])\n",
    "\n",
    "d4 = np.array([[3, 4, 2],\n",
    "               [2, 1, 3],\n",
    "               [1, 3, 5]])\n",
    "\n",
    "p = np.dot(d3, d4)\n",
    "\n",
    "print(p)"
   ]
  },
  {
   "cell_type": "code",
   "execution_count": 190,
   "id": "8f9d1e83-9fb5-4467-a2cd-a0c59c67aa7f",
   "metadata": {},
   "outputs": [
    {
     "name": "stdout",
     "output_type": "stream",
     "text": [
      "[[19 22]\n",
      " [43 50]]\n"
     ]
    }
   ],
   "source": [
    "d3 = np.array([[1, 2],\n",
    "               [3, 4]])\n",
    "\n",
    "d4 = np.array([[5, 6],\n",
    "               [7, 8]])\n",
    "\n",
    "p = np.dot(d3, d4)\n",
    "print(p)"
   ]
  },
  {
   "cell_type": "code",
   "execution_count": 182,
   "id": "a8a32b3a-f613-4d7e-b94b-6b4f9ae8a092",
   "metadata": {},
   "outputs": [
    {
     "name": "stdout",
     "output_type": "stream",
     "text": [
      "min value is: 5\n",
      "max value is: 50\n",
      "range is: 45\n",
      "standard deviation is:14.361406616345072\n",
      "median quartile is: 27.5\n",
      "first quartile is: 16.25\n",
      "third quartile is: 38.75\n",
      "interqurtile range is: 22.5\n"
     ]
    }
   ],
   "source": [
    "# mean median standard deviation etc\n",
    "\n",
    "data = [10,15,20,25,5,35,30,50,40,45]\n",
    "min_value = min(data)\n",
    "print(f\"min value is: {min_value}\")\n",
    "max_value = max(data)\n",
    "print(f\"max value is: {max_value}\")\n",
    "rng = max_value - min_value\n",
    "print(f\"range is: {rng}\")\n",
    "sdeviation = np.std(data)\n",
    "print(f\"standard deviation is:{sdeviation}\")\n",
    "Q2 = np.percentile(data,50)\n",
    "print(f\"median quartile is: {Q2}\")\n",
    "Q1 = np.percentile(data, 25)\n",
    "print(f\"first quartile is: {Q1}\")\n",
    "Q3 = np.percentile(data, 75)\n",
    "print(f\"third quartile is: {Q3}\")\n",
    "IQR = Q3 - Q1\n",
    "print(f\"interqurtile range is: {IQR}\")\n",
    "\n",
    "\n"
   ]
  },
  {
   "cell_type": "code",
   "execution_count": null,
   "id": "0ec18df9-4ef1-4a4f-bf95-3e8fefcd40cc",
   "metadata": {},
   "outputs": [],
   "source": []
  },
  {
   "cell_type": "code",
   "execution_count": 184,
   "id": "aacef564-1aaa-4973-9755-8d709e8b970e",
   "metadata": {},
   "outputs": [],
   "source": [
    "data = [10, 15, 20, 25, 5, 35, 30, 50, 40, 45]\n",
    "\n",
    "# Minimum Value\n",
    "min_value = min(data)\n",
    "print(f\"Minimum value: {min_value}\")\n",
    "\n",
    "# Maximum Value\n",
    "max_value = max(data)\n",
    "print(f\"Maximum value: {max_value}\")\n",
    "\n",
    "# Range\n",
    "range_value = max_value - min_value\n",
    "print(f\"Range: {range_value}\")\n",
    "\n",
    "# Standard Deviation\n",
    "std_value = np.std(data)\n",
    "print(f\"Standard Deviation: {std_value}\")\n",
    "\n",
    "# Median (Q2)\n",
    "median = np.median(data)\n",
    "print(f\"Median (Q2): {median}\")\n",
    "\n",
    "# Q1 (25th percentile)\n",
    "q1 = np.percentile(data, 25)\n",
    "print(f\"Q1 (25th percentile): {q1}\")\n",
    "\n",
    "# Q2 (50th percentile, same as median)\n",
    "q2 = np.percentile(data, 50)\n",
    "print(f\"Q2 (50th percentile, Median): {q2}\")\n",
    "\n",
    "# Q3 (75th percentile)\n",
    "q3 = np.percentile(data, 75)\n",
    "print(f\"Q3 (75th percentile): {q3}\")\n",
    "\n",
    "# Interquartile Range (IQR)\n",
    "IQR = q3 - q1\n",
    "print(f\"Interquartile Range (IQR): {IQR}\")\n",
    "\n",
    "# Box Plot\n",
    "graph.boxplot(data, vert=False, patch_artist=True)\n",
    "graph.title(\"Box Plot\")\n",
    "graph.xlabel(\"Values\")\n",
    "graph.ylabel(\"Box-Plot\")\n",
    "\n",
    "# Annotate Q1, Q2, and Q3\n",
    "graph.axvline(q1, color='red', linestyle='dotted', label=f'Q1: {q1}')\n",
    "graph.axvline(q2, color='green', linestyle='dashed', label=f'Q2 (Median): {q2}')\n",
    "graph.axvline(q3, color='blue', linestyle='dashed', label=f'Q3: {q3}')\n",
    "graph.legend()\n",
    "\n",
    "graph.show()\n",
    "\n",
    "import numpy as np\n",
    "\n",
    "data = [10, 15, 20, 25, 5, 35, 30, 50, 40, 45]\n",
    "\n",
    "print(f\"Five Number Summary: {np.percentile(data, [0, 25, 50, 75, 100])}\")\n"
   ]
  },
  {
   "cell_type": "code",
   "execution_count": 186,
   "id": "3ed27b57-e66c-4b8a-ba9b-50d69cce6d02",
   "metadata": {},
   "outputs": [
    {
     "name": "stdout",
     "output_type": "stream",
     "text": [
      "minimum value is 1\n",
      "maximim value is [1, 3, 4, 6, 9, 5, 7, 33, 5, 6, 6, 6]\n",
      "range is: 32\n"
     ]
    }
   ],
   "source": [
    "data = [1,3,4,6,9,5,7,33,5,6,6,6,]\n",
    "minimum_value = min(data)\n",
    "print(\"minimum value is\",minimum_value)\n",
    "max_value = max(data)\n",
    "print(\"maximim value is\", data)\n",
    "range = max_value - minimum_value\n",
    "print(\"range is:\", range)\n"
   ]
  },
  {
   "cell_type": "code",
   "execution_count": 206,
   "id": "ed49565b-df78-4354-8943-4beb8d455276",
   "metadata": {},
   "outputs": [
    {
     "name": "stdout",
     "output_type": "stream",
     "text": [
      "max value is:  6\n",
      "min value is:  1\n"
     ]
    }
   ],
   "source": [
    "# find max and min from 2d array\n",
    "d3 = np.array([[2, 4, 6],\n",
    "               [1, 3, 5],\n",
    "              [4, 6, 2]])\n",
    "max_value = d3.max()\n",
    "print(\"max value is: \",max_value)\n",
    "\n",
    "min_value = d3.min()\n",
    "print(\"min value is: \",min_value)\n",
    "\n"
   ]
  },
  {
   "cell_type": "code",
   "execution_count": 461,
   "id": "00a7421a-b24f-4346-9318-8de6a3da81fc",
   "metadata": {},
   "outputs": [],
   "source": [
    "# for taking \n",
    "\n",
    "a = np.random.randint(1,1001,100)"
   ]
  },
  {
   "cell_type": "code",
   "execution_count": 463,
   "id": "7eb3e8f4-5d5c-412b-96c3-dda389785c61",
   "metadata": {},
   "outputs": [
    {
     "data": {
      "text/plain": [
       "np.float64(295.8686429819828)"
      ]
     },
     "execution_count": 463,
     "metadata": {},
     "output_type": "execute_result"
    }
   ],
   "source": [
    "np.max(a)\n",
    "np.min(a)\n",
    "np.std(a)"
   ]
  },
  {
   "cell_type": "code",
   "execution_count": 465,
   "id": "f7a48441-6ba2-4b5d-8875-69dce10cf2c6",
   "metadata": {},
   "outputs": [
    {
     "name": "stdout",
     "output_type": "stream",
     "text": [
      "[ 1  1  0  0 -1  1 -1  1  1  0 -1  0 -1  4  1 -2  0  0 -1  1 -1 -1  1  0\n",
      " -1 -2 -1  0  0  1 -1 -1  1 -1  1  0 -2  0 -1  0 -1 -1 -1 -1  0  0 -1  0\n",
      "  0  0  0  1  0  0 -1 -1 -1  2  1  2  0  0 -1 -1  2  0 -1  0  0  0 -2  0\n",
      "  0  1 -1  1  0  1 -1 -1  0 -2 -2  0 -1 -1 -1 -1 -1  1  0 -1 -1 -1  1 -1\n",
      " -1  0 -2 -1  0  1  1  0 -1  1  0 -1  0 -1  0  0 -1 -1 -1 -1  0  1 -1  2\n",
      "  1  1  0  1  2 -1  0  1  1  1  0  0  0  0  0 -2 -2 -1  0  0 -1 -1 -1  1\n",
      "  1  1  0 -1  0  1  1 -2  0 -1  0  0 -1  1 -1 -1 -1 -1 -1  2  0  0 -1  1\n",
      "  0 -1  1  0  1  0  0  0  2 -1  0 -1  1  0 -1  0  0  2  0  1  0  0  0 -1\n",
      "  1  1  2  1  0  0 -1  0  1  2 -1  0  0  0  1 -1  1  0  0 -1  1  0 -2  1\n",
      " -1 -1  2  1 -1  1 -1 -1 -1  0  0  0 -1  1  0 -1 -1 -1  1  0  0  0  2 -1\n",
      "  0 -2 -1  0  2  2  0  0  0  2  1  2 -1  0 -2  0  0  1 -1  0  1 -1 -1 -1\n",
      "  0 -1  0  0  0  0 -1  0  1  0  0 -1 -1 -2  0  1  0  0 -1  0  0 -1 -1 -1\n",
      "  0  0  0  0  1  1  0 -1  1  0 -1  0 -2 -1  0 -2  0  0 -2 -2 -1  0 -1 -1\n",
      "  1  1  0  1  2  1  1  2 -1  1  2 -1  0  1  1 -2  2  0  0  0  1 -2  1 -1\n",
      " -1  0  1  1  1 -3  0  1  2  1  0 -1 -2  1 -1  1  1 -2 -1  0  0  1  0  2\n",
      "  2 -2 -1  0  0 -1  1  1 -1 -1  0  0  0  0  1  1  2 -1 -1  0  2 -1  1  0\n",
      "  0  0  1  1  0  0 -1  0  0  1  1  0  2  0  2  1  0  1  1  0  2  1  3  1\n",
      "  1  0 -1  0  1  0  1  0  0  0 -1 -2  1  0  1  1 -1  0 -1 -1  0  0 -1 -3\n",
      "  2 -1  1 -1  1 -1  1 -1  1  0 -1 -2  0  0 -1 -1  0  0  0  1  0 -1  2 -2\n",
      "  1 -1 -1  0  1  2  0 -1  1  0  0  1  0  1  1  1 -1  1  1  1  0  0 -1  0\n",
      "  0  0  0  0 -1  0 -1  0  0  2  1  1 -2  1  0  0  0 -1  0  2  1  0  0  0\n",
      " -1  1  0  1  0  0 -1  0 -1  1  0 -2 -1  0  2 -1  0  1 -1  1  1  0 -1 -1\n",
      "  1  1 -1 -1  2  0  0  0 -2  1  0 -1  0  0  0  0  0 -1  1 -1  0 -1 -1  1\n",
      " -1 -1  1  0 -1  0 -1 -1 -2 -3  0  0  1  1  0  2  1  0 -1  2  1  1  0 -1\n",
      "  0  1  0 -2  0 -1  0 -1  1  1 -2 -1 -1  1  0 -2 -1  2  1 -2  0  1  1  1\n",
      "  1  0  1  0 -3  1  2  0  1  0  0 -1  0  2  3  1  0  0  0  0  0 -1  1  0\n",
      "  0  0 -1 -1  0  1  0 -1  0  0 -1  1  1  0  0  0  1  0  0  1  3 -1  1 -1\n",
      " -2  1 -1 -2 -1 -1  0  1  0  1 -2  1  1 -2  1  2 -1  1 -2  1  0 -1  1 -2\n",
      " -2  1 -1  1  0 -1 -1 -1  0  2  0  0  0  1 -1  0  2  0  0 -1  1  3  0  0\n",
      "  0 -1  2  0 -1  0  2  0  0  0  0  1  1  1  1  0 -1  1  1  2  2  0  0  1\n",
      "  3  0 -1  0  0  1  1 -1  0  0 -1  0 -1 -1  0  2  0 -1  1 -1 -1  1  1  0\n",
      "  1  1  0  0  0  0  1  1 -1  0 -1  1  0  0  1  0  0 -1 -1  1 -1  1  0  0\n",
      " -3 -1  1  1  1  1  1  0  1  0  1  0  0  0  0 -1 -2  2 -2  1  1  0  2  0\n",
      "  1  1  0  2 -1 -1  2  1  1  1  1  0  0 -1 -1  0  0 -2  0 -2  1  0  0  1\n",
      "  1 -1  0  0  0  1  0 -3 -1  0  1  0  1 -1  1  1  0  0 -1  1  0  1  0  0\n",
      " -1  0  1  1  0  2  1 -1  1  0  1  0 -1  1  1  1  0  1  0  0  0 -1  1  1\n",
      "  2 -1  0  1 -1  0  0  0  1 -1 -1  0  0 -3  0  0  1  0  0  1  0  0  2  1\n",
      " -1  0 -1  1  0  0  1  0  0 -1 -1  0  1 -2  1  0  1  0  0  0  0  1  1  3\n",
      " -2 -1  1  0  3  3  2 -1  0 -1  0 -1  2 -1 -1  0  0  1 -1  0 -1  0 -2  1\n",
      "  0  0 -1  0  1 -1  0 -2  0 -1  1  0  0  2  0  0 -1 -2  0  0  0  2  0 -2\n",
      "  1 -1  1  0  1 -1  0  0  0  1  0 -1  2  0  0 -1  1  0  0  1  0  1  0  1\n",
      "  3  1  0 -1  0 -2  0  1  0 -1 -1  1  0  0 -2  1]\n"
     ]
    }
   ],
   "source": [
    "data = np.random.normal(loc=0, scale=1, size=1000)\n",
    "int_data = np.round(data).astype(int)\n",
    "\n",
    "print(int_data)\n",
    "# print(data)"
   ]
  },
  {
   "cell_type": "code",
   "execution_count": 467,
   "id": "e2bd67cc-dd66-4c9d-b443-0e719a64512f",
   "metadata": {},
   "outputs": [],
   "source": [
    "mean_v = data.mean()\n",
    "max_v = data.max()\n",
    "min_v = data.min()\n",
    "satanardeviation = np.std(data)"
   ]
  },
  {
   "cell_type": "code",
   "execution_count": 469,
   "id": "4b935faa-5f70-484a-87e7-ae9dc12e89d0",
   "metadata": {},
   "outputs": [
    {
     "name": "stdout",
     "output_type": "stream",
     "text": [
      "0.045452347025457744\n",
      "3.6523907267966087\n",
      "-3.1805903370132795\n",
      "1.012298864915758\n"
     ]
    }
   ],
   "source": [
    "print(mean_v)\n",
    "print(max_v)\n",
    "print(min_v)\n",
    "print(satanardeviation)"
   ]
  },
  {
   "cell_type": "markdown",
   "id": "b691dbfd-913f-4cd5-968f-3a177fbb702c",
   "metadata": {},
   "source": [
    "<h1>10.\tCreate a 2D array of shapes (5, 5) with random integers from a uniform distribution between 10 and 50</h1>"
   ]
  },
  {
   "cell_type": "code",
   "execution_count": 471,
   "id": "0754282b-aaac-406b-a36c-ce15e6256c1e",
   "metadata": {},
   "outputs": [
    {
     "name": "stdout",
     "output_type": "stream",
     "text": [
      "[[32 33 27 44 36]\n",
      " [14 35 34 20 34]\n",
      " [38 39 23 25 24]\n",
      " [26 35 23 40 32]\n",
      " [32 47 16 17 15]]\n"
     ]
    }
   ],
   "source": [
    "b = np.random.randint(10,50, size=(5,5))\n",
    "print(b)"
   ]
  },
  {
   "cell_type": "markdown",
   "id": "8cc74e95-8441-4968-bc13-1281de043400",
   "metadata": {},
   "source": [
    "<h1>11.\tCalculate the cumulative sum of a 1D array.\n",
    "</h1>"
   ]
  },
  {
   "cell_type": "code",
   "execution_count": 474,
   "id": "ec3272ad-1675-4daa-a0a4-c46ac8270cdd",
   "metadata": {},
   "outputs": [
    {
     "name": "stdout",
     "output_type": "stream",
     "text": [
      "[ 1  4  8 14 23 28 35 68 73 79 85 91]\n"
     ]
    }
   ],
   "source": [
    "ar = np.array([1, 3, 4, 6, 9, 5, 7, 33, 5, 6, 6, 6])\n",
    "cs = np.cumsum(ar)\n",
    "print(cs)"
   ]
  },
  {
   "cell_type": "markdown",
   "id": "4da7347c-a95c-4340-9945-814483440e35",
   "metadata": {},
   "source": [
    "<h1>12.\tCompute the correlation coefficient matrix of a 2D array</h1>\n"
   ]
  },
  {
   "cell_type": "raw",
   "id": "3f70b2aa-f8c2-468a-88c9-4f65dd184fdf",
   "metadata": {},
   "source": [
    "cr = np.corrcoef(ar)\n",
    "print(cr)\n"
   ]
  },
  {
   "cell_type": "markdown",
   "id": "9866fddd-35d3-4944-9108-4dd5dd0a77f3",
   "metadata": {},
   "source": [
    "<h1>13.\tSimulate rolling a six-sided die 1000 times and count the frequency of each outcome </h1>"
   ]
  },
  {
   "cell_type": "code",
   "execution_count": 508,
   "id": "d21934b5-5c71-40b7-a82a-1fb067ab3234",
   "metadata": {},
   "outputs": [],
   "source": [
    "rol = np.random.randint(1, 7, size=1000)\n",
    "\n",
    "frequency = np.bincount(rol)[1:]"
   ]
  },
  {
   "cell_type": "code",
   "execution_count": 510,
   "id": "37ce1c8e-6c8a-440b-ba0e-2879b1e1db2f",
   "metadata": {},
   "outputs": [
    {
     "name": "stdout",
     "output_type": "stream",
     "text": [
      "[150 163 181 173 156 177]\n"
     ]
    }
   ],
   "source": [
    "print(frequency)"
   ]
  },
  {
   "cell_type": "code",
   "execution_count": null,
   "id": "3c0c58fd-ba8f-47c8-bfba-a758b630cbb1",
   "metadata": {},
   "outputs": [],
   "source": []
  }
 ],
 "metadata": {
  "kernelspec": {
   "display_name": "Python [conda env:envpro]",
   "language": "python",
   "name": "conda-env-envpro-py"
  },
  "language_info": {
   "codemirror_mode": {
    "name": "ipython",
    "version": 3
   },
   "file_extension": ".py",
   "mimetype": "text/x-python",
   "name": "python",
   "nbconvert_exporter": "python",
   "pygments_lexer": "ipython3",
   "version": "3.12.9"
  }
 },
 "nbformat": 4,
 "nbformat_minor": 5
}
