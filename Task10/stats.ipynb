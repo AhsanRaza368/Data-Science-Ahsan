{
 "cells": [
  {
   "cell_type": "code",
   "execution_count": 3,
   "id": "056ba54a-b778-4716-bd76-7ae2ec22b488",
   "metadata": {},
   "outputs": [
    {
     "name": "stdout",
     "output_type": "stream",
     "text": [
      "Value: 1, Count: 1\n",
      "Value: 2, Count: 2\n",
      "Value: 3, Count: 4\n",
      "Value: 4, Count: 2\n",
      "Value: 5, Count: 2\n",
      "Mean: 3.1818181818181817\n",
      "Medain: 3.0\n",
      "Mode: [3]\n"
     ]
    }
   ],
   "source": [
    "# import numpy as np\n",
    "# from scipy import stats\n",
    "\n",
    "\n",
    "\n",
    "# data = np.array([1,2,2,3,3,3,3,4,4,5,5])\n",
    "\n",
    "# unique, counts = np.unique(data, return_counts=True)\n",
    "\n",
    "# # for i in unique:\n",
    "# #   print(f\"Value: {i}\")\n",
    "\n",
    "# # for i in counts:\n",
    "# #   print(f\"Count: {i}\")\n",
    "\n",
    "# for a , b in zip(unique, counts):\n",
    "#   print(f\"Value: {a}, Count: {b}\")\n",
    "\n",
    "# mean_value = np.mean(data)\n",
    "# print(f\"Mean: {mean_value}\")\n",
    "\n",
    "# median_value = np.median(data)\n",
    "# print(f\"Medain: {median_value}\")\n",
    "\n",
    "# mode_value = stats.mode(data, keepdims=True)\n",
    "# print(f\"Mode: {mode_value[0]}\")\n",
    "\n",
    "# print(unique)"
   ]
  },
  {
   "cell_type": "code",
   "execution_count": 29,
   "id": "9c3ee314-f70e-46c1-9c78-df2ac41dc848",
   "metadata": {},
   "outputs": [
    {
     "name": "stdout",
     "output_type": "stream",
     "text": [
      "value: 10,counts: 1\n",
      "value: 11,counts: 1\n",
      "value: 12,counts: 1\n",
      "value: 13,counts: 1\n",
      "value: 14,counts: 2\n",
      "value: 15,counts: 2\n",
      "value: 16,counts: 1\n",
      "value: 17,counts: 1\n",
      "value: 18,counts: 1\n",
      "value: 19,counts: 1\n",
      "value: 20,counts: 1\n",
      "mean: 14.923076923076923\n",
      "median: 15.0\n",
      "Mode: [14]\n",
      "[10 11 12 13 14 15 16 17 18 19 20]\n"
     ]
    }
   ],
   "source": [
    "import numpy as np\n",
    "from scipy import stats\n",
    "\n",
    "data1 = np.array([10,11,12,13,14,14,15,15,16,17,18,19,20])\n",
    "\n",
    "unique1,counts1 = np.unique(data1, return_counts=True)\n",
    "\n",
    "for a,b in zip(unique, counts1):\n",
    "    print(f\"value: {a},counts: {b}\")\n",
    "\n",
    "mean_value = np.mean(data1)\n",
    "print(f\"mean: {mean_value}\")\n",
    "\n",
    "median_value = np.median(data1)\n",
    "print(f\"median: {median_value}\")\n",
    "\n",
    "mode_value = stats.mode(data1, keepdims=True)\n",
    "print(f\"Mode: {mode_value[0]}\")\n",
    "\n",
    "print(unique)\n",
    "\n",
    "    "
   ]
  },
  {
   "cell_type": "code",
   "execution_count": 37,
   "id": "25e78832-1102-4505-9654-c388a2764b91",
   "metadata": {},
   "outputs": [],
   "source": []
  },
  {
   "cell_type": "code",
   "execution_count": 45,
   "id": "1fd28508-6050-4e79-8a7e-8578829e4db8",
   "metadata": {},
   "outputs": [
    {
     "name": "stdout",
     "output_type": "stream",
     "text": [
      "value: 3, counts: 4\n",
      "value: 4, counts: 4\n",
      "value: 5, counts: 4\n",
      "value: 7, counts: 8\n",
      "value: 8, counts: 8\n"
     ]
    }
   ],
   "source": [
    "from scipy import stats\n",
    "import numpy as np\n",
    "\n",
    "data2 = np.array([4,4,4,4,5,5,5,5,3,3,3,3,7,7,7,7,7,7,7,7,8,8,8,8,8,8,8,8])\n",
    "unique, counts3 = np.unique(data2,return_counts=True)\n",
    "for a,b in zip(unique, counts3):\n",
    "    print(f\"value: {a}, counts: {b}\")\n",
    "\n",
    "mean_value = \n",
    "\n",
    "\n",
    "\n"
   ]
  },
  {
   "cell_type": "code",
   "execution_count": null,
   "id": "3e45773c-c131-4669-8722-eaa8d1a7763a",
   "metadata": {},
   "outputs": [],
   "source": []
  }
 ],
 "metadata": {
  "kernelspec": {
   "display_name": "Python [conda env:base] *",
   "language": "python",
   "name": "conda-base-py"
  },
  "language_info": {
   "codemirror_mode": {
    "name": "ipython",
    "version": 3
   },
   "file_extension": ".py",
   "mimetype": "text/x-python",
   "name": "python",
   "nbconvert_exporter": "python",
   "pygments_lexer": "ipython3",
   "version": "3.12.7"
  }
 },
 "nbformat": 4,
 "nbformat_minor": 5
}
