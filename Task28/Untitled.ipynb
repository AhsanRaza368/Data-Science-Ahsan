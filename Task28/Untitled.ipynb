{
 "cells": [
  {
   "cell_type": "markdown",
   "id": "77832283-df93-468b-9aa1-58c993a6c86c",
   "metadata": {},
   "source": [
    "<h1>Exploring Cross-Validation, Overfitting, and Underfitting</h1>"
   ]
  },
  {
   "cell_type": "markdown",
   "id": "b26f4305-6c48-449e-bd6f-77a4e065b4f8",
   "metadata": {},
   "source": [
    "<h1>Cross-Validation</h1>"
   ]
  },
  {
   "cell_type": "code",
   "execution_count": 12,
   "id": "8000ac57-c437-4ee6-9fbe-a1984d02b3d1",
   "metadata": {},
   "outputs": [
    {
     "name": "stdout",
     "output_type": "stream",
     "text": [
      "Cross-validation scores: [0.96666667 1.         0.93333333 0.96666667 1.        ]\n",
      "Average CV Score: 0.9733333333333334\n"
     ]
    }
   ],
   "source": [
    "from sklearn.model_selection import cross_val_score\n",
    "from sklearn.linear_model import LogisticRegression\n",
    "from sklearn.datasets import load_iris\n",
    "\n",
    "# Load data\n",
    "iris = load_iris()\n",
    "X, y = iris.data, iris.target\n",
    "\n",
    "# Model\n",
    "model = LogisticRegression(max_iter=200)\n",
    "\n",
    "# Perform 5-fold cross-validation\n",
    "scores = cross_val_score(model, X, y, cv=5)\n",
    "print(\"Cross-validation scores:\", scores)\n",
    "print(\"Average CV Score:\", scores.mean())\n"
   ]
  },
  {
   "cell_type": "markdown",
   "id": "371f3579-7d90-436a-9ddc-4129114002a7",
   "metadata": {},
   "source": [
    "<h1>Overfitting</h1>"
   ]
  },
  {
   "cell_type": "code",
   "execution_count": 16,
   "id": "9a3bfdd4-d150-4c79-a6f7-bb6cd5be3d04",
   "metadata": {},
   "outputs": [
    {
     "name": "stdout",
     "output_type": "stream",
     "text": [
      "Train Accuracy: 1.0\n",
      "Test Accuracy: 0.8888888888888888\n"
     ]
    }
   ],
   "source": [
    "from sklearn.tree import DecisionTreeClassifier\n",
    "from sklearn.model_selection import train_test_split\n",
    "\n",
    "X_train, X_test, y_train, y_test = train_test_split(X, y, test_size=0.3)\n",
    "\n",
    "overfit_model = DecisionTreeClassifier(max_depth=None)  # No depth limit = overfitting risk\n",
    "overfit_model.fit(X_train, y_train)\n",
    "\n",
    "print(\"Train Accuracy:\", overfit_model.score(X_train, y_train))\n",
    "print(\"Test Accuracy:\", overfit_model.score(X_test, y_test))\n"
   ]
  },
  {
   "cell_type": "code",
   "execution_count": null,
   "id": "ef83de62-b8e4-4eae-9953-8ddb9e681431",
   "metadata": {},
   "outputs": [],
   "source": [
    "<h1>Underfitting</h1>"
   ]
  },
  {
   "cell_type": "code",
   "execution_count": 24,
   "id": "462a59a3-328c-46f5-9a44-b6b45edd7506",
   "metadata": {},
   "outputs": [
    {
     "name": "stdout",
     "output_type": "stream",
     "text": [
      "Train Accuracy: 0.9809523809523809\n",
      "Test Accuracy: 0.9555555555555556\n"
     ]
    }
   ],
   "source": [
    "from sklearn.linear_model import LogisticRegression\n",
    "\n",
    "underfit_model = LogisticRegression(max_iter=100)\n",
    "underfit_model.fit(X_train, y_train)\n",
    "\n",
    "print(\"Train Accuracy:\", underfit_model.score(X_train, y_train))\n",
    "print(\"Test Accuracy:\", underfit_model.score(X_test, y_test))\n"
   ]
  },
  {
   "cell_type": "code",
   "execution_count": null,
   "id": "71a37a75-d237-4492-8b88-e400b6785fc4",
   "metadata": {},
   "outputs": [],
   "source": []
  },
  {
   "cell_type": "code",
   "execution_count": null,
   "id": "6f41a94e-c131-484c-877e-b33154ffc30b",
   "metadata": {},
   "outputs": [],
   "source": []
  },
  {
   "cell_type": "code",
   "execution_count": null,
   "id": "699f9233-4768-4c30-9062-ac649a1fc75f",
   "metadata": {},
   "outputs": [],
   "source": []
  },
  {
   "cell_type": "code",
   "execution_count": null,
   "id": "13eb78cf-a79c-4d8d-988e-313f690dc93c",
   "metadata": {},
   "outputs": [],
   "source": []
  },
  {
   "cell_type": "code",
   "execution_count": null,
   "id": "38f3834e-e85b-474d-9c45-503767f4815f",
   "metadata": {},
   "outputs": [],
   "source": []
  }
 ],
 "metadata": {
  "kernelspec": {
   "display_name": "Python [conda env:base] *",
   "language": "python",
   "name": "conda-base-py"
  },
  "language_info": {
   "codemirror_mode": {
    "name": "ipython",
    "version": 3
   },
   "file_extension": ".py",
   "mimetype": "text/x-python",
   "name": "python",
   "nbconvert_exporter": "python",
   "pygments_lexer": "ipython3",
   "version": "3.12.7"
  }
 },
 "nbformat": 4,
 "nbformat_minor": 5
}
