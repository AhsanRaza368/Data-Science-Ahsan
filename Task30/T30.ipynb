{
 "cells": [
  {
   "cell_type": "markdown",
   "id": "9719235b-ff19-499f-8682-b698197048e8",
   "metadata": {},
   "source": [
    "<h1>Some preprocessing Using scikit-learn</h1>"
   ]
  },
  {
   "cell_type": "markdown",
   "id": "316781fe-64ec-4a53-a613-1873c2c0b7a2",
   "metadata": {},
   "source": [
    "<h1>Scaling Numerical Features</h1>"
   ]
  },
  {
   "cell_type": "code",
   "execution_count": null,
   "id": "f5e29d00-4f43-4871-908b-ea7c29a47c4b",
   "metadata": {},
   "outputs": [],
   "source": [
    "from sklearn.preprocessing import StandardScaler\n",
    "\n",
    "scaler = StandardScaler()\n",
    "X_scaled = scaler.fit_transform(X_numeric)\n"
   ]
  },
  {
   "cell_type": "markdown",
   "id": "734d967c-f7eb-4f11-b8e9-282db81811fa",
   "metadata": {},
   "source": [
    "<h1> Encoding Categorical Features</h1>"
   ]
  },
  {
   "cell_type": "code",
   "execution_count": null,
   "id": "342a4bf8-54a8-43a5-9976-a4922cfafeff",
   "metadata": {},
   "outputs": [],
   "source": [
    "from sklearn.preprocessing import OneHotEncoder\n",
    "\n",
    "encoder = OneHotEncoder(sparse=False)\n",
    "X_encoded = encoder.fit_transform(X_categorical)\n"
   ]
  },
  {
   "cell_type": "markdown",
   "id": "c2033bbb-7bbe-48d4-be6f-1ca935a6cd18",
   "metadata": {},
   "source": [
    "<h1> Imputing Missing Values</h1>"
   ]
  },
  {
   "cell_type": "code",
   "execution_count": null,
   "id": "a370e259-d0c3-47ba-82e3-f794dcb5f94a",
   "metadata": {},
   "outputs": [],
   "source": [
    "from sklearn.impute import SimpleImputer\n",
    "\n",
    "imputer = SimpleImputer(strategy='mean') \n",
    "X_filled = imputer.fit_transform(X_with_missing)\n"
   ]
  },
  {
   "cell_type": "markdown",
   "id": "80d4d4b7-cd84-4211-973e-02f63f6ed79e",
   "metadata": {},
   "source": [
    "<h1>Putting All Together Using ColumnTransformer</h1>"
   ]
  },
  {
   "cell_type": "code",
   "execution_count": null,
   "id": "4858f15b-0c94-45d6-bdfa-a394cc9bd3fb",
   "metadata": {},
   "outputs": [],
   "source": [
    "from sklearn.compose import ColumnTransformer\n",
    "from sklearn.pipeline import Pipeline\n",
    "\n",
    "preprocessor = ColumnTransformer(                                  #we use thid when we have both catogorical and numerical data😂🤣🤣\n",
    "    transformers=[\n",
    "        ('num', StandardScaler(), ['age', 'income']),\n",
    "        ('cat', OneHotEncoder(), ['gender', 'city'])\n",
    "    ])\n",
    "\n",
    "# Add model in pipeline\n",
    "from sklearn.linear_model import LogisticRegression\n",
    "\n",
    "pipe = Pipeline(steps=[\n",
    "    ('preprocess', preprocessor),\n",
    "    ('model', LogisticRegression())\n",
    "])\n",
    "\n",
    "pipe.fit(X_train, y_train)\n"
   ]
  },
  {
   "cell_type": "code",
   "execution_count": null,
   "id": "9fac7ba9-3d02-46dc-9c95-78a8b2690713",
   "metadata": {},
   "outputs": [],
   "source": [
    "from sklearn.model_selection import GridSearchCV\n",
    "\n",
    "param_grid = {'model__C': [0.1, 1, 10]}\n",
    "grid = GridSearchCV(pipe, param_grid, cv=5)\n",
    "grid.fit(X_train, y_train)\n",
    "\n",
    "print(grid.best_params_)\n"
   ]
  },
  {
   "cell_type": "code",
   "execution_count": null,
   "id": "8407b796-b5a2-4188-a255-7c6eae517081",
   "metadata": {},
   "outputs": [],
   "source": [
    "from sklearn.model_selection import RandomizedSearchCV\n",
    "from scipy.stats import uniform\n",
    "\n",
    "param_dist = {'model__C': uniform(0.1, 10)}\n",
    "random = RandomizedSearchCV(pipe, param_dist, n_iter=10, cv=5)\n",
    "random.fit(X_train, y_train)\n",
    "\n",
    "print(random.best_params_)\n"
   ]
  },
  {
   "cell_type": "code",
   "execution_count": null,
   "id": "f9a02bb8-b7ab-4f68-8e00-7a0321fd45b2",
   "metadata": {},
   "outputs": [],
   "source": []
  },
  {
   "cell_type": "code",
   "execution_count": null,
   "id": "b6b081fd-64b0-486a-adff-df656e27d0f7",
   "metadata": {},
   "outputs": [],
   "source": []
  },
  {
   "cell_type": "code",
   "execution_count": null,
   "id": "e50f3a21-eddb-464a-bc44-32a36c73fbbe",
   "metadata": {},
   "outputs": [],
   "source": []
  },
  {
   "cell_type": "code",
   "execution_count": null,
   "id": "f0cd4436-0a75-40f4-8505-17c698730f92",
   "metadata": {},
   "outputs": [],
   "source": []
  }
 ],
 "metadata": {
  "kernelspec": {
   "display_name": "Python [conda env:base] *",
   "language": "python",
   "name": "conda-base-py"
  },
  "language_info": {
   "codemirror_mode": {
    "name": "ipython",
    "version": 3
   },
   "file_extension": ".py",
   "mimetype": "text/x-python",
   "name": "python",
   "nbconvert_exporter": "python",
   "pygments_lexer": "ipython3",
   "version": "3.12.7"
  }
 },
 "nbformat": 4,
 "nbformat_minor": 5
}
