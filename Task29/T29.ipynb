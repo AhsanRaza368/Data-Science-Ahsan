{
 "cells": [
  {
   "cell_type": "code",
   "execution_count": null,
   "id": "9123f9c7-b98d-41b7-a7a2-696a5c1e7264",
   "metadata": {},
   "outputs": [],
   "source": []
  },
  {
   "cell_type": "markdown",
   "id": "c0290fd2-7a41-479f-9ef3-88bf0b04d76b",
   "metadata": {},
   "source": [
    "<h1>Common Models in scikit-learn & Where Hyperparameters Matter\n",
    "</h1>\n",
    "<h3>1. Linear Regression</h3>\n",
    "Used for: Predicting continuous values (e.g., house prices)\n",
    "\n",
    "Common hyperparameter:\n",
    "\n",
    "fit_intercept – whether to calculate the intercept or not.\n",
    "\n",
    "<h1>2. Logistic Regression</h1>\n",
    "Used for: Binary classification (e.g., spam vs not spam)\n",
    "\n",
    "Hyperparameters:\n",
    "\n",
    "C (Inverse of regularization strength)\n",
    "\n",
    "penalty (l1, l2)\n",
    "\n",
    "solver (optimization algorithm like liblinear, saga)\n",
    "\n",
    "<h1>3. Decision Tree</h1>\n",
    "Used for: Classification or regression\n",
    "\n",
    "Hyperparameters:\n",
    "\n",
    "max_depth, min_samples_split, min_samples_leaf\n",
    "\n",
    "<h1>4. Random Forest</h1>\n",
    "An ensemble of Decision Trees\n",
    "\n",
    "Hyperparameters:\n",
    "\n",
    "n_estimators, max_features, bootstrap\n",
    "\n",
    "<h1>5. Support Vector Machines (SVM)</h1>\n",
    "Used for: Classification and regression\n",
    "\n",
    "Hyperparameters:\n",
    "\n",
    "C, kernel (linear, rbf), gamma\n",
    "\n",
    "<h1>6. k-Nearest Neighbors (KNN)</h1>\n",
    "Used for: Classification or regression\n",
    "\n",
    "Hyperparameters:\n",
    "\n",
    "n_neighbors, weights (uniform or distance)"
   ]
  },
  {
   "cell_type": "markdown",
   "id": "6d38afce-0883-4358-b733-c1e5b38b9178",
   "metadata": {},
   "source": [
    "<h1>Hyperparameter Tuning Techniques</h1>"
   ]
  },
  {
   "cell_type": "markdown",
   "id": "3aee8bb5-803a-4a6c-88f8-62da7edda474",
   "metadata": {},
   "source": [
    "<h1>Grid Search</h1>"
   ]
  },
  {
   "cell_type": "markdown",
   "id": "bcb33735-382d-4ae2-b1f8-1a4d427590c6",
   "metadata": {},
   "source": [
    "from sklearn.model_selection import GridSearchCV\n",
    "\n",
    "params = {'n_neighbors': [3, 5, 7], 'weights': ['uniform', 'distance']}\n",
    "grid = GridSearchCV(KNeighborsClassifier(), params, cv=5)\n",
    "grid.fit(X, y)\n",
    "print(grid.best_params_)\n"
   ]
  },
  {
   "cell_type": "markdown",
   "id": "9efc8e4b-f267-4855-92e6-3275ae017295",
   "metadata": {},
   "source": [
    "<h1>Random Search</h1>"
   ]
  },
  {
   "cell_type": "code",
   "execution_count": null,
   "id": "74bccc3f-8cbe-41c9-817f-49ced0b67ef2",
   "metadata": {},
   "outputs": [],
   "source": [
    "from sklearn.model_selection import RandomizedSearchCV\n",
    "\n",
    "from scipy.stats import randint\n",
    "params = {'n_neighbors': randint(1, 20), 'weights': ['uniform', 'distance']}\n",
    "rand = RandomizedSearchCV(KNeighborsClassifier(), params, cv=5, n_iter=10)\n",
    "rand.fit(X, y)\n",
    "print(rand.best_params_)\n"
   ]
  },
  {
   "cell_type": "markdown",
   "id": "c15e738a-ce8d-4bd4-893c-4de58364949b",
   "metadata": {},
   "source": [
    "<h1>Bayesian Optimization</h1>"
   ]
  },
  {
   "cell_type": "markdown",
   "id": "107f435a-a957-4bf1-9673-01208fa9e57c",
   "metadata": {},
   "source": [
    "Tools:\n",
    "scikit-optimize (BayesSearchCV)\n",
    "\n",
    "optuna\n",
    "\n",
    "hyperopt"
   ]
  },
  {
   "cell_type": "code",
   "execution_count": null,
   "id": "21293ed6-25a6-4021-a392-448b84a5d7e3",
   "metadata": {},
   "outputs": [],
   "source": [
    "Technique\t    Speed\t    Coverage\t               Use When\n",
    "Grid Search \tslow\t  Full  \t      Small parameter space\n",
    "Random Search\tFast\t  Partial\t       Larger space, limited time\n",
    "Bayesian Opt.\tSmart  Efficient\t   You want intelligent search"
   ]
  }
 ],
 "metadata": {
  "kernelspec": {
   "display_name": "Python [conda env:base] *",
   "language": "python",
   "name": "conda-base-py"
  },
  "language_info": {
   "codemirror_mode": {
    "name": "ipython",
    "version": 3
   },
   "file_extension": ".py",
   "mimetype": "text/x-python",
   "name": "python",
   "nbconvert_exporter": "python",
   "pygments_lexer": "ipython3",
   "version": "3.12.7"
  }
 },
 "nbformat": 4,
 "nbformat_minor": 5
}
