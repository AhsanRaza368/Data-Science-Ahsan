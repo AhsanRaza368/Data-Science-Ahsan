{
 "cells": [
  {
   "cell_type": "markdown",
   "id": "4e533f82-85cd-4262-b480-1ead4f8fab8a",
   "metadata": {},
   "source": [
    "<h1>Task 21-> Linear algebra and calculus in NumPy</h1>"
   ]
  },
  {
   "cell_type": "markdown",
   "id": "94befdde-560b-4cdd-95b9-a52a6effb052",
   "metadata": {},
   "source": [
    "<h1>1.\tMatrix Creation and Manipulation</h1>"
   ]
  },
  {
   "cell_type": "code",
   "execution_count": 7,
   "id": "eab873e4-6ccb-4441-a4e8-a05760e2cef2",
   "metadata": {},
   "outputs": [],
   "source": [
    "import numpy as np"
   ]
  },
  {
   "cell_type": "code",
   "execution_count": 25,
   "id": "7394f2f3-787f-419e-8942-eb716b9d3986",
   "metadata": {},
   "outputs": [
    {
     "name": "stdout",
     "output_type": "stream",
     "text": [
      "Zero Matrix:\n",
      " [[0. 0. 0.]\n",
      " [0. 0. 0.]\n",
      " [0. 0. 0.]]\n",
      "\n",
      "Identity Matrix:\n",
      " [[1. 0.]\n",
      " [0. 1.]]\n",
      "\n",
      "Random Matrix:\n",
      " [[0.789685   0.96959692 0.83768007]\n",
      " [0.05012118 0.54839414 0.484255  ]\n",
      " [0.66738508 0.67801022 0.93814083]]\n"
     ]
    }
   ],
   "source": [
    "zero_matrix = np.zeros((3, 3))\n",
    "print(\"Zero Matrix:\\n\", zero_matrix)\n",
    "\n",
    "identity_matrix = np.eye(2)\n",
    "print(\"\\nIdentity Matrix:\\n\", identity_matrix)\n",
    "\n",
    "random_matrix = np.random.rand(3, 3)\n",
    "print(\"\\nRandom Matrix:\\n\", random_matrix)\n"
   ]
  },
  {
   "cell_type": "code",
   "execution_count": 39,
   "id": "3b969e33-d66c-428a-9f76-f2fe2be28f3f",
   "metadata": {},
   "outputs": [
    {
     "name": "stdout",
     "output_type": "stream",
     "text": [
      "[[0.17832282 0.88442525]\n",
      " [0.04655099 0.16467502]]\n",
      "[[0.42652325 0.1919796 ]\n",
      " [0.08315268 0.96145125]]\n"
     ]
    }
   ],
   "source": [
    "a=np.random.rand(2,2)\n",
    "b=np.random.rand(2,2)\n",
    "print(a)\n",
    "print(b)"
   ]
  },
  {
   "cell_type": "code",
   "execution_count": 41,
   "id": "19bcecf2-8ea7-4110-b01b-f9d64dd1312e",
   "metadata": {},
   "outputs": [
    {
     "name": "stdout",
     "output_type": "stream",
     "text": [
      "[[0.60484607 1.07640484]\n",
      " [0.12970366 1.12612628]]\n"
     ]
    }
   ],
   "source": [
    "add =a+b\n",
    "print(add)"
   ]
  },
  {
   "cell_type": "code",
   "execution_count": 43,
   "id": "d9af6d7f-97cf-4ac0-9414-f20fedb51985",
   "metadata": {},
   "outputs": [
    {
     "name": "stdout",
     "output_type": "stream",
     "text": [
      "[[-0.24820043  0.69244565]\n",
      " [-0.03660169 -0.79677623]]\n"
     ]
    }
   ],
   "source": [
    "sub =a-b\n",
    "print(sub)"
   ]
  },
  {
   "cell_type": "code",
   "execution_count": 49,
   "id": "35a0ae19-9d54-4250-bc97-83f97312afa7",
   "metadata": {},
   "outputs": [
    {
     "name": "stdout",
     "output_type": "stream",
     "text": [
      "[[0.07605883 0.1697916 ]\n",
      " [0.00387084 0.15832701]]\n"
     ]
    }
   ],
   "source": [
    "Multiply =a*b\n",
    "print(Multiply)"
   ]
  },
  {
   "cell_type": "code",
   "execution_count": 47,
   "id": "b2f21d77-e8a9-42b0-bc75-b68f12055a8e",
   "metadata": {},
   "outputs": [
    {
     "name": "stdout",
     "output_type": "stream",
     "text": [
      "[[0.41808464 4.60687106]\n",
      " [0.55982548 0.17127756]]\n"
     ]
    }
   ],
   "source": [
    "divide =a/b\n",
    "print(divide)"
   ]
  },
  {
   "cell_type": "code",
   "execution_count": 51,
   "id": "3da41b54-7c47-4735-a49a-8b3ef95fbde1",
   "metadata": {},
   "outputs": [
    {
     "name": "stdout",
     "output_type": "stream",
     "text": [
      "\n",
      "Transpose:\n",
      " [[4 2]\n",
      " [7 6]]\n",
      "\n",
      "Determinant:\n",
      " 10.000000000000002\n",
      "\n",
      "Inverse:\n",
      " [[ 0.6 -0.7]\n",
      " [-0.2  0.4]]\n"
     ]
    }
   ],
   "source": [
    "C = np.array([[4, 7], [2, 6]])\n",
    "\n",
    "\n",
    "transpose_C = C.T\n",
    "print(\"\\nTranspose:\\n\", transpose_C)\n",
    "\n",
    "\n",
    "det_C = np.linalg.det(C)\n",
    "print(\"\\nDeterminant:\\n\", det_C)\n",
    "\n",
    "\n",
    "if det_C != 0:\n",
    "    inverse_C = np.linalg.inv(C)\n",
    "    print(\"\\nInverse:\\n\", inverse_C)\n",
    "else:\n",
    "    print(\"\\nMatrix is singular and cannot be inverted.\")\n"
   ]
  },
  {
   "cell_type": "code",
   "execution_count": 53,
   "id": "9d8f5278-2c90-4289-8610-2166bb008ef5",
   "metadata": {},
   "outputs": [
    {
     "name": "stdout",
     "output_type": "stream",
     "text": [
      "Solution (x, y): [1. 2.]\n"
     ]
    }
   ],
   "source": [
    "import numpy as np\n",
    "\n",
    "A = np.array([[2, 3], \n",
    "              [3, 4]])\n",
    "\n",
    "\n",
    "B = np.array([8, 11])\n",
    "\n",
    "\n",
    "X = np.linalg.solve(A, B)\n",
    "print(\"Solution (x, y):\", X)\n"
   ]
  },
  {
   "cell_type": "code",
   "execution_count": 55,
   "id": "7a03ee98-3f9c-49cd-a99a-63024a10d63b",
   "metadata": {},
   "outputs": [
    {
     "name": "stdout",
     "output_type": "stream",
     "text": [
      "Permutation Matrix P:\n",
      " [[0. 1.]\n",
      " [1. 0.]]\n",
      "Lower Triangular Matrix L:\n",
      " [[1.         0.        ]\n",
      " [0.66666667 1.        ]]\n",
      "Upper Triangular Matrix U:\n",
      " [[3.         4.        ]\n",
      " [0.         0.33333333]]\n"
     ]
    }
   ],
   "source": [
    "from scipy.linalg import lu\n",
    "\n",
    "# Matrix A\n",
    "A = np.array([[2, 3], [3, 4]])\n",
    "\n",
    "\n",
    "P, L, U = lu(A)\n",
    "\n",
    "print(\"Permutation Matrix P:\\n\", P)\n",
    "print(\"Lower Triangular Matrix L:\\n\", L)\n",
    "print(\"Upper Triangular Matrix U:\\n\", U)\n"
   ]
  },
  {
   "cell_type": "code",
   "execution_count": 59,
   "id": "9c751489-b315-4645-b0a1-2eb277ab8f98",
   "metadata": {},
   "outputs": [
    {
     "name": "stdout",
     "output_type": "stream",
     "text": [
      "Orthogonal Matrix Q:\n",
      " [[-0.5547002  -0.83205029]\n",
      " [-0.83205029  0.5547002 ]]\n",
      "Upper Triangular Matrix R:\n",
      " [[-3.60555128 -4.99230177]\n",
      " [ 0.         -0.2773501 ]]\n"
     ]
    }
   ],
   "source": [
    "A = np.array([[2, 3], [3, 4]])\n",
    "Q, R = np.linalg.qr(A)\n",
    "\n",
    "print(\"Orthogonal Matrix Q:\\n\", Q)\n",
    "print(\"Upper Triangular Matrix R:\\n\", R)"
   ]
  },
  {
   "cell_type": "code",
   "execution_count": 68,
   "id": "1166d9f8-6de9-4eba-8adc-73f2fc4de301",
   "metadata": {},
   "outputs": [],
   "source": [
    "import numpy as np\n",
    "\n",
    "A = np.array([[4, -2],\n",
    "              [1, 1]])"
   ]
  },
  {
   "cell_type": "code",
   "execution_count": 70,
   "id": "faecbceb-53c2-47bb-813c-180204d76003",
   "metadata": {},
   "outputs": [
    {
     "name": "stdout",
     "output_type": "stream",
     "text": [
      "Eigenvalues:\n",
      " [3. 2.]\n",
      "Eigenvectors:\n",
      " [[0.89442719 0.70710678]\n",
      " [0.4472136  0.70710678]]\n"
     ]
    }
   ],
   "source": [
    "\n",
    "eigenvalues, eigenvectors = np.linalg.eig(A)\n",
    "\n",
    "print(\"Eigenvalues:\\n\", eigenvalues)\n",
    "print(\"Eigenvectors:\\n\", eigenvectors)\n"
   ]
  },
  {
   "cell_type": "code",
   "execution_count": 74,
   "id": "e1aef09c-a7da-4f39-9df0-7cd9169c6e68",
   "metadata": {},
   "outputs": [
    {
     "name": "stdout",
     "output_type": "stream",
     "text": [
      "Reconstructed A:\n",
      " [[ 4. -2.]\n",
      " [ 1.  1.]]\n"
     ]
    }
   ],
   "source": [
    "\n",
    "D = np.diag(eigenvalues)\n",
    "\n",
    "V_inv = np.linalg.inv(eigenvectors)\n",
    "\n",
    "\n",
    "A_reconstructed = eigenvectors @ D @ V_inv\n",
    "\n",
    "print(\"Reconstructed A:\\n\", A_reconstructed)\n"
   ]
  },
  {
   "cell_type": "code",
   "execution_count": 76,
   "id": "12606589-3994-4ce1-b7fc-2885092ac5b5",
   "metadata": {},
   "outputs": [
    {
     "name": "stdout",
     "output_type": "stream",
     "text": [
      "Match with original A: True\n"
     ]
    }
   ],
   "source": [
    "print(\"Match with original A:\", np.allclose(A, A_reconstructed))\n"
   ]
  },
  {
   "cell_type": "code",
   "execution_count": 80,
   "id": "3d686498-f6cb-4a5c-b083-afe03f936dbd",
   "metadata": {},
   "outputs": [],
   "source": [
    "import numpy as np\n",
    "\n",
    "\n",
    "v1 = np.array([3, 4, 5])\n",
    "v2 = np.array([1, 0, -1])"
   ]
  },
  {
   "cell_type": "code",
   "execution_count": 88,
   "id": "927f281e-d47b-4bb1-8a5d-91c1a8633ad0",
   "metadata": {},
   "outputs": [
    {
     "name": "stdout",
     "output_type": "stream",
     "text": [
      "Vector Addition: [4 4 4]\n"
     ]
    }
   ],
   "source": [
    "v_add = v1 + v2\n",
    "print(\"Vector Addition:\", v_add)\n"
   ]
  },
  {
   "cell_type": "code",
   "execution_count": 92,
   "id": "61156af5-5ccf-4433-a3f1-8595389e800a",
   "metadata": {},
   "outputs": [
    {
     "name": "stdout",
     "output_type": "stream",
     "text": [
      "Dot Product: -2\n"
     ]
    }
   ],
   "source": [
    "dot = np.dot(v1, v2)\n",
    "print(\"Dot Product:\", dot)\n"
   ]
  },
  {
   "cell_type": "code",
   "execution_count": 96,
   "id": "0ca7ee66-5695-485c-babf-f942ad8e14a1",
   "metadata": {},
   "outputs": [
    {
     "name": "stdout",
     "output_type": "stream",
     "text": [
      "cross Product: [-4  8 -4]\n"
     ]
    }
   ],
   "source": [
    "cross = np.cross(v1, v2)\n",
    "print(\"cross Product:\", cross)\n"
   ]
  },
  {
   "cell_type": "code",
   "execution_count": 100,
   "id": "3aec7682-d96a-4770-af90-74e04d99c0c1",
   "metadata": {},
   "outputs": [
    {
     "name": "stdout",
     "output_type": "stream",
     "text": [
      "Normalized Vector v1: [0.42426407 0.56568542 0.70710678]\n"
     ]
    }
   ],
   "source": [
    "v1_norm = v1 / np.linalg.norm(v1)\n",
    "print(\"Normalized Vector v1:\", v1_norm)\n"
   ]
  },
  {
   "cell_type": "code",
   "execution_count": 107,
   "id": "5fe3bcae-d3b4-479e-8a1f-5fb8bfebe761",
   "metadata": {},
   "outputs": [
    {
     "name": "stdout",
     "output_type": "stream",
     "text": [
      "Norm of v1: 7.0710678118654755\n",
      "Norm of v2: 1.4142135623730951\n"
     ]
    }
   ],
   "source": [
    "norm_v1 = np.linalg.norm(v1)\n",
    "norm_v2 = np.linalg.norm(v2)\n",
    "\n",
    "print(\"Norm of v1:\", norm_v1)\n",
    "print(\"Norm of v2:\", norm_v2)\n"
   ]
  },
  {
   "cell_type": "code",
   "execution_count": 113,
   "id": "3116e406-8261-44e4-8987-e59da2b9771f",
   "metadata": {},
   "outputs": [
    {
     "name": "stdout",
     "output_type": "stream",
     "text": [
      "   sepal length (cm)  sepal width (cm)  petal length (cm)  petal width (cm)\n",
      "0                5.1               3.5                1.4               0.2\n",
      "1                4.9               3.0                1.4               0.2\n",
      "2                4.7               3.2                1.3               0.2\n",
      "3                4.6               3.1                1.5               0.2\n",
      "4                5.0               3.6                1.4               0.2\n"
     ]
    }
   ],
   "source": [
    "import numpy as np\n",
    "import pandas as pd\n",
    "from sklearn.datasets import load_iris\n",
    "\n",
    "\n",
    "iris = load_iris()\n",
    "X = iris.data\n",
    "y = iris.target\n",
    "\n",
    "\n",
    "df = pd.DataFrame(X, columns=iris.feature_names)\n",
    "print(df.head())\n"
   ]
  },
  {
   "cell_type": "code",
   "execution_count": 115,
   "id": "e89ec0ba-2b19-43e3-84a2-14ab5b042626",
   "metadata": {},
   "outputs": [],
   "source": [
    "from sklearn.preprocessing import StandardScaler\n",
    "\n",
    "scaler = StandardScaler()\n",
    "X_scaled = scaler.fit_transform(X)\n"
   ]
  },
  {
   "cell_type": "code",
   "execution_count": 117,
   "id": "ccf64cff-1cf8-42e5-b2fc-7e25610b6a30",
   "metadata": {},
   "outputs": [
    {
     "name": "stdout",
     "output_type": "stream",
     "text": [
      "PCA Transformed Shape: (150, 2)\n"
     ]
    }
   ],
   "source": [
    "\n",
    "U, S, VT = np.linalg.svd(X_scaled)\n",
    "\n",
    "PCs = VT.T[:, :2] \n",
    "X_pca = X_scaled @ PCs\n",
    "\n",
    "\n",
    "print(\"PCA Transformed Shape:\", X_pca.shape)\n"
   ]
  },
  {
   "cell_type": "code",
   "execution_count": 119,
   "id": "c28cabce-ca0d-4573-9098-23a476465c08",
   "metadata": {},
   "outputs": [
    {
     "data": {
      "image/png": "[encoded data removed]",
      "text/plain": [
       "<Figure size 800x600 with 1 Axes>"
      ]
     },
     "metadata": {},
     "output_type": "display_data"
    }
   ],
   "source": [
    "import matplotlib.pyplot as plt\n",
    "\n",
    "plt.figure(figsize=(8,6))\n",
    "plt.scatter(X_pca[:, 0], X_pca[:, 1], c=y, cmap='viridis', edgecolor='k')\n",
    "plt.xlabel('PC 1')\n",
    "plt.ylabel('PC 2')\n",
    "plt.title('PCA using SVD - Iris Dataset')\n",
    "plt.grid(True)\n",
    "plt.show()\n"
   ]
  },
  {
   "cell_type": "code",
   "execution_count": 133,
   "id": "abfe0797-de5e-4d37-932f-b4fc8a5e1178",
   "metadata": {},
   "outputs": [],
   "source": [
    "import numpy as np\n",
    "import matplotlib.pyplot as plt\n",
    "\n",
    "def f(x):\n",
    "    return x**2 + 3*x + 2\n",
    "\n",
    "\n",
    "x = np.linspace(0, 10, 100)\n",
    "h = x[1] - x[0]  # Step size\n"
   ]
  },
  {
   "cell_type": "code",
   "execution_count": 135,
   "id": "a15ba78f-3938-4ec6-9311-c506a788cacb",
   "metadata": {},
   "outputs": [],
   "source": [
    "\n",
    "def forward_diff(f, x, h):\n",
    "    return (f(x + h) - f(x)) / h\n",
    "\n",
    "\n",
    "def backward_diff(f, x, h):\n",
    "    return (f(x) - f(x - h)) / h\n",
    "\n",
    "def central_diff(f, x, h):\n",
    "    return (f(x + h) - f(x - h)) / (2 * h)\n"
   ]
  },
  {
   "cell_type": "code",
   "execution_count": 139,
   "id": "2e6aba64-c91b-41b1-840c-a4b88272ede7",
   "metadata": {},
   "outputs": [],
   "source": [
    "f_prime_forward = forward_diff(f, x, h)\n",
    "f_prime_backward = backward_diff(f, x, h)\n",
    "f_prime_central = central_diff(f, x, h)\n"
   ]
  },
  {
   "cell_type": "code",
   "execution_count": 144,
   "id": "6d5beb77-243a-46f8-b248-b4379974e960",
   "metadata": {
    "scrolled": true
   },
   "outputs": [
    {
     "data": {
      "image/png": "[encoded data removed]",
      "text/plain": [
       "<Figure size 1000x600 with 1 Axes>"
      ]
     },
     "metadata": {},
     "output_type": "display_data"
    }
   ],
   "source": [
    "plt.figure(figsize=(10, 6))\n",
    "plt.plot(x, 2*x + 3, label='Analytical Derivative', color='black', linestyle='--')  # f'(x) = 2x + 3\n",
    "plt.plot(x, f_prime_forward, label='Forward Difference')\n",
    "plt.plot(x, f_prime_backward, label='Backward Difference')\n",
    "plt.plot(x, f_prime_central, label='Central Difference')\n",
    "plt.title(\"Numerical Differentiation Methods\")\n",
    "plt.xlabel(\"x\")\n",
    "plt.ylabel(\"f'(x)\")\n",
    "plt.legend()\n",
    "plt.grid(True)\n",
    "plt.show()"
   ]
  },
  {
   "cell_type": "code",
   "execution_count": 147,
   "id": "613d689e-d3ee-4896-8aa7-3e52393111b0",
   "metadata": {},
   "outputs": [],
   "source": [
    "import numpy as np\n",
    "import matplotlib.pyplot as plt\n",
    "\n",
    "def f(x):\n",
    "    return x**2 + 3*x + 2"
   ]
  },
  {
   "cell_type": "code",
   "execution_count": 151,
   "id": "97285015-c128-438f-bb1e-a3c964625205",
   "metadata": {},
   "outputs": [],
   "source": [
    "a = 0    \n",
    "b = 10   \n",
    "n = 100  \n",
    "x = np.linspace(a, b, n+1)\n",
    "y = f(x)\n",
    "h = (b - a) / n\n"
   ]
  },
  {
   "cell_type": "code",
   "execution_count": 157,
   "id": "ca7d398b-57b5-4304-95b2-7e4d5899ce5c",
   "metadata": {},
   "outputs": [],
   "source": [
    "def trapezoidal_rule(x, y, h):\n",
    "    return h * (0.5 * y[0] + np.sum(y[1:-1]) + 0.5 * y[-1])\n"
   ]
  },
  {
   "cell_type": "code",
   "execution_count": 159,
   "id": "fbf1e9f8-8715-4343-acff-a23fe767bfc6",
   "metadata": {},
   "outputs": [],
   "source": [
    "def simpsons_rule(x, y, h):\n",
    "    if len(x) % 2 == 0:\n",
    "        raise ValueError(\"Simpson's rule requires an odd number of points (even number of intervals).\")\n",
    "    \n",
    "    return (h / 3) * (y[0] + 4 * np.sum(y[1:-1:2]) + 2 * np.sum(y[2:-2:2]) + y[-1])\n"
   ]
  },
  {
   "cell_type": "code",
   "execution_count": 161,
   "id": "59f3872f-9566-4771-928b-f510f023b0f4",
   "metadata": {},
   "outputs": [
    {
     "name": "stdout",
     "output_type": "stream",
     "text": [
      "Trapezoidal Rule Result: 503.3499999999999\n",
      "Simpson's Rule Result: 503.3333333333334\n"
     ]
    }
   ],
   "source": [
    "trap_result = trapezoidal_rule(x, y, h)\n",
    "simp_result = simpsons_rule(x, y, h)\n",
    "\n",
    "print(\"Trapezoidal Rule Result:\", trap_result)\n",
    "print(\"Simpson's Rule Result:\", simp_result)\n"
   ]
  },
  {
   "cell_type": "code",
   "execution_count": 163,
   "id": "ce5748d8-2f49-4840-a575-a666da194831",
   "metadata": {},
   "outputs": [
    {
     "data": {
      "image/png": "[encoded data removed]",
      "text/plain": [
       "<Figure size 640x480 with 1 Axes>"
      ]
     },
     "metadata": {},
     "output_type": "display_data"
    }
   ],
   "source": [
    "plt.plot(x, y, label=\"f(x) = x² + 3x + 2\")\n",
    "plt.fill_between(x, y, alpha=0.3)\n",
    "plt.title(\"Function to Integrate\")\n",
    "plt.xlabel(\"x\")\n",
    "plt.ylabel(\"f(x)\")\n",
    "plt.legend()\n",
    "plt.grid(True)\n",
    "plt.show()\n"
   ]
  },
  {
   "cell_type": "code",
   "execution_count": 165,
   "id": "24150e40-c0f9-4aae-bf7f-fbda309b9a3b",
   "metadata": {},
   "outputs": [],
   "source": [
    "def f(x, y):\n",
    "    return x**2 * y + 3 * x * y**2\n"
   ]
  },
  {
   "cell_type": "code",
   "execution_count": 167,
   "id": "72461ec7-9e2a-4813-9f2a-6733800cb645",
   "metadata": {},
   "outputs": [],
   "source": [
    "def partial_derivative_x(x, y, h=1e-5):\n",
    "    return (f(x + h, y) - f(x - h, y)) / (2 * h)\n",
    "\n",
    "def partial_derivative_y(x, y, h=1e-5):\n",
    "    return (f(x, y + h) - f(x, y - h)) / (2 * h)\n"
   ]
  },
  {
   "cell_type": "code",
   "execution_count": 176,
   "id": "282cdcdc-87ef-433c-8522-556614ed232f",
   "metadata": {},
   "outputs": [],
   "source": [
    "def analytical_dx(x, y):\n",
    "    return 2 * x * y + 3 * y**2\n",
    "\n",
    "def analytical_dy(x, y):\n",
    "    return x**2 + 6 * x * y\n"
   ]
  },
  {
   "cell_type": "code",
   "execution_count": 178,
   "id": "63661797-56b5-4f08-89a4-33bc42473368",
   "metadata": {},
   "outputs": [
    {
     "name": "stdout",
     "output_type": "stream",
     "text": [
      "∂f/∂x (numerical): 39.000000000299906, (analytical): 39.0\n",
      "∂f/∂y (numerical): 39.99999999990678, (analytical): 40.0\n"
     ]
    }
   ],
   "source": [
    "x_val = 2.0\n",
    "y_val = 3.0\n",
    "\n",
    "\n",
    "num_dx = partial_derivative_x(x_val, y_val)\n",
    "num_dy = partial_derivative_y(x_val, y_val)\n",
    "\n",
    "\n",
    "ana_dx = analytical_dx(x_val, y_val)\n",
    "ana_dy = analytical_dy(x_val, y_val)\n",
    "\n",
    "print(f\"∂f/∂x (numerical): {num_dx}, (analytical): {ana_dx}\")\n",
    "print(f\"∂f/∂y (numerical): {num_dy}, (analytical): {ana_dy}\")\n",
    "\n"
   ]
  },
  {
   "cell_type": "code",
   "execution_count": 184,
   "id": "2f9bc656-ba6c-4608-9c96-6b5bd1c8ecc0",
   "metadata": {},
   "outputs": [],
   "source": [
    "def objective_function(x, y):\n",
    "    return x**2 + y**2\n"
   ]
  },
  {
   "cell_type": "code",
   "execution_count": 186,
   "id": "dd4281f3-02ae-4555-9d22-58fca41f9d12",
   "metadata": {},
   "outputs": [],
   "source": [
    "def constraint(x, y):\n",
    "    return x + y - 1\n"
   ]
  },
  {
   "cell_type": "code",
   "execution_count": 188,
   "id": "9dc8600b-1f71-4f2e-9b53-42cd6282f3b1",
   "metadata": {},
   "outputs": [],
   "source": [
    "from scipy.optimize import fsolve\n",
    "\n",
    "def lagrange_equations(vars):\n",
    "    x, y, lambd = vars\n",
    "    eq1 = 2 * x - lambd  # ∂L/∂x = 0\n",
    "    eq2 = 2 * y - lambd  # ∂L/∂y = 0\n",
    "    eq3 = x + y - 1      # ∂L/∂λ = 0\n",
    "    return [eq1, eq2, eq3]\n",
    "\n",
    "\n",
    "initial_guess = [0, 0, 0]\n",
    "\n",
    "\n",
    "solution = fsolve(lagrange_equations, initial_guess)\n",
    "\n",
    "\n",
    "x_opt, y_opt, lambd_opt = solution\n"
   ]
  },
  {
   "cell_type": "code",
   "execution_count": 190,
   "id": "afccd9c4-f19e-4d29-877c-ce4528e204de",
   "metadata": {},
   "outputs": [
    {
     "name": "stdout",
     "output_type": "stream",
     "text": [
      "Optimal x: 0.5\n",
      "Optimal y: 0.5\n",
      "Lagrange multiplier (λ): 1.0\n"
     ]
    }
   ],
   "source": [
    "print(f\"Optimal x: {x_opt}\")\n",
    "print(f\"Optimal y: {y_opt}\")\n",
    "print(f\"Lagrange multiplier (λ): {lambd_opt}\")\n"
   ]
  },
  {
   "cell_type": "code",
   "execution_count": 192,
   "id": "5c218688-f2ee-4ef2-9643-dd03ea2d110f",
   "metadata": {},
   "outputs": [
    {
     "name": "stdout",
     "output_type": "stream",
     "text": [
      "Constraint check (x + y): 1.0\n"
     ]
    }
   ],
   "source": [
    "print(f\"Constraint check (x + y): {x_opt + y_opt}\")\n"
   ]
  },
  {
   "cell_type": "code",
   "execution_count": 194,
   "id": "cdbaa043-a046-44e8-9e3e-e6ebcda22850",
   "metadata": {},
   "outputs": [
    {
     "name": "stdout",
     "output_type": "stream",
     "text": [
      "Optimal x: 0.5\n",
      "Optimal y: 0.5\n",
      "Lagrange multiplier (λ): 1.0\n",
      "Constraint check (x + y): 1.0\n"
     ]
    }
   ],
   "source": [
    "import numpy as np\n",
    "from scipy.optimize import fsolve\n",
    "\n",
    "def objective_function(x, y):\n",
    "    return x**2 + y**2\n",
    "\n",
    "def constraint(x, y):\n",
    "    return x + y - 1\n",
    "    \n",
    "def lagrange_equations(vars):\n",
    "    x, y, lambd = vars\n",
    "    eq1 = 2 * x - lambd  # ∂L/∂x = 0\n",
    "    eq2 = 2 * y - lambd  # ∂L/∂y = 0\n",
    "    eq3 = x + y - 1      # ∂L/∂λ = 0\n",
    "    return [eq1, eq2, eq3]\n",
    "\n",
    "initial_guess = [0, 0, 0]\n",
    "\n",
    "solution = fsolve(lagrange_equations, initial_guess)\n",
    "\n",
    "\n",
    "x_opt, y_opt, lambd_opt = solution\n",
    "\n",
    "print(f\"Optimal x: {x_opt}\")\n",
    "print(f\"Optimal y: {y_opt}\")\n",
    "print(f\"Lagrange multiplier (λ): {lambd_opt}\")\n",
    "\n",
    "print(f\"Constraint check (x + y): {x_opt + y_opt}\")\n"
   ]
  },
  {
   "cell_type": "code",
   "execution_count": null,
   "id": "0e72d7dc-a0af-4017-877e-e0a41e5bfd60",
   "metadata": {},
   "outputs": [],
   "source": []
  }
 ],
 "metadata": {
  "kernelspec": {
   "display_name": "Python [conda env:base] *",
   "language": "python",
   "name": "conda-base-py"
  },
  "language_info": {
   "codemirror_mode": {
    "name": "ipython",
    "version": 3
   },
   "file_extension": ".py",
   "mimetype": "text/x-python",
   "name": "python",
   "nbconvert_exporter": "python",
   "pygments_lexer": "ipython3",
   "version": "3.12.7"
  }
 },
 "nbformat": 4,
 "nbformat_minor": 5
}
