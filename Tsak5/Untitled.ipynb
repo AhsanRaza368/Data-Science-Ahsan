{
 "cells": [
  {
   "cell_type": "markdown",
   "id": "0eb91f25-f2f7-4344-b307-d978c3f60890",
   "metadata": {},
   "source": [
    "<h1>If conditions, for loops, while loops, and functions using Python</h1>"
   ]
  },
  {
   "cell_type": "markdown",
   "id": "c9836834-29bb-48d4-b7ec-bd19e1b9c18d",
   "metadata": {},
   "source": [
    "<h1>If condition related questions</h1>"
   ]
  },
  {
   "cell_type": "code",
   "execution_count": null,
   "id": "5eda7f5c-5c48-4370-8acc-fba572439f35",
   "metadata": {},
   "outputs": [],
   "source": [
    "# grade check using if-else\n",
    "t_marks = float(input(\"enter total marks\"))\n",
    "marks = float(input(\"enter obtained marks \"))\n",
    "p = (marks*100)/t_marks\n",
    "if t_marks < marks:\n",
    "    print(\"impossible\")\n",
    "elif p<=50:\n",
    "    print(\"you got fail\")\n",
    "elif p<=60:\n",
    "    print(\"you got second-division\")\n",
    "elif p<=75:\n",
    "    print(\"you got 1st division\")\n",
    "elif p>75:\n",
    "    print(\"you got high first-division\")\n",
    "else:\n",
    "    print(\"invalid input\")"
   ]
  },
  {
   "cell_type": "markdown",
   "id": "51d582ff-cc2e-43b8-9ecb-5f6d04d5b692",
   "metadata": {},
   "source": [
    "<h1>Even Odd Checker</h1>"
   ]
  },
  {
   "cell_type": "code",
   "execution_count": null,
   "id": "ef92e636-384c-4b00-a5bc-84a84f73c167",
   "metadata": {},
   "outputs": [],
   "source": [
    "x = int(input(\"enter number to check even odd\"))\n",
    "if x%2 == 0:\n",
    "    print(f\"{x} is even number\")\n",
    "else:\n",
    "    print(f\"{x} is odd number\")"
   ]
  },
  {
   "cell_type": "markdown",
   "id": "0038f7f9-17ea-4d01-8e5c-5694fd588f10",
   "metadata": {},
   "source": [
    "<h1>Discount Calculator</h1>"
   ]
  },
  {
   "cell_type": "code",
   "execution_count": null,
   "id": "92b46d2f-6e7e-4915-a1f7-dfe06a2374ba",
   "metadata": {},
   "outputs": [],
   "source": [
    "t_amount = float(input(\"enter toatl amount of purchasing items\"))\n",
    "if t_amount <=1000:\n",
    "    print(f\" on {t_amount} RS there is no discount\")\n",
    "elif t_amount<=2000:\n",
    "    dp = t_amount*(10/100)\n",
    "    print(f\"on {t_amount}RS you got 10 percent discount and discount price is {dp}\")\n",
    "    p = t_amount-dp\n",
    "    print(f\"payable amount is {p}\")\n",
    "elif t_amount<=5000:\n",
    "    dp = t_amount*(15/100)\n",
    "    print(f\"on {t_amount} RS you got 10 percent discount and discount price is {dp}\")\n",
    "    p = t_amount-dp\n",
    "    print(f\"payable amount is {p}\")\n",
    "elif t_amount>5000:\n",
    "    dp = t_amount*(20/100)\n",
    "    print(f\"on {t_amount} RS you got 10 percent discount and discount price is {dp}\")\n",
    "    p = t_amount-dp\n",
    "    print(f\"payable amount is {p}\")\n",
    "else:\n",
    "    print(\"invalid input\")"
   ]
  },
  {
   "cell_type": "markdown",
   "id": "37f29cc9-a523-4ae3-bcaf-95d0890e4777",
   "metadata": {},
   "source": [
    "<h1>Reverse a String – Take a string input and reverse it using a loop.</h1>"
   ]
  },
  {
   "cell_type": "code",
   "execution_count": null,
   "id": "c738fdf4-ad77-412d-b160-e2f56d575f39",
   "metadata": {},
   "outputs": [],
   "source": [
    "#with for loop\n",
    "x=int(input(\"how many names you want to write?\"))\n",
    "for i in range(x):\n",
    "    string = input(\"enter name\")\n",
    "    n_string = string[::-1]\n",
    "    print(n_string)\n"
   ]
  },
  {
   "cell_type": "code",
   "execution_count": null,
   "id": "7532a74e-1e93-4657-90a4-fcfadf21d34f",
   "metadata": {},
   "outputs": [],
   "source": [
    "#with while loop\n",
    "x = int(input(\"enter number how many name you want to reverse\"))\n",
    "count=0\n",
    "while count<x:\n",
    "    string = input(\"enter name\")\n",
    "    r_string = string[::-1]\n",
    "    print(r_string)\n",
    "    count +=1"
   ]
  },
  {
   "cell_type": "code",
   "execution_count": null,
   "id": "d5547336-5ebd-45e3-a870-8e36869099d1",
   "metadata": {},
   "outputs": [],
   "source": [
    "for i in range(1,11):\n",
    "    print(i,\"\\n\")"
   ]
  },
  {
   "cell_type": "code",
   "execution_count": null,
   "id": "4eb5a9f8-bbd2-4221-ab19-11cc4f93a61e",
   "metadata": {},
   "outputs": [],
   "source": [
    "x=30\n",
    "for i in range(1,x+2):\n",
    "    if i%2==0:\n",
    "        print(i)"
   ]
  },
  {
   "cell_type": "markdown",
   "id": "508526e8-2f73-41e4-b8bf-68a8fb313420",
   "metadata": {},
   "source": [
    "<h1>for loop task</h1>"
   ]
  },
  {
   "cell_type": "code",
   "execution_count": null,
   "id": "2fefe661-98e2-4c2c-8ec5-60d6d254f3d8",
   "metadata": {},
   "outputs": [],
   "source": [
    "list=[]\n",
    "y=int(input(\"how many fruits category you want to purchase\"))\n",
    "for i in range(y):\n",
    "    x = input(\"enter fruits name\")\n",
    "    list.append(x)\n",
    "print(list)"
   ]
  },
  {
   "cell_type": "markdown",
   "id": "f1165f27-f57f-403d-8592-97fbd6014415",
   "metadata": {},
   "source": [
    "<h1>while loop task</h1>"
   ]
  },
  {
   "cell_type": "code",
   "execution_count": 15,
   "id": "8886b027-97eb-443a-8241-10a8f4a358bd",
   "metadata": {},
   "outputs": [
    {
     "name": "stdin",
     "output_type": "stream",
     "text": [
      "enter how namy fruit category u need 2\n",
      "enter fruits name one by one banana\n",
      "enter fruits name one by one melon\n",
      "if you want to inser one more ple enter name otherwise enter 0 0\n"
     ]
    },
    {
     "name": "stdout",
     "output_type": "stream",
     "text": [
      "you enter 0 so curret list cis bellow\n",
      "['banana', 'melon']\n"
     ]
    }
   ],
   "source": [
    "list=[]\n",
    "y=int(input(\"enter how namy fruit category u need\"))\n",
    "count=0\n",
    "while count<=y-1:\n",
    "    z=input(\"enter fruits name one by one\")\n",
    "    list.append(z)\n",
    "    count+=1\n",
    "    \n",
    "z=input(\"if you want to insert one more ple enter name otherwise enter 0\")\n",
    "if z=='0':\n",
    "    print(f\"you enter {z} so current list is bellow\")\n",
    "else:\n",
    "    list.insert(1,z)       \n",
    "print(list)"
   ]
  },
  {
   "cell_type": "markdown",
   "id": "f2c3d76d-472d-4af3-b17a-8cf4f1d49626",
   "metadata": {},
   "source": [
    "<h1>functions related tasks</h1>"
   ]
  },
  {
   "cell_type": "code",
   "execution_count": null,
   "id": "ec9be7ed-4171-4cb2-b962-ea6fb53cee3e",
   "metadata": {},
   "outputs": [],
   "source": []
  }
 ],
 "metadata": {
  "kernelspec": {
   "display_name": "Python [conda env:envpro]",
   "language": "python",
   "name": "conda-env-envpro-py"
  },
  "language_info": {
   "codemirror_mode": {
    "name": "ipython",
    "version": 3
   },
   "file_extension": ".py",
   "mimetype": "text/x-python",
   "name": "python",
   "nbconvert_exporter": "python",
   "pygments_lexer": "ipython3",
   "version": "3.12.9"
  }
 },
 "nbformat": 4,
 "nbformat_minor": 5
}
