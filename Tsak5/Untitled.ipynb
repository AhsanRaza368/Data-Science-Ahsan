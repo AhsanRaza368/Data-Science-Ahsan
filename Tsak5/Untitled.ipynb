{
 "cells": [
  {
   "cell_type": "markdown",
   "id": "0eb91f25-f2f7-4344-b307-d978c3f60890",
   "metadata": {},
   "source": [
    "<h1>If conditions, for loops, while loops, and functions using Python</h1>"
   ]
  },
  {
   "cell_type": "markdown",
   "id": "c9836834-29bb-48d4-b7ec-bd19e1b9c18d",
   "metadata": {},
   "source": [
    "<h1>If condition related questions</h1>"
   ]
  },
  {
   "cell_type": "code",
   "execution_count": 23,
   "id": "5eda7f5c-5c48-4370-8acc-fba572439f35",
   "metadata": {},
   "outputs": [
    {
     "name": "stdin",
     "output_type": "stream",
     "text": [
      "enter total marks 4.0\n",
      "enter obtained marks  3.25\n"
     ]
    },
    {
     "name": "stdout",
     "output_type": "stream",
     "text": [
      "you got high first-division\n"
     ]
    }
   ],
   "source": [
    "# grade check using if-else\n",
    "t_marks = float(input(\"enter total marks\"))\n",
    "marks = float(input(\"enter obtained marks \"))\n",
    "p = (marks*100)/t_marks\n",
    "if t_marks < marks:\n",
    "    print(\"impossible\")\n",
    "elif p<=50:\n",
    "    print(\"you got fail\")\n",
    "elif p<=60:\n",
    "    print(\"you got second-division\")\n",
    "elif p<=75:\n",
    "    print(\"you got 1st division\")\n",
    "elif p>75:\n",
    "    print(\"you got high first-division\")\n",
    "else:\n",
    "    print(\"invalid input\")"
   ]
  },
  {
   "cell_type": "markdown",
   "id": "51d582ff-cc2e-43b8-9ecb-5f6d04d5b692",
   "metadata": {},
   "source": [
    "<h1>Even Odd Checker</h1>"
   ]
  },
  {
   "cell_type": "code",
   "execution_count": 29,
   "id": "ef92e636-384c-4b00-a5bc-84a84f73c167",
   "metadata": {},
   "outputs": [
    {
     "name": "stdin",
     "output_type": "stream",
     "text": [
      "enter number to check even odd 5\n"
     ]
    },
    {
     "name": "stdout",
     "output_type": "stream",
     "text": [
      "5 is odd number\n"
     ]
    }
   ],
   "source": [
    "x = int(input(\"enter number to check even odd\"))\n",
    "if x%2 == 0:\n",
    "    print(f\"{x} is even number\")\n",
    "else:\n",
    "    print(f\"{x} is odd number\")"
   ]
  },
  {
   "cell_type": "markdown",
   "id": "0038f7f9-17ea-4d01-8e5c-5694fd588f10",
   "metadata": {},
   "source": [
    "<h1>Discount Calculator</h1>"
   ]
  },
  {
   "cell_type": "code",
   "execution_count": 36,
   "id": "92b46d2f-6e7e-4915-a1f7-dfe06a2374ba",
   "metadata": {},
   "outputs": [
    {
     "name": "stdin",
     "output_type": "stream",
     "text": [
      "enter toatl amount of purchasing items 4000\n"
     ]
    },
    {
     "name": "stdout",
     "output_type": "stream",
     "text": [
      "on 4000.0RS you got 10 percent discount and discount price is600.0\n",
      "payable amount is 3400.0\n"
     ]
    }
   ],
   "source": [
    "t_amount = float(input(\"enter toatl amount of purchasing items\"))\n",
    "if t_amount <=1000:\n",
    "    print(f\" on {t_amount} RS there is no discount\")\n",
    "elif t_amount<=2000:\n",
    "    dp = t_amount*(10/100)\n",
    "    print(f\"on {t_amount}RS you got 10 percent discount and discount price is {dp}\")\n",
    "    p = t_amount-dp\n",
    "    print(f\"payable amount is {p}\")\n",
    "elif t_amount<=5000:\n",
    "    dp = t_amount*(15/100)\n",
    "    print(f\"on {t_amount} RS you got 10 percent discount and discount price is {dp}\")\n",
    "    p = t_amount-dp\n",
    "    print(f\"payable amount is {p}\")\n",
    "elif t_amount>5000:\n",
    "    dp = t_amount*(20/100)\n",
    "    print(f\"on {t_amount} RS you got 10 percent discount and discount price is {dp}\")\n",
    "    p = t_amount-dp\n",
    "    print(f\"payable amount is {p}\")\n",
    "else:\n",
    "    print(\"invalid input\")"
   ]
  },
  {
   "cell_type": "markdown",
   "id": "37f29cc9-a523-4ae3-bcaf-95d0890e4777",
   "metadata": {},
   "source": [
    "<h1>Reverse a String – Take a string input and reverse it using a loop.</h1>"
   ]
  },
  {
   "cell_type": "code",
   "execution_count": null,
   "id": "c738fdf4-ad77-412d-b160-e2f56d575f39",
   "metadata": {},
   "outputs": [],
   "source": [
    "string = input(\"enter name\")\n",
    "n_string = string[::-1]\n",
    "\n"
   ]
  }
 ],
 "metadata": {
  "kernelspec": {
   "display_name": "Python [conda env:envpro]",
   "language": "python",
   "name": "conda-env-envpro-py"
  },
  "language_info": {
   "codemirror_mode": {
    "name": "ipython",
    "version": 3
   },
   "file_extension": ".py",
   "mimetype": "text/x-python",
   "name": "python",
   "nbconvert_exporter": "python",
   "pygments_lexer": "ipython3",
   "version": "3.12.9"
  }
 },
 "nbformat": 4,
 "nbformat_minor": 5
}
