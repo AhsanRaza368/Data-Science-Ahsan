{
 "cells": [
  {
   "cell_type": "code",
   "execution_count": 133,
   "id": "487646df-4913-4139-865d-92797121a308",
   "metadata": {},
   "outputs": [
    {
     "name": "stdout",
     "output_type": "stream",
     "text": [
      "\n",
      "Choose an option:\n",
      "1. Add Student Data\n",
      "2. Search Student by ID\n",
      "3. Delete Student by ID\n",
      "4. Exit\n"
     ]
    },
    {
     "name": "stdin",
     "output_type": "stream",
     "text": [
      "Enter your choice:  3\n",
      "Enter the Student ID to delete:  1\n"
     ]
    },
    {
     "name": "stdout",
     "output_type": "stream",
     "text": [
      "Student record deleted successfully.\n",
      "\n",
      "Choose an option:\n",
      "1. Add Student Data\n",
      "2. Search Student by ID\n",
      "3. Delete Student by ID\n",
      "4. Exit\n"
     ]
    },
    {
     "name": "stdin",
     "output_type": "stream",
     "text": [
      "Enter your choice:  1\n",
      "Enter your ID (or type 'exit' to stop):  1\n",
      "Enter your name:  Ahsan\n",
      "Enter your age:  25\n",
      "Enter your Grade:  A\n"
     ]
    },
    {
     "name": "stdout",
     "output_type": "stream",
     "text": [
      "Student information saved successfully.\n"
     ]
    },
    {
     "name": "stdin",
     "output_type": "stream",
     "text": [
      "Enter your ID (or type 'exit' to stop):  exit\n"
     ]
    },
    {
     "name": "stdout",
     "output_type": "stream",
     "text": [
      "\n",
      "Choose an option:\n",
      "1. Add Student Data\n",
      "2. Search Student by ID\n",
      "3. Delete Student by ID\n",
      "4. Exit\n"
     ]
    },
    {
     "name": "stdin",
     "output_type": "stream",
     "text": [
      "Enter your choice:  4\n"
     ]
    },
    {
     "name": "stdout",
     "output_type": "stream",
     "text": [
      "Exiting the program.\n"
     ]
    }
   ],
   "source": [
    "import os  # Missing import\n",
    "\n",
    "def get_existing_data():\n",
    "    data = []\n",
    "    if os.path.exists('ahsan.txt'):\n",
    "        with open('ahsan.txt', 'r') as f:\n",
    "            lines = f.readlines()\n",
    "            if len(lines) > 1: \n",
    "                data = [line.strip().split(\"\\t\") for line in lines[1:]]\n",
    "    return data\n",
    "\n",
    "def writedata():\n",
    "    try:\n",
    "        data = get_existing_data()\n",
    "        existing_ids = {row[0] for row in data}  \n",
    "\n",
    "        with open('ahsan.txt', 'a') as f:\n",
    "            if os.stat('ahsan.txt').st_size == 0:  \n",
    "                f.write(\"student_id\\tstudent_name\\tstudent_age\\tstudent_grade\\n\")  \n",
    "\n",
    "            while True:\n",
    "                student_id = input(\"Enter your ID (or type 'exit' to stop): \")\n",
    "                if student_id.lower() == 'exit':\n",
    "                    break  \n",
    "                if student_id in existing_ids:\n",
    "                    print(\"Error: This ID already exists. Please enter a unique ID.\")\n",
    "                    continue\n",
    "                \n",
    "                student_name = input(\"Enter your name: \")\n",
    "                student_age = input(\"Enter your age: \")  \n",
    "                student_grade = input(\"Enter your Grade: \")\n",
    "\n",
    "                \n",
    "                detail = f\"{student_id}\\t \\t \\t \\t{student_name}\\t \\t \\t {student_age}\\t \\t \\t {student_grade}\\n\"\n",
    "                f.write(detail)  \n",
    "                existing_ids.add(student_id)  \n",
    "                print(\"Student information saved successfully.\")\n",
    "\n",
    "    except ValueError:\n",
    "        print(\"Invalid input! Please enter a valid number.\")\n",
    "\n",
    "def search_student():\n",
    "    student_id = input(\"Enter the Student ID to search: \")\n",
    "    data = get_existing_data()\n",
    "    \n",
    "    for row in data:\n",
    "        if row[0] == student_id:\n",
    "            print(f\"Student Found: ID={row[0]}, Name={row[1]}, Age={row[2]}, Grade={row[3]}\")\n",
    "            return\n",
    "    print(\"Student not found.\")\n",
    "\n",
    "def delete_student():\n",
    "    student_id = input(\"Enter the Student ID to delete: \")\n",
    "    data = get_existing_data()\n",
    "    \n",
    "    new_data = [row for row in data if row[0] != student_id]\n",
    "\n",
    "    if len(new_data) == len(data):\n",
    "        print(\"Student ID not found. No record deleted.\")\n",
    "    else:\n",
    "        with open('ahsan.txt', 'w') as f:\n",
    "            f.write(\"student_id\\tstudent_name\\tstudent_age\\tstudent_grade\\n\")\n",
    "            for row in new_data:\n",
    "                f.write(\"\\t\".join(row) + \"\\n\")\n",
    "        print(\"Student record deleted successfully.\")\n",
    "\n",
    "def main():\n",
    "    while True:\n",
    "        print(\"\\nChoose an option:\")\n",
    "        print(\"1. Add Student Data\")\n",
    "        print(\"2. Search Student by ID\")\n",
    "        print(\"3. Delete Student by ID\")\n",
    "        print(\"4. Exit\")\n",
    "        \n",
    "        choice = input(\"Enter your choice: \")\n",
    "        \n",
    "        if choice == '1':\n",
    "            writedata()\n",
    "        elif choice == '2':\n",
    "            search_student()\n",
    "        elif choice == '3':\n",
    "            delete_student()\n",
    "        elif choice == '4':\n",
    "            print(\"Exiting the program.\")\n",
    "            break\n",
    "        else:\n",
    "            print(\"Invalid choice! Please enter a valid option.\")\n",
    "\n",
    "main()\n"
   ]
  },
  {
   "cell_type": "code",
   "execution_count": null,
   "id": "32bb767f-3dd3-40ec-800e-f8ad481d89e3",
   "metadata": {},
   "outputs": [],
   "source": []
  },
  {
   "cell_type": "code",
   "execution_count": null,
   "id": "6202dadb-8651-4386-a12b-17f31da77372",
   "metadata": {},
   "outputs": [],
   "source": []
  },
  {
   "cell_type": "code",
   "execution_count": null,
   "id": "ea06a66a-e0b9-4350-a368-cd00084ded67",
   "metadata": {},
   "outputs": [],
   "source": []
  }
 ],
 "metadata": {
  "kernelspec": {
   "display_name": "Python [conda env:envpro]",
   "language": "python",
   "name": "conda-env-envpro-py"
  },
  "language_info": {
   "codemirror_mode": {
    "name": "ipython",
    "version": 3
   },
   "file_extension": ".py",
   "mimetype": "text/x-python",
   "name": "python",
   "nbconvert_exporter": "python",
   "pygments_lexer": "ipython3",
   "version": "3.12.9"
  }
 },
 "nbformat": 4,
 "nbformat_minor": 5
}
