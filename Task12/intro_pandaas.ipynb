{
 "cells": [
  {
   "cell_type": "code",
   "execution_count": 14,
   "id": "48ad448f-c29d-48d9-aa08-b5bf2f9ad582",
   "metadata": {},
   "outputs": [
    {
     "name": "stdout",
     "output_type": "stream",
     "text": [
      "Requirement already satisfied: pandas in c:\\users\\ahsan\\anaconda3\\lib\\site-packages (2.2.2)\n",
      "Requirement already satisfied: numpy>=1.26.0 in c:\\users\\ahsan\\anaconda3\\lib\\site-packages (from pandas) (1.26.4)\n",
      "Requirement already satisfied: python-dateutil>=2.8.2 in c:\\users\\ahsan\\anaconda3\\lib\\site-packages (from pandas) (2.9.0.post0)\n",
      "Requirement already satisfied: pytz>=2020.1 in c:\\users\\ahsan\\anaconda3\\lib\\site-packages (from pandas) (2024.1)\n",
      "Requirement already satisfied: tzdata>=2022.7 in c:\\users\\ahsan\\anaconda3\\lib\\site-packages (from pandas) (2023.3)\n",
      "Requirement already satisfied: six>=1.5 in c:\\users\\ahsan\\anaconda3\\lib\\site-packages (from python-dateutil>=2.8.2->pandas) (1.16.0)\n"
     ]
    }
   ],
   "source": [
    "!pip install pandas\n",
    "import pandas as pd\n",
    "import numpy as np\n",
    "\n",
    "\n",
    "\n",
    "\n",
    "\n"
   ]
  },
  {
   "cell_type": "markdown",
   "id": "075258da-7f3f-4bf9-859f-ebe29b9e3bdf",
   "metadata": {},
   "source": [
    "<h1> 1.\tCreate a Pandas Series from a Python list, numpy array, and a dictionary. </h1>"
   ]
  },
  {
   "cell_type": "code",
   "execution_count": 24,
   "id": "168369de-e686-45e0-a32a-fdf4aaedbe40",
   "metadata": {},
   "outputs": [
    {
     "name": "stdout",
     "output_type": "stream",
     "text": [
      "0     1\n",
      "1     5\n",
      "2     7\n",
      "3     8\n",
      "4     0\n",
      "5     2\n",
      "6    10\n",
      "dtype: int64\n"
     ]
    }
   ],
   "source": [
    "plist =[1,5,7,8,0,2,10]\n",
    "\n",
    "list_series = pd.Series(plist)\n",
    "print(list_series)"
   ]
  },
  {
   "cell_type": "code",
   "execution_count": 208,
   "id": "98c076da-36a6-4e1b-a3a8-c4b4dbd7893d",
   "metadata": {},
   "outputs": [
    {
     "name": "stdout",
     "output_type": "stream",
     "text": [
      "[6 6 8 5 4 1 7 8 7]\n",
      "0    6\n",
      "1    6\n",
      "2    8\n",
      "3    5\n",
      "4    4\n",
      "5    1\n",
      "6    7\n",
      "7    8\n",
      "8    7\n",
      "dtype: int32\n"
     ]
    }
   ],
   "source": [
    "num_array = np.random.randint(1,10,size=(9))\n",
    "print(num_array)\n",
    "na = pd.Series(num_array)\n",
    "print(na)"
   ]
  },
  {
   "cell_type": "code",
   "execution_count": 197,
   "id": "2401c4a7-1eae-4df5-a1bd-fdf5e1e6df4c",
   "metadata": {},
   "outputs": [
    {
     "data": {
      "text/plain": [
       "1"
      ]
     },
     "execution_count": 197,
     "metadata": {},
     "output_type": "execute_result"
    }
   ],
   "source": [
    "num_array.ndim"
   ]
  },
  {
   "cell_type": "code",
   "execution_count": 255,
   "id": "ade4d01a-454e-43cb-8e31-65005c108df5",
   "metadata": {},
   "outputs": [
    {
     "name": "stdout",
     "output_type": "stream",
     "text": [
      "{'name': 'ahsan', 'class': 16, 'roll_no': 1}\n",
      "name       ahsan\n",
      "class         16\n",
      "roll_no        1\n",
      "dtype: object\n"
     ]
    }
   ],
   "source": [
    "dic = {\"name\":\"ahsan\" , \"class\":16,\"roll_no\":1}\n",
    "print(dic)\n",
    "dic_ser = pd.Series(dic)\n",
    "print(dic_ser)"
   ]
  },
  {
   "cell_type": "code",
   "execution_count": 232,
   "id": "8b952e9c-87ad-4e4e-8f95-7924581749f3",
   "metadata": {},
   "outputs": [
    {
     "name": "stdout",
     "output_type": "stream",
     "text": [
      "101     1\n",
      "102     5\n",
      "103     7\n",
      "104     8\n",
      "105     0\n",
      "106     2\n",
      "107    10\n",
      "dtype: int64\n"
     ]
    }
   ],
   "source": [
    "plist =[1,5,7,8,0,2,10]\n",
    "\n",
    "# list_series = pd.Series(plist)\n",
    "# # print(list_series)\n",
    "\n",
    "cus_ind1 =['101','102','103','104','105','106','107']\n",
    "\n",
    "cis = pd.Series(plist, index=cus_ind1)\n",
    "print(cis)\n"
   ]
  },
  {
   "cell_type": "code",
   "execution_count": 253,
   "id": "5dae3aaf-230f-40c5-b505-aa89573144f9",
   "metadata": {},
   "outputs": [
    {
     "name": "stdout",
     "output_type": "stream",
     "text": [
      "1    6\n",
      "2    4\n",
      "3    4\n",
      "4    7\n",
      "dtype: int32\n"
     ]
    }
   ],
   "source": [
    "# this first line mean fromrange 1 to 10 select any 4 digits randomly\n",
    "\n",
    "num_array = np.random.randint(1,10,size=(4))\n",
    "# print(num_array)\n",
    "# na = pd.Series(num_array)\n",
    "# print(na)\n",
    "# cus_ind2 = ['a','b','c','d']\n",
    "cus_ind2 = np.arange(1,5)\n",
    "\n",
    "c_is = pd.Series(num_array, index=cus_ind2)\n",
    "print(c_is)"
   ]
  },
  {
   "cell_type": "code",
   "execution_count": 338,
   "id": "abe3e711-8743-44b8-9ee9-769f8cd8ba80",
   "metadata": {},
   "outputs": [
    {
     "name": "stdout",
     "output_type": "stream",
     "text": [
      "a    1\n",
      "b    2\n",
      "c    3\n",
      "d    4\n",
      "e    5\n",
      "dtype: int64\n",
      "1\n"
     ]
    }
   ],
   "source": [
    "dic = {'a': 1, 'b': 2, 'c': 3, 'd': 4, 'e': 5}\n",
    "# print(dic)\n",
    "# dic_ser = pd.Series(dic)\n",
    "# print(dic_ser)\n",
    "# cus_ind3 = ['one','two','three','four','five']\n",
    "cus_ind3 = ['a', 'b', 'c', 'd', 'e']\n",
    "\n",
    "c_i_s = pd.Series(dic , index = cus_ind3)\n",
    "print(c_i_s)\n",
    "\n"
   ]
  },
  {
   "cell_type": "markdown",
   "id": "26187ce1-b7df-40bc-a843-44cb9e3a44d0",
   "metadata": {},
   "source": [
    "<h1>ARithematic operation on series</h1>"
   ]
  },
  {
   "cell_type": "code",
   "execution_count": 308,
   "id": "7e59a2ec-0287-417e-8130-24e1e19bb917",
   "metadata": {},
   "outputs": [
    {
     "name": "stdout",
     "output_type": "stream",
     "text": [
      "Add:\n",
      "\n",
      " 1    14\n",
      "2     6\n",
      "3    10\n",
      "4    14\n",
      "5    16\n",
      "6    15\n",
      "dtype: int64 \n",
      "\n",
      "Sub:\n",
      "\n",
      " 1   -4\n",
      "2    0\n",
      "3    0\n",
      "4    0\n",
      "5    0\n",
      "6    5\n",
      "dtype: int64 \n",
      "\n",
      "multiply:\n",
      "\n",
      " 1    45\n",
      "2     9\n",
      "3    25\n",
      "4    49\n",
      "5    64\n",
      "6    50\n",
      "dtype: int64 \n",
      "\n",
      "divide:\n",
      "\n",
      " 1    0.555556\n",
      "2    1.000000\n",
      "3    1.000000\n",
      "4    1.000000\n",
      "5    1.000000\n",
      "6    2.000000\n",
      "dtype: float64 \n",
      "\n"
     ]
    }
   ],
   "source": [
    "a1 = [5,3,5,7,8,10]\n",
    "ind = [1,2,3,4,5,6]\n",
    "ser1 = pd.Series(a1,index=ind)\n",
    "\n",
    "a2 = [9,3,5,7,8,5]\n",
    "ind = [1,2,3,4,5,6]\n",
    "ser2 = pd.Series(a2,index=ind)\n",
    "\n",
    "print(\"Add:\\n\\n\",ser1+ser2,\"\\n\")\n",
    "print(\"Sub:\\n\\n\",ser1-ser2,\"\\n\")\n",
    "print(\"multiply:\\n\\n\",ser1*ser2,\"\\n\")\n",
    "print(\"divide:\\n\\n\",ser1/ser2,\"\\n\")"
   ]
  },
  {
   "cell_type": "markdown",
   "id": "1741b0fc-b063-4ed9-a005-fd3d1fdae044",
   "metadata": {},
   "source": [
    "<h1>4.\tAccess elements using index labels and positions.</h1>"
   ]
  },
  {
   "cell_type": "code",
   "execution_count": 342,
   "id": "865e58ae-ad44-4b0d-a930-9920dfa76e61",
   "metadata": {},
   "outputs": [
    {
     "name": "stdout",
     "output_type": "stream",
     "text": [
      "a    1\n",
      "b    2\n",
      "c    3\n",
      "d    4\n",
      "e    5\n",
      "dtype: int64\n",
      "1\n"
     ]
    }
   ],
   "source": [
    "dic = {'a': 1, 'b': 2, 'c': 3, 'd': 4, 'e': 5}\n",
    "cus_ind3 = ['a', 'b', 'c', 'd', 'e']\n",
    "\n",
    "c_i_s = pd.Series(dic , index = cus_ind3)\n",
    "print(c_i_s)\n",
    "\n",
    "pm = c_i_s['a']\n",
    "print(pm)"
   ]
  },
  {
   "cell_type": "code",
   "execution_count": 346,
   "id": "3923f6a2-7ce1-49c7-8d49-d9ae002bf412",
   "metadata": {},
   "outputs": [
    {
     "name": "stdout",
     "output_type": "stream",
     "text": [
      "9\n"
     ]
    }
   ],
   "source": [
    "a2 = [9,3,5,7,8,5]\n",
    "ind = [1,2,3,4,5,6]\n",
    "ser2 = pd.Series(a2,index=ind)\n",
    "p2 = ser2[1]\n",
    "print(p2)\n",
    "\n",
    "\n"
   ]
  },
  {
   "cell_type": "markdown",
   "id": "792d1d01-48a0-4f5d-a4d3-e4d04d8a9ef3",
   "metadata": {},
   "source": [
    "<h1>5.\tFilter the Series to include only values greater than a specific threshold.</h1>"
   ]
  },
  {
   "cell_type": "code",
   "execution_count": 355,
   "id": "c1c7ef48-a09a-46ad-abd5-a35eb2ccd84b",
   "metadata": {},
   "outputs": [
    {
     "name": "stdout",
     "output_type": "stream",
     "text": [
      "101    False\n",
      "102    False\n",
      "103     True\n",
      "104     True\n",
      "105    False\n",
      "106    False\n",
      "107     True\n",
      "dtype: bool\n"
     ]
    }
   ],
   "source": [
    "plist =[1,5,7,8,0,2,10]\n",
    "\n",
    "cus_ind1 =['101','102','103','104','105','106','107']\n",
    "\n",
    "cis = pd.Series(plist, index=cus_ind1)\n",
    "# print(cis)\n",
    "\n",
    "threshold =5\n",
    "\n",
    "print(cis>threshold)\n",
    "\n"
   ]
  },
  {
   "cell_type": "markdown",
   "id": "298366e7-6bfc-40a9-8728-9246d2326014",
   "metadata": {},
   "source": [
    "<h1>6.\tCreate a DataFrame from a dictionary of lists.</h1>"
   ]
  },
  {
   "cell_type": "code",
   "execution_count": 364,
   "id": "8033bb47-1178-4ead-b54e-a44a2805a91b",
   "metadata": {},
   "outputs": [
    {
     "name": "stdout",
     "output_type": "stream",
     "text": [
      "     name  gender  rollno\n",
      "0   ahsan    male       1\n",
      "1  samina  female       2\n",
      "2    nabi    male       3\n",
      "3  pushpa    male       4\n"
     ]
    }
   ],
   "source": [
    "dic ={\"name\":['ahsan', 'samina','nabi','pushpa'],\n",
    "      \"gender\":['male','female','male','male'],\n",
    "      \"rollno\":[1,2,3,4]    \n",
    "}\n",
    "# print(dic)\n",
    "DF = pd.DataFrame(dic)\n",
    "print(DF)"
   ]
  },
  {
   "cell_type": "markdown",
   "id": "5b720795-afbf-4213-a6dc-aaa2439c5265",
   "metadata": {},
   "source": [
    "<h1>7.\tCreate a DataFrame from a numpy array, specifying column and index names.</h1>\n"
   ]
  },
  {
   "cell_type": "code",
   "execution_count": 422,
   "id": "b98654cb-8bd3-4585-8ca7-33d6c94049d6",
   "metadata": {},
   "outputs": [
    {
     "name": "stdout",
     "output_type": "stream",
     "text": [
      "      column1  column2  column3  column4  column5  column6\n",
      "row1        3        4        6        8        0        1\n",
      "row2        4        3        2        5        1        7\n",
      "row3        9        8        7        6        5        4\n"
     ]
    }
   ],
   "source": [
    "ar5 = np.array([[3,4,6,8,0,1],\n",
    "          [4,3,2,5,1,7],\n",
    "           [9,8,7,6,5,4]])\n",
    "column=['column1','column2','column3','column4','column5','column6']\n",
    "index =['row1','row2','row3']\n",
    "prt = pd.DataFrame(ar5, columns=column, index=index)\n",
    "print(prt)"
   ]
  },
  {
   "cell_type": "code",
   "execution_count": 424,
   "id": "5736a952-6bd2-4e47-be4b-58905fb58be8",
   "metadata": {},
   "outputs": [
    {
     "data": {
      "text/plain": [
       "2"
      ]
     },
     "execution_count": 424,
     "metadata": {},
     "output_type": "execute_result"
    }
   ],
   "source": [
    "ar5.ndim"
   ]
  },
  {
   "cell_type": "code",
   "execution_count": 426,
   "id": "25365ea0-660d-4722-9f46-54c824271b42",
   "metadata": {},
   "outputs": [
    {
     "data": {
      "text/plain": [
       "(3, 6)"
      ]
     },
     "execution_count": 426,
     "metadata": {},
     "output_type": "execute_result"
    }
   ],
   "source": [
    "ar5.shape"
   ]
  },
  {
   "cell_type": "markdown",
   "id": "f00123de-56b3-4d00-a1e9-1e7606402948",
   "metadata": {},
   "source": [
    "<h1>8.\tLoad a DataFrame from a CSV file.</h1>"
   ]
  },
  {
   "cell_type": "code",
   "execution_count": 471,
   "id": "5d9c9bbd-93bb-40c3-962d-8c749b3f98ac",
   "metadata": {},
   "outputs": [
    {
     "name": "stdout",
     "output_type": "stream",
     "text": [
      "    pid             name                                        description  \\\n",
      "0   p01     Refrigerator  Large capacity, frost-free refrigerator with a...   \n",
      "1   p03   Microwave Oven  Compact microwave oven with multiple cooking p...   \n",
      "2   p04  Washing Machine  Top_loading washing machine with various wash ...   \n",
      "3   p05       Dishwasher  Energy efficient dishwasher with multiple wash...   \n",
      "4   p06     Coffee Maker    Programmable coffee maker with built in grinder   \n",
      "5   p07          Toaster  Four-slice toasterwith adjustable browning set...   \n",
      "6   p08         Blender          High-speed blender for smoothies and soups   \n",
      "7   p09   Vacuum Cleaner   Bagless,cordless vacuum cleaner with HEPA filter   \n",
      "8   p10     Air Purifier  HEPA air purifier with smart sensors for indoo...   \n",
      "9   p11  Electric Kettle  Stainless steel electric kettle with rapid boi...   \n",
      "10  NaN              NaN                                                NaN   \n",
      "\n",
      "     price                image  rating  \n",
      "0   799.99     refrigerator.jpg     4.5  \n",
      "1   129.99   microwave_oven.jpg     4.0  \n",
      "2   499.99  washing_machine.jpg     4.2  \n",
      "3   699.99       dishwasher.jpg     4.8  \n",
      "4    89.99     coffee_maker.jpg     4.3  \n",
      "5    39.99          toaster.jpg     4.0  \n",
      "6    69.99          blender.jpg     4.5  \n",
      "7   149.99   vacuum_cleaner.jpg     4.7  \n",
      "8   199.99     air_purifier.jpg     4.6  \n",
      "9    29.99  electric_kettle.jpg     4.1  \n",
      "10     NaN                  NaN     NaN  \n"
     ]
    }
   ],
   "source": [
    "csv = pd.read_csv(\"product.csv\")\n",
    "# csv.info()\n",
    "\n",
    "df1 = pd.DataFrame(csv)\n",
    "print(df1)"
   ]
  },
  {
   "cell_type": "code",
   "execution_count": 465,
   "id": "370b49c3-c719-4815-8ea8-76bbe1936341",
   "metadata": {},
   "outputs": [
    {
     "data": {
      "text/html": [
       "<div>\n",
       "<style scoped>\n",
       "    .dataframe tbody tr th:only-of-type {\n",
       "        vertical-align: middle;\n",
       "    }\n",
       "\n",
       "    .dataframe tbody tr th {\n",
       "        vertical-align: top;\n",
       "    }\n",
       "\n",
       "    .dataframe thead th {\n",
       "        text-align: right;\n",
       "    }\n",
       "</style>\n",
       "<table border=\"1\" class=\"dataframe\">\n",
       "  <thead>\n",
       "    <tr style=\"text-align: right;\">\n",
       "      <th></th>\n",
       "      <th>price</th>\n",
       "      <th>rating</th>\n",
       "    </tr>\n",
       "  </thead>\n",
       "  <tbody>\n",
       "    <tr>\n",
       "      <th>0</th>\n",
       "      <td>799.99</td>\n",
       "      <td>4.5</td>\n",
       "    </tr>\n",
       "    <tr>\n",
       "      <th>1</th>\n",
       "      <td>129.99</td>\n",
       "      <td>4.0</td>\n",
       "    </tr>\n",
       "    <tr>\n",
       "      <th>2</th>\n",
       "      <td>499.99</td>\n",
       "      <td>4.2</td>\n",
       "    </tr>\n",
       "    <tr>\n",
       "      <th>3</th>\n",
       "      <td>699.99</td>\n",
       "      <td>4.8</td>\n",
       "    </tr>\n",
       "    <tr>\n",
       "      <th>4</th>\n",
       "      <td>89.99</td>\n",
       "      <td>4.3</td>\n",
       "    </tr>\n",
       "    <tr>\n",
       "      <th>5</th>\n",
       "      <td>39.99</td>\n",
       "      <td>4.0</td>\n",
       "    </tr>\n",
       "    <tr>\n",
       "      <th>6</th>\n",
       "      <td>69.99</td>\n",
       "      <td>4.5</td>\n",
       "    </tr>\n",
       "    <tr>\n",
       "      <th>7</th>\n",
       "      <td>149.99</td>\n",
       "      <td>4.7</td>\n",
       "    </tr>\n",
       "    <tr>\n",
       "      <th>8</th>\n",
       "      <td>199.99</td>\n",
       "      <td>4.6</td>\n",
       "    </tr>\n",
       "    <tr>\n",
       "      <th>9</th>\n",
       "      <td>29.99</td>\n",
       "      <td>4.1</td>\n",
       "    </tr>\n",
       "    <tr>\n",
       "      <th>10</th>\n",
       "      <td>NaN</td>\n",
       "      <td>NaN</td>\n",
       "    </tr>\n",
       "  </tbody>\n",
       "</table>\n",
       "</div>"
      ],
      "text/plain": [
       "     price  rating\n",
       "0   799.99     4.5\n",
       "1   129.99     4.0\n",
       "2   499.99     4.2\n",
       "3   699.99     4.8\n",
       "4    89.99     4.3\n",
       "5    39.99     4.0\n",
       "6    69.99     4.5\n",
       "7   149.99     4.7\n",
       "8   199.99     4.6\n",
       "9    29.99     4.1\n",
       "10     NaN     NaN"
      ]
     },
     "execution_count": 465,
     "metadata": {},
     "output_type": "execute_result"
    }
   ],
   "source": [
    "df1[[\"price\",\"rating\"]]"
   ]
  },
  {
   "cell_type": "markdown",
   "id": "40a09c59-3f2e-45d7-b36b-503be3c633ad",
   "metadata": {},
   "source": [
    "<h1>9.\tDisplay the first and last five rows of the DataFrame.</h1>"
   ]
  },
  {
   "cell_type": "code",
   "execution_count": 474,
   "id": "2484b336-a94e-4f9c-9319-725dfe92b9e2",
   "metadata": {},
   "outputs": [
    {
     "data": {
      "text/html": [
       "<div>\n",
       "<style scoped>\n",
       "    .dataframe tbody tr th:only-of-type {\n",
       "        vertical-align: middle;\n",
       "    }\n",
       "\n",
       "    .dataframe tbody tr th {\n",
       "        vertical-align: top;\n",
       "    }\n",
       "\n",
       "    .dataframe thead th {\n",
       "        text-align: right;\n",
       "    }\n",
       "</style>\n",
       "<table border=\"1\" class=\"dataframe\">\n",
       "  <thead>\n",
       "    <tr style=\"text-align: right;\">\n",
       "      <th></th>\n",
       "      <th>pid</th>\n",
       "      <th>name</th>\n",
       "      <th>description</th>\n",
       "      <th>price</th>\n",
       "      <th>image</th>\n",
       "      <th>rating</th>\n",
       "    </tr>\n",
       "  </thead>\n",
       "  <tbody>\n",
       "    <tr>\n",
       "      <th>0</th>\n",
       "      <td>p01</td>\n",
       "      <td>Refrigerator</td>\n",
       "      <td>Large capacity, frost-free refrigerator with a...</td>\n",
       "      <td>799.99</td>\n",
       "      <td>refrigerator.jpg</td>\n",
       "      <td>4.5</td>\n",
       "    </tr>\n",
       "    <tr>\n",
       "      <th>1</th>\n",
       "      <td>p03</td>\n",
       "      <td>Microwave Oven</td>\n",
       "      <td>Compact microwave oven with multiple cooking p...</td>\n",
       "      <td>129.99</td>\n",
       "      <td>microwave_oven.jpg</td>\n",
       "      <td>4.0</td>\n",
       "    </tr>\n",
       "    <tr>\n",
       "      <th>2</th>\n",
       "      <td>p04</td>\n",
       "      <td>Washing Machine</td>\n",
       "      <td>Top_loading washing machine with various wash ...</td>\n",
       "      <td>499.99</td>\n",
       "      <td>washing_machine.jpg</td>\n",
       "      <td>4.2</td>\n",
       "    </tr>\n",
       "    <tr>\n",
       "      <th>3</th>\n",
       "      <td>p05</td>\n",
       "      <td>Dishwasher</td>\n",
       "      <td>Energy efficient dishwasher with multiple wash...</td>\n",
       "      <td>699.99</td>\n",
       "      <td>dishwasher.jpg</td>\n",
       "      <td>4.8</td>\n",
       "    </tr>\n",
       "    <tr>\n",
       "      <th>4</th>\n",
       "      <td>p06</td>\n",
       "      <td>Coffee Maker</td>\n",
       "      <td>Programmable coffee maker with built in grinder</td>\n",
       "      <td>89.99</td>\n",
       "      <td>coffee_maker.jpg</td>\n",
       "      <td>4.3</td>\n",
       "    </tr>\n",
       "  </tbody>\n",
       "</table>\n",
       "</div>"
      ],
      "text/plain": [
       "   pid             name                                        description  \\\n",
       "0  p01     Refrigerator  Large capacity, frost-free refrigerator with a...   \n",
       "1  p03   Microwave Oven  Compact microwave oven with multiple cooking p...   \n",
       "2  p04  Washing Machine  Top_loading washing machine with various wash ...   \n",
       "3  p05       Dishwasher  Energy efficient dishwasher with multiple wash...   \n",
       "4  p06     Coffee Maker    Programmable coffee maker with built in grinder   \n",
       "\n",
       "    price                image  rating  \n",
       "0  799.99     refrigerator.jpg     4.5  \n",
       "1  129.99   microwave_oven.jpg     4.0  \n",
       "2  499.99  washing_machine.jpg     4.2  \n",
       "3  699.99       dishwasher.jpg     4.8  \n",
       "4   89.99     coffee_maker.jpg     4.3  "
      ]
     },
     "execution_count": 474,
     "metadata": {},
     "output_type": "execute_result"
    }
   ],
   "source": [
    "df1.head()"
   ]
  },
  {
   "cell_type": "code",
   "execution_count": 476,
   "id": "19732db4-1310-4d56-ad13-701c7d0421ff",
   "metadata": {},
   "outputs": [
    {
     "data": {
      "text/html": [
       "<div>\n",
       "<style scoped>\n",
       "    .dataframe tbody tr th:only-of-type {\n",
       "        vertical-align: middle;\n",
       "    }\n",
       "\n",
       "    .dataframe tbody tr th {\n",
       "        vertical-align: top;\n",
       "    }\n",
       "\n",
       "    .dataframe thead th {\n",
       "        text-align: right;\n",
       "    }\n",
       "</style>\n",
       "<table border=\"1\" class=\"dataframe\">\n",
       "  <thead>\n",
       "    <tr style=\"text-align: right;\">\n",
       "      <th></th>\n",
       "      <th>pid</th>\n",
       "      <th>name</th>\n",
       "      <th>description</th>\n",
       "      <th>price</th>\n",
       "      <th>image</th>\n",
       "      <th>rating</th>\n",
       "    </tr>\n",
       "  </thead>\n",
       "  <tbody>\n",
       "    <tr>\n",
       "      <th>6</th>\n",
       "      <td>p08</td>\n",
       "      <td>Blender</td>\n",
       "      <td>High-speed blender for smoothies and soups</td>\n",
       "      <td>69.99</td>\n",
       "      <td>blender.jpg</td>\n",
       "      <td>4.5</td>\n",
       "    </tr>\n",
       "    <tr>\n",
       "      <th>7</th>\n",
       "      <td>p09</td>\n",
       "      <td>Vacuum Cleaner</td>\n",
       "      <td>Bagless,cordless vacuum cleaner with HEPA filter</td>\n",
       "      <td>149.99</td>\n",
       "      <td>vacuum_cleaner.jpg</td>\n",
       "      <td>4.7</td>\n",
       "    </tr>\n",
       "    <tr>\n",
       "      <th>8</th>\n",
       "      <td>p10</td>\n",
       "      <td>Air Purifier</td>\n",
       "      <td>HEPA air purifier with smart sensors for indoo...</td>\n",
       "      <td>199.99</td>\n",
       "      <td>air_purifier.jpg</td>\n",
       "      <td>4.6</td>\n",
       "    </tr>\n",
       "    <tr>\n",
       "      <th>9</th>\n",
       "      <td>p11</td>\n",
       "      <td>Electric Kettle</td>\n",
       "      <td>Stainless steel electric kettle with rapid boi...</td>\n",
       "      <td>29.99</td>\n",
       "      <td>electric_kettle.jpg</td>\n",
       "      <td>4.1</td>\n",
       "    </tr>\n",
       "    <tr>\n",
       "      <th>10</th>\n",
       "      <td>NaN</td>\n",
       "      <td>NaN</td>\n",
       "      <td>NaN</td>\n",
       "      <td>NaN</td>\n",
       "      <td>NaN</td>\n",
       "      <td>NaN</td>\n",
       "    </tr>\n",
       "  </tbody>\n",
       "</table>\n",
       "</div>"
      ],
      "text/plain": [
       "    pid             name                                        description  \\\n",
       "6   p08         Blender          High-speed blender for smoothies and soups   \n",
       "7   p09   Vacuum Cleaner   Bagless,cordless vacuum cleaner with HEPA filter   \n",
       "8   p10     Air Purifier  HEPA air purifier with smart sensors for indoo...   \n",
       "9   p11  Electric Kettle  Stainless steel electric kettle with rapid boi...   \n",
       "10  NaN              NaN                                                NaN   \n",
       "\n",
       "     price                image  rating  \n",
       "6    69.99          blender.jpg     4.5  \n",
       "7   149.99   vacuum_cleaner.jpg     4.7  \n",
       "8   199.99     air_purifier.jpg     4.6  \n",
       "9    29.99  electric_kettle.jpg     4.1  \n",
       "10     NaN                  NaN     NaN  "
      ]
     },
     "execution_count": 476,
     "metadata": {},
     "output_type": "execute_result"
    }
   ],
   "source": [
    "df1.tail()"
   ]
  },
  {
   "cell_type": "markdown",
   "id": "514756e8-3748-49f9-944b-748223775631",
   "metadata": {},
   "source": [
    "<h1>10.\tGet a summary of the DataFrame including the mean, median, and standard deviation of numeric columns.</h1>"
   ]
  },
  {
   "cell_type": "code",
   "execution_count": 483,
   "id": "7e015ca2-ae3b-4986-b2bb-79d1265146c6",
   "metadata": {},
   "outputs": [
    {
     "name": "stdout",
     "output_type": "stream",
     "text": [
      "            price     rating\n",
      "count   10.000000  10.000000\n",
      "mean   270.990000   4.370000\n",
      "std    286.839095   0.290784\n",
      "min     29.990000   4.000000\n",
      "25%     74.990000   4.125000\n",
      "50%    139.990000   4.400000\n",
      "75%    424.990000   4.575000\n",
      "max    799.990000   4.800000\n"
     ]
    }
   ],
   "source": [
    "csv = pd.read_csv(\"product.csv\")\n",
    "# csv.info()\n",
    "\n",
    "df1 = pd.DataFrame(csv)\n",
    "summary = df1.describe()\n",
    "print(summary)"
   ]
  },
  {
   "cell_type": "markdown",
   "id": "d7b3498a-d3ab-4b67-a5fd-09ca18ca8641",
   "metadata": {},
   "source": [
    "<h1>11.\tExtract a specific column as a Series.</h1>"
   ]
  },
  {
   "cell_type": "code",
   "execution_count": 513,
   "id": "e30cdeb1-63c6-4d82-a60f-fba7dcab8c2d",
   "metadata": {},
   "outputs": [
    {
     "data": {
      "text/html": [
       "<div>\n",
       "<style scoped>\n",
       "    .dataframe tbody tr th:only-of-type {\n",
       "        vertical-align: middle;\n",
       "    }\n",
       "\n",
       "    .dataframe tbody tr th {\n",
       "        vertical-align: top;\n",
       "    }\n",
       "\n",
       "    .dataframe thead th {\n",
       "        text-align: right;\n",
       "    }\n",
       "</style>\n",
       "<table border=\"1\" class=\"dataframe\">\n",
       "  <thead>\n",
       "    <tr style=\"text-align: right;\">\n",
       "      <th></th>\n",
       "      <th>price</th>\n",
       "      <th>pid</th>\n",
       "    </tr>\n",
       "  </thead>\n",
       "  <tbody>\n",
       "    <tr>\n",
       "      <th>0</th>\n",
       "      <td>799.99</td>\n",
       "      <td>p01</td>\n",
       "    </tr>\n",
       "    <tr>\n",
       "      <th>1</th>\n",
       "      <td>129.99</td>\n",
       "      <td>p03</td>\n",
       "    </tr>\n",
       "    <tr>\n",
       "      <th>2</th>\n",
       "      <td>499.99</td>\n",
       "      <td>p04</td>\n",
       "    </tr>\n",
       "    <tr>\n",
       "      <th>3</th>\n",
       "      <td>699.99</td>\n",
       "      <td>p05</td>\n",
       "    </tr>\n",
       "    <tr>\n",
       "      <th>4</th>\n",
       "      <td>89.99</td>\n",
       "      <td>p06</td>\n",
       "    </tr>\n",
       "    <tr>\n",
       "      <th>5</th>\n",
       "      <td>39.99</td>\n",
       "      <td>p07</td>\n",
       "    </tr>\n",
       "    <tr>\n",
       "      <th>6</th>\n",
       "      <td>69.99</td>\n",
       "      <td>p08</td>\n",
       "    </tr>\n",
       "    <tr>\n",
       "      <th>7</th>\n",
       "      <td>149.99</td>\n",
       "      <td>p09</td>\n",
       "    </tr>\n",
       "    <tr>\n",
       "      <th>8</th>\n",
       "      <td>199.99</td>\n",
       "      <td>p10</td>\n",
       "    </tr>\n",
       "    <tr>\n",
       "      <th>9</th>\n",
       "      <td>29.99</td>\n",
       "      <td>p11</td>\n",
       "    </tr>\n",
       "    <tr>\n",
       "      <th>10</th>\n",
       "      <td>NaN</td>\n",
       "      <td>NaN</td>\n",
       "    </tr>\n",
       "  </tbody>\n",
       "</table>\n",
       "</div>"
      ],
      "text/plain": [
       "     price  pid\n",
       "0   799.99  p01\n",
       "1   129.99  p03\n",
       "2   499.99  p04\n",
       "3   699.99  p05\n",
       "4    89.99  p06\n",
       "5    39.99  p07\n",
       "6    69.99  p08\n",
       "7   149.99  p09\n",
       "8   199.99  p10\n",
       "9    29.99  p11\n",
       "10     NaN  NaN"
      ]
     },
     "execution_count": 513,
     "metadata": {},
     "output_type": "execute_result"
    }
   ],
   "source": [
    "df1[[\"price\",\"pid\"]]\n",
    "\n"
   ]
  },
  {
   "cell_type": "markdown",
   "id": "5fb919ec-39ca-4284-b83e-0b4424f6aef8",
   "metadata": {},
   "source": [
    "<h1>12.\tFilter rows based on column values</h1>"
   ]
  },
  {
   "cell_type": "code",
   "execution_count": 538,
   "id": "98e56c29-b70f-451e-8bcc-c90727b4eb2f",
   "metadata": {},
   "outputs": [
    {
     "name": "stdout",
     "output_type": "stream",
     "text": [
      "<class 'pandas.core.frame.DataFrame'>\n",
      "RangeIndex: 11 entries, 0 to 10\n",
      "Data columns (total 6 columns):\n",
      " #   Column       Non-Null Count  Dtype  \n",
      "---  ------       --------------  -----  \n",
      " 0   pid          10 non-null     object \n",
      " 1   name         10 non-null     object \n",
      " 2   description  10 non-null     object \n",
      " 3   price        10 non-null     float64\n",
      " 4   image        10 non-null     object \n",
      " 5   rating       10 non-null     float64\n",
      "dtypes: float64(2), object(4)\n",
      "memory usage: 660.0+ bytes\n"
     ]
    }
   ],
   "source": [
    "df1[df1[\"price\"]>200]\n",
    "df1.info()"
   ]
  },
  {
   "cell_type": "markdown",
   "id": "b102a7f5-238f-4869-9cba-c6649427b79f",
   "metadata": {},
   "source": [
    "<h1>13.\tSelect rows based on multiple conditions.</h1>"
   ]
  },
  {
   "cell_type": "code",
   "execution_count": 575,
   "id": "debb13a9-f5b5-4630-90c8-a67737439720",
   "metadata": {},
   "outputs": [
    {
     "name": "stdout",
     "output_type": "stream",
     "text": [
      "Empty DataFrame\n",
      "Columns: [pid, name, description, price, image, rating]\n",
      "Index: []\n"
     ]
    }
   ],
   "source": [
    "csv = pd.read_csv(\"product.csv\")\n",
    "# csv.info()\n",
    "\n",
    "df1 = pd.DataFrame(csv)\n",
    "# print(df1.dtypes)\n",
    "mul_con = df1[(df1[\"price\"]>200) & (df1[\"rating\"]<4)]\n",
    "print(mul_con)"
   ]
  },
  {
   "cell_type": "markdown",
   "id": "79714a63-5f88-49f1-8a33-50ea399ecdd2",
   "metadata": {},
   "source": [
    "<h1>14.\tAdd a new column to the DataFrame.</h1>"
   ]
  },
  {
   "cell_type": "code",
   "execution_count": 645,
   "id": "496a51d0-349a-44f3-8f1d-a5691729e267",
   "metadata": {},
   "outputs": [
    {
     "name": "stdout",
     "output_type": "stream",
     "text": [
      "    pid             name                                        description  \\\n",
      "0   p01     Refrigerator  Large capacity, frost-free refrigerator with a...   \n",
      "1   p03   Microwave Oven  Compact microwave oven with multiple cooking p...   \n",
      "2   p04  Washing Machine  Top_loading washing machine with various wash ...   \n",
      "3   p05       Dishwasher  Energy efficient dishwasher with multiple wash...   \n",
      "4   p06     Coffee Maker    Programmable coffee maker with built in grinder   \n",
      "5   p07          Toaster  Four-slice toasterwith adjustable browning set...   \n",
      "6   p08         Blender          High-speed blender for smoothies and soups   \n",
      "7   p09   Vacuum Cleaner   Bagless,cordless vacuum cleaner with HEPA filter   \n",
      "8   p10     Air Purifier  HEPA air purifier with smart sensors for indoo...   \n",
      "9   p11  Electric Kettle  Stainless steel electric kettle with rapid boi...   \n",
      "10  NaN              NaN                                                NaN   \n",
      "\n",
      "     price                image  rating status  \n",
      "0   799.99     refrigerator.jpg     4.5   pass  \n",
      "1   129.99   microwave_oven.jpg     4.0   fail  \n",
      "2   499.99  washing_machine.jpg     4.2   pass  \n",
      "3   699.99       dishwasher.jpg     4.8   fail  \n",
      "4    89.99     coffee_maker.jpg     4.3   pass  \n",
      "5    39.99          toaster.jpg     4.0   pass  \n",
      "6    69.99          blender.jpg     4.5   pass  \n",
      "7   149.99   vacuum_cleaner.jpg     4.7   pass  \n",
      "8   199.99     air_purifier.jpg     4.6   fail  \n",
      "9    29.99  electric_kettle.jpg     4.1   fail  \n",
      "10     NaN                  NaN     NaN   pass  \n"
     ]
    }
   ],
   "source": [
    "csv = pd.read_csv(\"product.csv\")\n",
    "\n",
    "df1 = pd.DataFrame(csv)\n",
    "\n",
    "df1[\"status\"] = ['pass','fail','pass','fail','pass','pass','pass','pass','fail','fail','pass']\n",
    "\n",
    "print(df1)\n",
    "\n",
    "\n",
    "\n"
   ]
  },
  {
   "cell_type": "markdown",
   "id": "461198a2-0320-460d-856b-060938572561",
   "metadata": {},
   "source": [
    "<h1>15.\tDelete a column from the DataFrame.</h1>"
   ]
  },
  {
   "cell_type": "code",
   "execution_count": 648,
   "id": "ced75a02-9a8c-4bc9-918f-f966939576b1",
   "metadata": {
    "scrolled": true
   },
   "outputs": [
    {
     "name": "stdout",
     "output_type": "stream",
     "text": [
      "    pid             name                                        description  \\\n",
      "0   p01     Refrigerator  Large capacity, frost-free refrigerator with a...   \n",
      "1   p03   Microwave Oven  Compact microwave oven with multiple cooking p...   \n",
      "2   p04  Washing Machine  Top_loading washing machine with various wash ...   \n",
      "3   p05       Dishwasher  Energy efficient dishwasher with multiple wash...   \n",
      "4   p06     Coffee Maker    Programmable coffee maker with built in grinder   \n",
      "5   p07          Toaster  Four-slice toasterwith adjustable browning set...   \n",
      "6   p08         Blender          High-speed blender for smoothies and soups   \n",
      "7   p09   Vacuum Cleaner   Bagless,cordless vacuum cleaner with HEPA filter   \n",
      "8   p10     Air Purifier  HEPA air purifier with smart sensors for indoo...   \n",
      "9   p11  Electric Kettle  Stainless steel electric kettle with rapid boi...   \n",
      "10  NaN              NaN                                                NaN   \n",
      "\n",
      "     price                image  rating  \n",
      "0   799.99     refrigerator.jpg     4.5  \n",
      "1   129.99   microwave_oven.jpg     4.0  \n",
      "2   499.99  washing_machine.jpg     4.2  \n",
      "3   699.99       dishwasher.jpg     4.8  \n",
      "4    89.99     coffee_maker.jpg     4.3  \n",
      "5    39.99          toaster.jpg     4.0  \n",
      "6    69.99          blender.jpg     4.5  \n",
      "7   149.99   vacuum_cleaner.jpg     4.7  \n",
      "8   199.99     air_purifier.jpg     4.6  \n",
      "9    29.99  electric_kettle.jpg     4.1  \n",
      "10     NaN                  NaN     NaN  \n"
     ]
    }
   ],
   "source": [
    "df1 = df1.drop(columns=['status'], errors='ignore')\n",
    "print(df1)"
   ]
  },
  {
   "cell_type": "code",
   "execution_count": 663,
   "id": "98ed73f4-bb65-4441-b34d-df7d87238163",
   "metadata": {},
   "outputs": [
    {
     "ename": "AttributeError",
     "evalue": "'NoneType' object has no attribute 'rename'",
     "output_type": "error",
     "traceback": [
      "\u001b[1;31m---------------------------------------------------------------------------\u001b[0m",
      "\u001b[1;31mAttributeError\u001b[0m                            Traceback (most recent call last)",
      "Cell \u001b[1;32mIn[663], line 1\u001b[0m\n\u001b[1;32m----> 1\u001b[0m df2 \u001b[38;5;241m=\u001b[39m df1\u001b[38;5;241m.\u001b[39mrename(columns\u001b[38;5;241m=\u001b[39m{\u001b[38;5;124m'\u001b[39m\u001b[38;5;124mstatus\u001b[39m\u001b[38;5;124m'\u001b[39m:\u001b[38;5;124m'\u001b[39m\u001b[38;5;124mstatus1\u001b[39m\u001b[38;5;124m'\u001b[39m})\n\u001b[0;32m      2\u001b[0m \u001b[38;5;28mprint\u001b[39m(df2)\n",
      "\u001b[1;31mAttributeError\u001b[0m: 'NoneType' object has no attribute 'rename'"
     ]
    }
   ],
   "source": [
    "df2 = df1.rename(columns={'status':'status1'})\n",
    "print(df2)"
   ]
  },
  {
   "cell_type": "code",
   "execution_count": 665,
   "id": "af9b9a69-789f-4d42-af44-0b7567009066",
   "metadata": {},
   "outputs": [
    {
     "name": "stdout",
     "output_type": "stream",
     "text": [
      "None\n"
     ]
    }
   ],
   "source": [
    "print(df1)"
   ]
  },
  {
   "cell_type": "code",
   "execution_count": null,
   "id": "8aec8536-c60d-4eef-9d13-8e993ca3465e",
   "metadata": {},
   "outputs": [],
   "source": []
  }
 ],
 "metadata": {
  "kernelspec": {
   "display_name": "Python [conda env:base] *",
   "language": "python",
   "name": "conda-base-py"
  },
  "language_info": {
   "codemirror_mode": {
    "name": "ipython",
    "version": 3
   },
   "file_extension": ".py",
   "mimetype": "text/x-python",
   "name": "python",
   "nbconvert_exporter": "python",
   "pygments_lexer": "ipython3",
   "version": "3.12.7"
  }
 },
 "nbformat": 4,
 "nbformat_minor": 5
}
