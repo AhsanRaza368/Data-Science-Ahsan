{
 "cells": [
  {
   "cell_type": "code",
   "execution_count": 38,
   "id": "5c8b2b70-1d93-4d26-8d78-ba02ff9dea0c",
   "metadata": {},
   "outputs": [
    {
     "name": "stdin",
     "output_type": "stream",
     "text": [
      "enter first number 5\n",
      "enter second number 3\n",
      "enter arithematic symbols for operations /\n"
     ]
    },
    {
     "name": "stdout",
     "output_type": "stream",
     "text": [
      "divide =  1.6666666666666667\n"
     ]
    }
   ],
   "source": [
    "x = int(input(\"enter first number\"))\n",
    "y = int(input(\"enter second number\"))\n",
    "choice = input(\"enter arithematic symbols for operations\")\n",
    "if choice == '+':\n",
    "    print(\"sum = \",x+y)\n",
    "\n",
    "elif choice == '-':\n",
    "    print(\"subtract = \",x-y)\n",
    "\n",
    "elif choice == '*':\n",
    "    print(\"multiplication = \",x*y)\n",
    "\n",
    "elif choice == '/':\n",
    "    print(\"divide = \",x/y)"
   ]
  },
  {
   "cell_type": "code",
   "execution_count": null,
   "id": "9e64879a-233f-45e4-8fa8-e89ef00f73b4",
   "metadata": {},
   "outputs": [],
   "source": []
  },
  {
   "cell_type": "code",
   "execution_count": null,
   "id": "521df137-4164-4f19-af93-4c1854bbad53",
   "metadata": {},
   "outputs": [],
   "source": []
  }
 ],
 "metadata": {
  "kernelspec": {
   "display_name": "Python [conda env:envpro]",
   "language": "python",
   "name": "conda-env-envpro-py"
  },
  "language_info": {
   "codemirror_mode": {
    "name": "ipython",
    "version": 3
   },
   "file_extension": ".py",
   "mimetype": "text/x-python",
   "name": "python",
   "nbconvert_exporter": "python",
   "pygments_lexer": "ipython3",
   "version": "3.12.9"
  }
 },
 "nbformat": 4,
 "nbformat_minor": 5
}
