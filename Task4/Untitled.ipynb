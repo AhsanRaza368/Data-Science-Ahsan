{
 "cells": [
  {
   "cell_type": "code",
   "execution_count": null,
   "id": "8350df0c-478c-472d-9a47-3c2e78f0742b",
   "metadata": {},
   "outputs": [
    {
     "name": "stdin",
     "output_type": "stream",
     "text": [
      "enter 1 to 4 number \n",
      " 1.for addition\n",
      " 2.for subtraction \n",
      " 3.for multipliation \n",
      " 4.for division\n",
      " 3\n"
     ]
    }
   ],
   "source": [
    "def sum(a,b):                             #Ahsan Raza\n",
    "    return a+b                                   \n",
    "def sub(a,b):\n",
    "    return a-b\n",
    "def mul(a,b):\n",
    "    return a*b\n",
    "def div(a,b):\n",
    "    return a/b\n",
    "\n",
    "\n",
    "\n",
    "choice = int(input(\"enter 1 to 4 number \\n 1.for addition\\n 2.for subtraction \\n 3.for multipliation \\n 4.for division\\n\"))\n",
    "x = int(input(\"enter 1st number\"))\n",
    "y = int(input(\"enter 2nd number\"))\n",
    "\n",
    "match choice:\n",
    "    case 1:\n",
    "        print(sum(x,y))\n",
    "    case 2:\n",
    "        print(sub(x,y))\n",
    "    case 3:\n",
    "        print(mul(x,y))\n",
    "    case 4:\n",
    "        print(div(x,y))\n",
    "    "
   ]
  },
  {
   "cell_type": "code",
   "execution_count": null,
   "id": "d3a715c2-7d14-4a86-9fac-034bf56b48d4",
   "metadata": {},
   "outputs": [],
   "source": []
  }
 ],
 "metadata": {
  "kernelspec": {
   "display_name": "Python [conda env:envpro]",
   "language": "python",
   "name": "conda-env-envpro-py"
  },
  "language_info": {
   "codemirror_mode": {
    "name": "ipython",
    "version": 3
   },
   "file_extension": ".py",
   "mimetype": "text/x-python",
   "name": "python",
   "nbconvert_exporter": "python",
   "pygments_lexer": "ipython3",
   "version": "3.12.9"
  }
 },
 "nbformat": 4,
 "nbformat_minor": 5
}
