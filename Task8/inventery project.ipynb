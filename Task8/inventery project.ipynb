{
 "cells": [
  {
   "cell_type": "code",
   "execution_count": null,
   "id": "9d6bf538-db02-4dc5-9885-07d5e118e266",
   "metadata": {},
   "outputs": [],
   "source": [
    "product = {}\n",
    "product_order = []\n",
    "category = set()\n",
    "\n",
    "def add_product():\n",
    "  product_id = int(input(\"enter product id\"))\n",
    "  if product_id in product:\n",
    "    print(\"product already exists\")\n",
    "    return\n",
    "  \n",
    "  name = input(\"enter name\")\n",
    "  categories = input(\"enter category\")\n",
    "  stock = int(input(\"enter stock in number\"))\n",
    "\n",
    "  product[product_id] = {\"name\":(name,categories),\"stocks\":stock}\n",
    "  product_order.append(product_id)\n",
    "  category.add(categories)\n",
    "  print(\"record has been added\")"
   ]
  },
  {
   "cell_type": "code",
   "execution_count": null,
   "id": "af594c1d-a40e-43d4-9e3f-33ca1a9209f2",
   "metadata": {},
   "outputs": [],
   "source": [
    "def update_stock():\n",
    "  product_id = int(input(\"enter product id whose stock you wanna update\"))\n",
    "  \n",
    "  if product_id in product:\n",
    "    stock = int(input(\"enter stock number to update\"))\n",
    "    product[product_id][\"stocks\"] += stock\n",
    "    print(\"stock is updated\")\n",
    "  else:\n",
    "    print(\"product not found\")\n",
    "\n",
    "\n"
   ]
  },
  {
   "cell_type": "code",
   "execution_count": null,
   "id": "9bff4ee0-d912-44be-85a9-63b0ffc754d3",
   "metadata": {},
   "outputs": [],
   "source": [
    "def display_products():\n",
    "  for i in product:\n",
    "    print(f\"[product_ID]:{i} ,[name]:{product[i]['name'][0]} , [stock]:{product[i]['stocks']}\")\n",
    "    \n",
    "\n",
    "\n",
    "def display_by_category():\n",
    "  for i in product:\n",
    "    if product[i][\"name\"][1] in category:\n",
    "      print(f\"[name]:{product[i]['name'][0]} ,[category]:{product[i]['name'][1]}\")"
   ]
  },
  {
   "cell_type": "code",
   "execution_count": null,
   "id": "33c01541-28ae-472b-b5a9-d816d20f4e3b",
   "metadata": {},
   "outputs": [],
   "source": [
    "while True:\n",
    "  print(\"enter choice from 1 to 4\")\n",
    "  print(\"1.add product\")\n",
    "  print(\"2.update stock\")\n",
    "  print(\"3.display products\")\n",
    "  print(\"4.display by category\")\n",
    "  print(\"5.exit\")\n",
    "  choice = int(input())\n",
    "  if choice == 1:\n",
    "    add_product()\n",
    "  elif choice == 2:\n",
    "    update_stock()\n",
    "  elif choice == 3:\n",
    "    display_products()\n",
    "  elif choice == 4:\n",
    "    display_by_category()"
   ]
  }
 ],
 "metadata": {
  "kernelspec": {
   "display_name": "Python [conda env:base] *",
   "language": "python",
   "name": "conda-base-py"
  },
  "language_info": {
   "codemirror_mode": {
    "name": "ipython",
    "version": 3
   },
   "file_extension": ".py",
   "mimetype": "text/x-python",
   "name": "python",
   "nbconvert_exporter": "python",
   "pygments_lexer": "ipython3",
   "version": "3.12.7"
  }
 },
 "nbformat": 4,
 "nbformat_minor": 5
}
