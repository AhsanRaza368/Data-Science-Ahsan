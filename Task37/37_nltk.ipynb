{
 "cells": [
  {
   "cell_type": "code",
   "execution_count": 2,
   "id": "6f80bf17-2b15-4594-911b-a5368580430f",
   "metadata": {},
   "outputs": [
    {
     "name": "stdout",
     "output_type": "stream",
     "text": [
      "Requirement already satisfied: nltk in c:\\users\\ahsan\\anaconda3\\lib\\site-packages (3.9.1)\n",
      "Requirement already satisfied: scikit-learn in c:\\users\\ahsan\\anaconda3\\lib\\site-packages (1.5.1)\n",
      "Requirement already satisfied: click in c:\\users\\ahsan\\anaconda3\\lib\\site-packages (from nltk) (8.1.7)\n",
      "Requirement already satisfied: joblib in c:\\users\\ahsan\\anaconda3\\lib\\site-packages (from nltk) (1.4.2)\n",
      "Requirement already satisfied: regex>=2021.8.3 in c:\\users\\ahsan\\anaconda3\\lib\\site-packages (from nltk) (2024.9.11)\n",
      "Requirement already satisfied: tqdm in c:\\users\\ahsan\\anaconda3\\lib\\site-packages (from nltk) (4.66.5)\n",
      "Requirement already satisfied: numpy>=1.19.5 in c:\\users\\ahsan\\anaconda3\\lib\\site-packages (from scikit-learn) (1.26.4)\n",
      "Requirement already satisfied: scipy>=1.6.0 in c:\\users\\ahsan\\anaconda3\\lib\\site-packages (from scikit-learn) (1.13.1)\n",
      "Requirement already satisfied: threadpoolctl>=3.1.0 in c:\\users\\ahsan\\anaconda3\\lib\\site-packages (from scikit-learn) (3.5.0)\n",
      "Requirement already satisfied: colorama in c:\\users\\ahsan\\anaconda3\\lib\\site-packages (from click->nltk) (0.4.6)\n"
     ]
    }
   ],
   "source": [
    "!pip install nltk scikit-learn\n"
   ]
  },
  {
   "cell_type": "code",
   "execution_count": 16,
   "id": "733bffa0-ea77-43c7-a618-a07a678d21c4",
   "metadata": {},
   "outputs": [
    {
     "data": {
      "text/html": [
       "<div>\n",
       "<style scoped>\n",
       "    .dataframe tbody tr th:only-of-type {\n",
       "        vertical-align: middle;\n",
       "    }\n",
       "\n",
       "    .dataframe tbody tr th {\n",
       "        vertical-align: top;\n",
       "    }\n",
       "\n",
       "    .dataframe thead th {\n",
       "        text-align: right;\n",
       "    }\n",
       "</style>\n",
       "<table border=\"1\" class=\"dataframe\">\n",
       "  <thead>\n",
       "    <tr style=\"text-align: right;\">\n",
       "      <th></th>\n",
       "      <th>text</th>\n",
       "    </tr>\n",
       "  </thead>\n",
       "  <tbody>\n",
       "    <tr>\n",
       "      <th>0</th>\n",
       "      <td>@john123 This Phone is AMAZING!!! 😍😍 Totally w...</td>\n",
       "    </tr>\n",
       "    <tr>\n",
       "      <th>1</th>\n",
       "      <td>Battery life is terrible... I hate it!!</td>\n",
       "    </tr>\n",
       "    <tr>\n",
       "      <th>2</th>\n",
       "      <td>Absolutely love it 💖. Will recommend to others.</td>\n",
       "    </tr>\n",
       "  </tbody>\n",
       "</table>\n",
       "</div>"
      ],
      "text/plain": [
       "                                                text\n",
       "0  @john123 This Phone is AMAZING!!! 😍😍 Totally w...\n",
       "1            Battery life is terrible... I hate it!!\n",
       "2    Absolutely love it 💖. Will recommend to others."
      ]
     },
     "execution_count": 16,
     "metadata": {},
     "output_type": "execute_result"
    }
   ],
   "source": [
    "import pandas as pd\n",
    "data = {\n",
    "    'text': [\n",
    "        \"@john123 This Phone is AMAZING!!! 😍😍 Totally worth the price. Check it out: https://example.com\",\n",
    "        \"Battery life is terrible... I hate it!!\",\n",
    "        \"Absolutely love it 💖. Will recommend to others.\"\n",
    "    ]\n",
    "}\n",
    "\n",
    "df = pd.DataFrame(data)\n",
    "df"
   ]
  },
  {
   "cell_type": "code",
   "execution_count": 18,
   "id": "3e0f2fb8-0f27-451d-8ff5-93dc4d4782bd",
   "metadata": {},
   "outputs": [],
   "source": [
    "df[\"text\"] = df[\"text\"].str.lower()"
   ]
  },
  {
   "cell_type": "code",
   "execution_count": 20,
   "id": "36c5bade-ab13-40e9-a0bc-20c568ae913a",
   "metadata": {},
   "outputs": [
    {
     "data": {
      "text/plain": [
       "0    @john123 this phone is amazing!!! 😍😍 totally w...\n",
       "1              battery life is terrible... i hate it!!\n",
       "2      absolutely love it 💖. will recommend to others.\n",
       "Name: text, dtype: object"
      ]
     },
     "execution_count": 20,
     "metadata": {},
     "output_type": "execute_result"
    }
   ],
   "source": [
    "df[\"text\"]"
   ]
  },
  {
   "cell_type": "code",
   "execution_count": 22,
   "id": "a520c210-5b5a-4c48-b922-6b3767932b88",
   "metadata": {},
   "outputs": [],
   "source": [
    "import re\n",
    "\n",
    "def clean(text):\n",
    "    text = re.sub(r\"http\\S+\", \"\", text)         # Remove URLs\n",
    "    text = re.sub(r\"@\\w+\", \"\", text)            # Remove mentions (@username)\n",
    "    text = re.sub(r\"\\d+\", \"\", text)             # Remove digits\n",
    "    text = re.sub(r\"[^\\w\\s]\", \"\", text)         # Remove punctuation\n",
    "    return text\n"
   ]
  },
  {
   "cell_type": "code",
   "execution_count": 24,
   "id": "77da7315-8726-4874-bc21-1bc50284ea58",
   "metadata": {},
   "outputs": [],
   "source": [
    "df[\"text\"] = df[\"text\"].apply(clean)"
   ]
  },
  {
   "cell_type": "code",
   "execution_count": 26,
   "id": "a969372b-f342-4cce-84d9-3c9b09412a4f",
   "metadata": {},
   "outputs": [
    {
     "data": {
      "text/plain": [
       "0     this phone is amazing  totally worth the pric...\n",
       "1                   battery life is terrible i hate it\n",
       "2         absolutely love it  will recommend to others\n",
       "Name: text, dtype: object"
      ]
     },
     "execution_count": 26,
     "metadata": {},
     "output_type": "execute_result"
    }
   ],
   "source": [
    "df[\"text\"]"
   ]
  },
  {
   "cell_type": "code",
   "execution_count": 46,
   "id": "b7a9dfa0-062e-4115-829f-4261b0d594aa",
   "metadata": {},
   "outputs": [
    {
     "name": "stderr",
     "output_type": "stream",
     "text": [
      "[nltk_data] Downloading package punkt_tab to\n",
      "[nltk_data]     C:\\Users\\ahsan\\AppData\\Roaming\\nltk_data...\n",
      "[nltk_data]   Package punkt_tab is already up-to-date!\n",
      "[nltk_data] Downloading package wordnet to\n",
      "[nltk_data]     C:\\Users\\ahsan\\AppData\\Roaming\\nltk_data...\n",
      "[nltk_data]   Package wordnet is already up-to-date!\n",
      "[nltk_data] Downloading package stopwords to\n",
      "[nltk_data]     C:\\Users\\ahsan\\AppData\\Roaming\\nltk_data...\n",
      "[nltk_data]   Package stopwords is already up-to-date!\n"
     ]
    },
    {
     "data": {
      "text/plain": [
       "True"
      ]
     },
     "execution_count": 46,
     "metadata": {},
     "output_type": "execute_result"
    }
   ],
   "source": []
  },
  {
   "cell_type": "code",
   "execution_count": 58,
   "id": "cefaecf0-f5c3-4c11-a152-9655dd880aa4",
   "metadata": {},
   "outputs": [
    {
     "name": "stderr",
     "output_type": "stream",
     "text": [
      "[nltk_data] Downloading package punkt_tab to\n",
      "[nltk_data]     C:\\Users\\ahsan\\AppData\\Roaming\\nltk_data...\n",
      "[nltk_data]   Package punkt_tab is already up-to-date!\n",
      "[nltk_data] Downloading package wordnet to\n",
      "[nltk_data]     C:\\Users\\ahsan\\AppData\\Roaming\\nltk_data...\n",
      "[nltk_data]   Package wordnet is already up-to-date!\n",
      "[nltk_data] Downloading package stopwords to\n",
      "[nltk_data]     C:\\Users\\ahsan\\AppData\\Roaming\\nltk_data...\n",
      "[nltk_data]   Package stopwords is already up-to-date!\n"
     ]
    }
   ],
   "source": [
    "import nltk\n",
    "from nltk.tokenize import word_tokenize\n",
    "from nltk.corpus import stopwords\n",
    "from nltk.stem import PorterStemmer, WordNetLemmatizer\n",
    "\n",
    "# Correct downloads\n",
    "nltk.download('punkt_tab')          # for tokenization\n",
    "nltk.download('wordnet')        # for lemmatization\n",
    "nltk.download('stopwords')      # for stop words\n",
    "\n",
    "# Initialize resources\n",
    "stop_words = set(stopwords.words('english'))\n",
    "stemmer = PorterStemmer()\n",
    "lemmatizer = WordNetLemmatizer()\n"
   ]
  },
  {
   "cell_type": "code",
   "execution_count": 62,
   "id": "40513500-2dd1-4136-9d49-31504d417af1",
   "metadata": {
    "scrolled": true
   },
   "outputs": [
    {
     "name": "stderr",
     "output_type": "stream",
     "text": [
      "[nltk_data] Downloading package punkt to\n",
      "[nltk_data]     C:\\Users\\ahsan\\AppData\\Roaming\\nltk_data...\n",
      "[nltk_data]   Package punkt is already up-to-date!\n",
      "[nltk_data] Downloading package wordnet to\n",
      "[nltk_data]     C:\\Users\\ahsan\\AppData\\Roaming\\nltk_data...\n",
      "[nltk_data]   Package wordnet is already up-to-date!\n",
      "[nltk_data] Downloading package stopwords to\n",
      "[nltk_data]     C:\\Users\\ahsan\\AppData\\Roaming\\nltk_data...\n",
      "[nltk_data]   Package stopwords is already up-to-date!\n"
     ]
    }
   ],
   "source": [
    "import nltk\n",
    "from nltk.tokenize import word_tokenize\n",
    "from nltk.corpus import stopwords\n",
    "from nltk.stem import PorterStemmer, WordNetLemmatizer\n",
    "\n",
    "# Download required NLTK resources\n",
    "nltk.download('punkt')\n",
    "nltk.download('wordnet')\n",
    "nltk.download('stopwords')\n",
    "\n",
    "# Initialize tools\n",
    "stop_words = set(stopwords.words('english'))\n",
    "stemmer = PorterStemmer()\n",
    "lemmatizer = WordNetLemmatizer()\n",
    "\n",
    "# Sample: Apply tokenization, stopword removal, and stemming/lemmatization to each row\n",
    "def preprocess(text):\n",
    "    tokens = word_tokenize(text)                         # Tokenize\n",
    "    tokens = [w for w in tokens if w.lower() not in stop_words]  # Remove stopwords\n",
    "    stemmed = [stemmer.stem(w) for w in tokens]          # Apply stemming\n",
    "    lemmatized = [lemmatizer.lemmatize(w) for w in tokens]  # Optional: Lemmatize instead\n",
    "    return {\n",
    "        'tokens': tokens,\n",
    "        'stemmed': stemmed,\n",
    "        'lemmatized': lemmatized\n",
    "    }\n",
    "\n",
    "# Apply to DataFrame\n",
    "df[\"processed\"] = df[\"text\"].apply(preprocess)\n"
   ]
  },
  {
   "cell_type": "code",
   "execution_count": 52,
   "id": "25f04340-9a43-4ada-a136-65c0c80b9945",
   "metadata": {},
   "outputs": [
    {
     "name": "stdout",
     "output_type": "stream",
     "text": [
      "                                                text  \\\n",
      "0   this phone is amazing  totally worth the pric...   \n",
      "1                 battery life is terrible i hate it   \n",
      "2       absolutely love it  will recommend to others   \n",
      "\n",
      "                                           tokens  \\\n",
      "0  [phone, amazing, totally, worth, price, check]   \n",
      "1                 [battery, life, terrible, hate]   \n",
      "2           [absolutely, love, recommend, others]   \n",
      "\n",
      "                                     stemmed  \\\n",
      "0  [phone, amaz, total, worth, price, check]   \n",
      "1             [batteri, life, terribl, hate]   \n",
      "2          [absolut, love, recommend, other]   \n",
      "\n",
      "                                       lemmatized  \n",
      "0  [phone, amazing, totally, worth, price, check]  \n",
      "1                 [battery, life, terrible, hate]  \n",
      "2           [absolutely, love, recommend, others]  \n"
     ]
    },
    {
     "name": "stderr",
     "output_type": "stream",
     "text": [
      "[nltk_data] Downloading package punkt_tab to\n",
      "[nltk_data]     C:\\Users\\ahsan\\AppData\\Roaming\\nltk_data...\n",
      "[nltk_data]   Package punkt_tab is already up-to-date!\n",
      "[nltk_data] Downloading package stopwords to\n",
      "[nltk_data]     C:\\Users\\ahsan\\AppData\\Roaming\\nltk_data...\n",
      "[nltk_data]   Package stopwords is already up-to-date!\n",
      "[nltk_data] Downloading package wordnet to\n",
      "[nltk_data]     C:\\Users\\ahsan\\AppData\\Roaming\\nltk_data...\n",
      "[nltk_data]   Package wordnet is already up-to-date!\n"
     ]
    }
   ],
   "source": [
    "import re\n",
    "import nltk\n",
    "from nltk.tokenize import word_tokenize\n",
    "from nltk.corpus import stopwords\n",
    "from nltk.stem import PorterStemmer, WordNetLemmatizer\n",
    "nltk.download('punkt_tab')\n",
    "nltk.download('stopwords')\n",
    "nltk.download('wordnet')\n",
    "\n",
    "# Initialize tools\n",
    "stop_words = set(stopwords.words('english'))\n",
    "stemmer = PorterStemmer()\n",
    "lemmatizer = WordNetLemmatizer()\n",
    "\n",
    "# Preprocessing function\n",
    "def preprocess(text):\n",
    "    text = text.lower()\n",
    "    text = re.sub(r\"http\\S+\", \"\", text)           \n",
    "    text = re.sub(r\"@\\w+\", \"\", text)              \n",
    "    text = re.sub(r\"[^\\w\\s]\", \"\", text)           \n",
    "    text = re.sub(r\"\\d+\", \"\", text)               \n",
    "    tokens = word_tokenize(text)\n",
    "    tokens = [w for w in tokens if w not in stop_words]\n",
    "    stemmed = [stemmer.stem(w) for w in tokens]\n",
    "    lemmatized = [lemmatizer.lemmatize(w) for w in tokens]\n",
    "    return {\n",
    "        \"tokens\": tokens,\n",
    "        \"stemmed\": stemmed,\n",
    "        \"lemmatized\": lemmatized\n",
    "    }\n",
    "\n",
    "df[['tokens', 'stemmed', 'lemmatized']] = df['text'].apply(\n",
    "    lambda x: pd.Series(preprocess(x))\n",
    ")\n",
    "\n",
    "print(df[['text', 'tokens', 'stemmed', 'lemmatized']])"
   ]
  },
  {
   "cell_type": "code",
   "execution_count": 40,
   "id": "94dff87a-3ab3-4561-b067-7a13da78e7ed",
   "metadata": {},
   "outputs": [
    {
     "name": "stderr",
     "output_type": "stream",
     "text": [
      "[nltk_data] Downloading package punkt_tab to\n",
      "[nltk_data]     C:\\Users\\ahsan\\AppData\\Roaming\\nltk_data...\n",
      "[nltk_data]   Unzipping tokenizers\\punkt_tab.zip.\n"
     ]
    },
    {
     "name": "stdout",
     "output_type": "stream",
     "text": [
      "['natural', 'language', 'processing', 'amazing', 'helps', 'computers', 'understand', 'human', 'language']\n"
     ]
    }
   ],
   "source": [
    "import nltk\n",
    "from nltk.corpus import stopwords\n",
    "from nltk.tokenize import word_tokenize\n",
    "nltk.download('punkt_tab')\n",
    "\n",
    "\n",
    "text = \"Natural Language Processing is amazing and it helps computers understand human language.\"\n",
    "\n",
    "\n",
    "tokens = word_tokenize(text.lower())\n",
    "\n",
    "\n",
    "stop_words = set(stopwords.words('english'))\n",
    "\n",
    "\n",
    "filtered_tokens = [word for word in tokens if word.isalnum() and word not in stop_words]\n",
    "\n",
    "print(filtered_tokens)"
   ]
  },
  {
   "cell_type": "code",
   "execution_count": null,
   "id": "760453a4-446b-434b-afb6-b8011360b8a0",
   "metadata": {},
   "outputs": [],
   "source": []
  }
 ],
 "metadata": {
  "kernelspec": {
   "display_name": "NLTK_KERNEL",
   "language": "python",
   "name": "nltk_kernel"
  },
  "language_info": {
   "codemirror_mode": {
    "name": "ipython",
    "version": 3
   },
   "file_extension": ".py",
   "mimetype": "text/x-python",
   "name": "python",
   "nbconvert_exporter": "python",
   "pygments_lexer": "ipython3",
   "version": "3.12.9"
  }
 },
 "nbformat": 4,
 "nbformat_minor": 5
}
